{
 "cells": [
  {
   "cell_type": "code",
   "execution_count": 1,
   "metadata": {},
   "outputs": [],
   "source": [
    "#Import Libraries\n",
    "import csv\n",
    "import numpy as np\n",
    "import pandas as pd\n",
    "\n",
    "### Import Descision Tree Classifier\n",
    "from sklearn.ensemble import RandomForestRegressor\n",
    "from sklearn.neighbors import KNeighborsRegressor\n",
    "from sklearn.svm import SVR\n",
    "from sklearn.linear_model import LinearRegression\n",
    "from sklearn.ensemble import GradientBoostingRegressor\n",
    "\n",
    "from sklearn.preprocessing import scale\n",
    "from sklearn.decomposition import PCA\n",
    "from sklearn.ensemble import VotingRegressor\n",
    "\n",
    "from sklearn.model_selection import train_test_split\n",
    "from sklearn.model_selection import cross_val_score\n",
    "from sklearn.model_selection import GridSearchCV\n",
    "\n",
    "# Perform the necessary imports\n",
    "import matplotlib.pyplot as plt\n",
    "## for pearsonr correlation just feed x and y to this\n",
    "from scipy.stats import pearsonr\n",
    "pd.options.display.max_columns=60\n",
    "#Change the Number Fromat of DATA frame\n",
    "pd.options.display.float_format = '{:,.4f}'.format"
   ]
  },
  {
   "cell_type": "code",
   "execution_count": 2,
   "metadata": {},
   "outputs": [
    {
     "name": "stdout",
     "output_type": "stream",
     "text": [
      "No Missing Values in the dataset\n"
     ]
    }
   ],
   "source": [
    "### Load the Data\n",
    "seed=40\n",
    "SEED=40\n",
    "path=\"C:\\\\Users\\\\fbaharkoush\\\\IE 598 Machine Learning\\\\Homework\\\\Group Project\\\\\"\n",
    "df_Eco=pd.read_csv(path+\"MLF_GP2_EconCycle.csv\").drop(\"Date\",axis=1)\n",
    "if df_Eco.isnull().sum().sum()==0:\n",
    "    print(\"No Missing Values in the dataset\")"
   ]
  },
  {
   "cell_type": "code",
   "execution_count": 3,
   "metadata": {},
   "outputs": [
    {
     "data": {
      "text/html": [
       "<div>\n",
       "<style scoped>\n",
       "    .dataframe tbody tr th:only-of-type {\n",
       "        vertical-align: middle;\n",
       "    }\n",
       "\n",
       "    .dataframe tbody tr th {\n",
       "        vertical-align: top;\n",
       "    }\n",
       "\n",
       "    .dataframe thead th {\n",
       "        text-align: right;\n",
       "    }\n",
       "</style>\n",
       "<table border=\"1\" class=\"dataframe\">\n",
       "  <thead>\n",
       "    <tr style=\"text-align: right;\">\n",
       "      <th></th>\n",
       "      <th>T1Y Index</th>\n",
       "      <th>T2Y Index</th>\n",
       "      <th>T3Y Index</th>\n",
       "      <th>T5Y Index</th>\n",
       "      <th>T7Y Index</th>\n",
       "      <th>T10Y Index</th>\n",
       "      <th>CP1M</th>\n",
       "      <th>CP3M</th>\n",
       "      <th>CP6M</th>\n",
       "      <th>CP1M_T1Y</th>\n",
       "      <th>CP3M_T1Y</th>\n",
       "      <th>CP6M_T1Y</th>\n",
       "      <th>USPHCI</th>\n",
       "      <th>PCT 3MO FWD</th>\n",
       "      <th>PCT 6MO FWD</th>\n",
       "      <th>PCT 9MO FWD</th>\n",
       "    </tr>\n",
       "  </thead>\n",
       "  <tbody>\n",
       "    <tr>\n",
       "      <th>count</th>\n",
       "      <td>223.0000</td>\n",
       "      <td>223.0000</td>\n",
       "      <td>223.0000</td>\n",
       "      <td>223.0000</td>\n",
       "      <td>223.0000</td>\n",
       "      <td>223.0000</td>\n",
       "      <td>223.0000</td>\n",
       "      <td>223.0000</td>\n",
       "      <td>223.0000</td>\n",
       "      <td>223.0000</td>\n",
       "      <td>223.0000</td>\n",
       "      <td>223.0000</td>\n",
       "      <td>223.0000</td>\n",
       "      <td>223.0000</td>\n",
       "      <td>223.0000</td>\n",
       "      <td>223.0000</td>\n",
       "    </tr>\n",
       "    <tr>\n",
       "      <th>mean</th>\n",
       "      <td>8.0307</td>\n",
       "      <td>8.4107</td>\n",
       "      <td>8.5636</td>\n",
       "      <td>8.8087</td>\n",
       "      <td>8.9798</td>\n",
       "      <td>9.0735</td>\n",
       "      <td>7.9422</td>\n",
       "      <td>7.9369</td>\n",
       "      <td>7.8928</td>\n",
       "      <td>0.9818</td>\n",
       "      <td>0.9835</td>\n",
       "      <td>0.9827</td>\n",
       "      <td>60.5947</td>\n",
       "      <td>0.0071</td>\n",
       "      <td>0.0141</td>\n",
       "      <td>0.0211</td>\n",
       "    </tr>\n",
       "    <tr>\n",
       "      <th>std</th>\n",
       "      <td>3.1586</td>\n",
       "      <td>2.9544</td>\n",
       "      <td>2.8204</td>\n",
       "      <td>2.6477</td>\n",
       "      <td>2.5427</td>\n",
       "      <td>2.4475</td>\n",
       "      <td>3.4051</td>\n",
       "      <td>3.3294</td>\n",
       "      <td>3.1814</td>\n",
       "      <td>0.0862</td>\n",
       "      <td>0.0772</td>\n",
       "      <td>0.0672</td>\n",
       "      <td>9.5124</td>\n",
       "      <td>0.0048</td>\n",
       "      <td>0.0091</td>\n",
       "      <td>0.0130</td>\n",
       "    </tr>\n",
       "    <tr>\n",
       "      <th>min</th>\n",
       "      <td>3.1800</td>\n",
       "      <td>3.8400</td>\n",
       "      <td>4.1700</td>\n",
       "      <td>4.7100</td>\n",
       "      <td>5.0500</td>\n",
       "      <td>5.3300</td>\n",
       "      <td>3.1100</td>\n",
       "      <td>3.1400</td>\n",
       "      <td>3.1900</td>\n",
       "      <td>0.7175</td>\n",
       "      <td>0.7135</td>\n",
       "      <td>0.6985</td>\n",
       "      <td>47.0800</td>\n",
       "      <td>-0.0068</td>\n",
       "      <td>-0.0098</td>\n",
       "      <td>-0.0123</td>\n",
       "    </tr>\n",
       "    <tr>\n",
       "      <th>25%</th>\n",
       "      <td>5.7350</td>\n",
       "      <td>6.1800</td>\n",
       "      <td>6.4100</td>\n",
       "      <td>6.6950</td>\n",
       "      <td>6.9650</td>\n",
       "      <td>7.1750</td>\n",
       "      <td>5.6050</td>\n",
       "      <td>5.6450</td>\n",
       "      <td>5.6350</td>\n",
       "      <td>0.9338</td>\n",
       "      <td>0.9397</td>\n",
       "      <td>0.9454</td>\n",
       "      <td>50.3700</td>\n",
       "      <td>0.0055</td>\n",
       "      <td>0.0107</td>\n",
       "      <td>0.0144</td>\n",
       "    </tr>\n",
       "    <tr>\n",
       "      <th>50%</th>\n",
       "      <td>7.6700</td>\n",
       "      <td>8.0000</td>\n",
       "      <td>8.1300</td>\n",
       "      <td>8.3300</td>\n",
       "      <td>8.5200</td>\n",
       "      <td>8.6100</td>\n",
       "      <td>7.7300</td>\n",
       "      <td>7.7200</td>\n",
       "      <td>7.6200</td>\n",
       "      <td>0.9727</td>\n",
       "      <td>0.9779</td>\n",
       "      <td>0.9800</td>\n",
       "      <td>61.0900</td>\n",
       "      <td>0.0083</td>\n",
       "      <td>0.0162</td>\n",
       "      <td>0.0244</td>\n",
       "    </tr>\n",
       "    <tr>\n",
       "      <th>75%</th>\n",
       "      <td>9.8400</td>\n",
       "      <td>10.0750</td>\n",
       "      <td>10.3750</td>\n",
       "      <td>10.5250</td>\n",
       "      <td>10.6400</td>\n",
       "      <td>10.6850</td>\n",
       "      <td>9.3450</td>\n",
       "      <td>9.3450</td>\n",
       "      <td>9.3000</td>\n",
       "      <td>1.0330</td>\n",
       "      <td>1.0261</td>\n",
       "      <td>1.0160</td>\n",
       "      <td>67.0050</td>\n",
       "      <td>0.0102</td>\n",
       "      <td>0.0199</td>\n",
       "      <td>0.0294</td>\n",
       "    </tr>\n",
       "    <tr>\n",
       "      <th>max</th>\n",
       "      <td>16.7200</td>\n",
       "      <td>16.4600</td>\n",
       "      <td>16.2200</td>\n",
       "      <td>15.9300</td>\n",
       "      <td>15.6500</td>\n",
       "      <td>15.3200</td>\n",
       "      <td>18.9500</td>\n",
       "      <td>18.0700</td>\n",
       "      <td>16.6600</td>\n",
       "      <td>1.3392</td>\n",
       "      <td>1.2770</td>\n",
       "      <td>1.2205</td>\n",
       "      <td>79.2100</td>\n",
       "      <td>0.0203</td>\n",
       "      <td>0.0366</td>\n",
       "      <td>0.0502</td>\n",
       "    </tr>\n",
       "  </tbody>\n",
       "</table>\n",
       "</div>"
      ],
      "text/plain": [
       "       T1Y Index  T2Y Index  T3Y Index  T5Y Index  T7Y Index  T10Y Index  \\\n",
       "count   223.0000   223.0000   223.0000   223.0000   223.0000    223.0000   \n",
       "mean      8.0307     8.4107     8.5636     8.8087     8.9798      9.0735   \n",
       "std       3.1586     2.9544     2.8204     2.6477     2.5427      2.4475   \n",
       "min       3.1800     3.8400     4.1700     4.7100     5.0500      5.3300   \n",
       "25%       5.7350     6.1800     6.4100     6.6950     6.9650      7.1750   \n",
       "50%       7.6700     8.0000     8.1300     8.3300     8.5200      8.6100   \n",
       "75%       9.8400    10.0750    10.3750    10.5250    10.6400     10.6850   \n",
       "max      16.7200    16.4600    16.2200    15.9300    15.6500     15.3200   \n",
       "\n",
       "          CP1M     CP3M     CP6M  CP1M_T1Y  CP3M_T1Y  CP6M_T1Y   USPHCI  \\\n",
       "count 223.0000 223.0000 223.0000  223.0000  223.0000  223.0000 223.0000   \n",
       "mean    7.9422   7.9369   7.8928    0.9818    0.9835    0.9827  60.5947   \n",
       "std     3.4051   3.3294   3.1814    0.0862    0.0772    0.0672   9.5124   \n",
       "min     3.1100   3.1400   3.1900    0.7175    0.7135    0.6985  47.0800   \n",
       "25%     5.6050   5.6450   5.6350    0.9338    0.9397    0.9454  50.3700   \n",
       "50%     7.7300   7.7200   7.6200    0.9727    0.9779    0.9800  61.0900   \n",
       "75%     9.3450   9.3450   9.3000    1.0330    1.0261    1.0160  67.0050   \n",
       "max    18.9500  18.0700  16.6600    1.3392    1.2770    1.2205  79.2100   \n",
       "\n",
       "       PCT 3MO FWD  PCT 6MO FWD  PCT 9MO FWD  \n",
       "count     223.0000     223.0000     223.0000  \n",
       "mean        0.0071       0.0141       0.0211  \n",
       "std         0.0048       0.0091       0.0130  \n",
       "min        -0.0068      -0.0098      -0.0123  \n",
       "25%         0.0055       0.0107       0.0144  \n",
       "50%         0.0083       0.0162       0.0244  \n",
       "75%         0.0102       0.0199       0.0294  \n",
       "max         0.0203       0.0366       0.0502  "
      ]
     },
     "execution_count": 3,
     "metadata": {},
     "output_type": "execute_result"
    }
   ],
   "source": [
    "df_Eco.describe()"
   ]
  },
  {
   "cell_type": "code",
   "execution_count": 4,
   "metadata": {},
   "outputs": [
    {
     "data": {
      "text/html": [
       "<div>\n",
       "<style scoped>\n",
       "    .dataframe tbody tr th:only-of-type {\n",
       "        vertical-align: middle;\n",
       "    }\n",
       "\n",
       "    .dataframe tbody tr th {\n",
       "        vertical-align: top;\n",
       "    }\n",
       "\n",
       "    .dataframe thead th {\n",
       "        text-align: right;\n",
       "    }\n",
       "</style>\n",
       "<table border=\"1\" class=\"dataframe\">\n",
       "  <thead>\n",
       "    <tr style=\"text-align: right;\">\n",
       "      <th></th>\n",
       "      <th>T1Y Index</th>\n",
       "      <th>T2Y Index</th>\n",
       "      <th>T3Y Index</th>\n",
       "      <th>T5Y Index</th>\n",
       "      <th>T7Y Index</th>\n",
       "      <th>T10Y Index</th>\n",
       "      <th>CP1M</th>\n",
       "      <th>CP3M</th>\n",
       "      <th>CP6M</th>\n",
       "      <th>CP1M_T1Y</th>\n",
       "      <th>CP3M_T1Y</th>\n",
       "      <th>CP6M_T1Y</th>\n",
       "      <th>USPHCI</th>\n",
       "      <th>PCT 3MO FWD</th>\n",
       "      <th>PCT 6MO FWD</th>\n",
       "      <th>PCT 9MO FWD</th>\n",
       "    </tr>\n",
       "  </thead>\n",
       "  <tbody>\n",
       "    <tr>\n",
       "      <th>0</th>\n",
       "      <td>10.4100</td>\n",
       "      <td>9.8600</td>\n",
       "      <td>9.5000</td>\n",
       "      <td>9.2000</td>\n",
       "      <td>9.1400</td>\n",
       "      <td>9.1000</td>\n",
       "      <td>9.7500</td>\n",
       "      <td>9.9500</td>\n",
       "      <td>10.0100</td>\n",
       "      <td>0.9366</td>\n",
       "      <td>0.9558</td>\n",
       "      <td>0.9616</td>\n",
       "      <td>47.0800</td>\n",
       "      <td>0.0115</td>\n",
       "      <td>0.0181</td>\n",
       "      <td>0.0244</td>\n",
       "    </tr>\n",
       "  </tbody>\n",
       "</table>\n",
       "</div>"
      ],
      "text/plain": [
       "   T1Y Index  T2Y Index  T3Y Index  T5Y Index  T7Y Index  T10Y Index   CP1M  \\\n",
       "0    10.4100     9.8600     9.5000     9.2000     9.1400      9.1000 9.7500   \n",
       "\n",
       "    CP3M    CP6M  CP1M_T1Y  CP3M_T1Y  CP6M_T1Y  USPHCI  PCT 3MO FWD  \\\n",
       "0 9.9500 10.0100    0.9366    0.9558    0.9616 47.0800       0.0115   \n",
       "\n",
       "   PCT 6MO FWD  PCT 9MO FWD  \n",
       "0       0.0181       0.0244  "
      ]
     },
     "execution_count": 4,
     "metadata": {},
     "output_type": "execute_result"
    }
   ],
   "source": [
    "df_Eco.head(1)"
   ]
  },
  {
   "cell_type": "code",
   "execution_count": 5,
   "metadata": {},
   "outputs": [],
   "source": [
    "traget_variables=['USPHCI', 'PCT 3MO FWD', 'PCT 6MO FWD', 'PCT 9MO FWD']\n",
    "X_features=list(df_Eco.drop(traget_variables,axis=1).columns)"
   ]
  },
  {
   "cell_type": "code",
   "execution_count": 6,
   "metadata": {},
   "outputs": [],
   "source": [
    "X=scale(df_Eco[X_features].values)"
   ]
  },
  {
   "cell_type": "markdown",
   "metadata": {},
   "source": [
    "### PCA"
   ]
  },
  {
   "cell_type": "code",
   "execution_count": 7,
   "metadata": {
    "scrolled": true
   },
   "outputs": [
    {
     "data": {
      "text/plain": [
       "array([[ 1.11214451e+00,  6.17581349e-01, -4.41063547e-01, ...,\n",
       "         1.34097620e-02, -9.99721397e-03,  2.28652184e-03],\n",
       "       [ 1.06203268e+00,  3.41115562e-01, -3.92792807e-01, ...,\n",
       "        -6.70512415e-03, -1.91876227e-03,  6.22659904e-03],\n",
       "       [ 1.06821108e+00,  4.97441887e-01, -4.55770468e-01, ...,\n",
       "        -7.21509588e-03,  8.06870412e-04,  5.13546008e-03],\n",
       "       ...,\n",
       "       [-2.35968182e+00,  9.69941838e-02, -2.47184098e-01, ...,\n",
       "        -3.81553651e-03,  3.87635866e-03,  6.92349229e-04],\n",
       "       [-2.47206142e+00, -3.28048208e-01, -2.50716222e-01, ...,\n",
       "        -5.40530754e-03,  2.34832833e-03, -5.93912041e-04],\n",
       "       [-2.57943927e+00, -9.21334922e-01, -1.90554111e-01, ...,\n",
       "        -1.08503357e-02,  1.86035254e-03, -1.59232533e-03]])"
      ]
     },
     "execution_count": 7,
     "metadata": {},
     "output_type": "execute_result"
    }
   ],
   "source": [
    "# Create PCA instance: model\n",
    "pca_model = PCA()\n",
    "### Fit the Features value to PCA\n",
    "pca_model.fit_transform(X)"
   ]
  },
  {
   "cell_type": "code",
   "execution_count": 8,
   "metadata": {},
   "outputs": [
    {
     "data": {
      "text/html": [
       "<div>\n",
       "<style scoped>\n",
       "    .dataframe tbody tr th:only-of-type {\n",
       "        vertical-align: middle;\n",
       "    }\n",
       "\n",
       "    .dataframe tbody tr th {\n",
       "        vertical-align: top;\n",
       "    }\n",
       "\n",
       "    .dataframe thead th {\n",
       "        text-align: right;\n",
       "    }\n",
       "</style>\n",
       "<table border=\"1\" class=\"dataframe\">\n",
       "  <thead>\n",
       "    <tr style=\"text-align: right;\">\n",
       "      <th></th>\n",
       "      <th>Features</th>\n",
       "      <th>PCA_Exp_Var</th>\n",
       "      <th>Cummulative Exp Var</th>\n",
       "    </tr>\n",
       "  </thead>\n",
       "  <tbody>\n",
       "    <tr>\n",
       "      <th>0</th>\n",
       "      <td>T1Y Index</td>\n",
       "      <td>0.7250</td>\n",
       "      <td>0.7250</td>\n",
       "    </tr>\n",
       "    <tr>\n",
       "      <th>1</th>\n",
       "      <td>T2Y Index</td>\n",
       "      <td>0.2505</td>\n",
       "      <td>0.9755</td>\n",
       "    </tr>\n",
       "    <tr>\n",
       "      <th>2</th>\n",
       "      <td>T3Y Index</td>\n",
       "      <td>0.0145</td>\n",
       "      <td>0.9899</td>\n",
       "    </tr>\n",
       "    <tr>\n",
       "      <th>3</th>\n",
       "      <td>T5Y Index</td>\n",
       "      <td>0.0085</td>\n",
       "      <td>0.9984</td>\n",
       "    </tr>\n",
       "    <tr>\n",
       "      <th>4</th>\n",
       "      <td>T7Y Index</td>\n",
       "      <td>0.0007</td>\n",
       "      <td>0.9991</td>\n",
       "    </tr>\n",
       "  </tbody>\n",
       "</table>\n",
       "</div>"
      ],
      "text/plain": [
       "    Features  PCA_Exp_Var  Cummulative Exp Var\n",
       "0  T1Y Index       0.7250               0.7250\n",
       "1  T2Y Index       0.2505               0.9755\n",
       "2  T3Y Index       0.0145               0.9899\n",
       "3  T5Y Index       0.0085               0.9984\n",
       "4  T7Y Index       0.0007               0.9991"
      ]
     },
     "execution_count": 8,
     "metadata": {},
     "output_type": "execute_result"
    }
   ],
   "source": [
    "df_pca_exp_var=pd.DataFrame({\"Features\":X_features,\n",
    "              \"PCA_Exp_Var\":pca_model.explained_variance_ratio_}).sort_values(\"PCA_Exp_Var\",ascending=False)\n",
    "df_pca_exp_var[\"Cummulative Exp Var\"]=df_pca_exp_var[\"PCA_Exp_Var\"].cumsum()\n",
    "df_pca_exp_var.head()"
   ]
  },
  {
   "cell_type": "code",
   "execution_count": 9,
   "metadata": {},
   "outputs": [
    {
     "data": {
      "image/png": "[encoded data removed]",
      "text/plain": [
       "<Figure size 432x288 with 1 Axes>"
      ]
     },
     "metadata": {
      "needs_background": "light"
     },
     "output_type": "display_data"
    }
   ],
   "source": [
    "plotX = df_pca_exp_var.iloc[:, 0]\n",
    "plotY1 = df_pca_exp_var.iloc[:, 1]\n",
    "plotY2 = df_pca_exp_var.iloc[:, 2]\n",
    "plt.xticks(rotation=90)\n",
    "plt.plot(plotX, plotY1)\n",
    "plt.plot(plotX, plotY2)\n",
    "plt.legend(['PCA_Exp_Var', 'Cummulative Exp Var'])\n",
    "plt.tick_params(axis='x', which='major', labelsize=8)\n",
    "plt.tight_layout()"
   ]
  },
  {
   "cell_type": "markdown",
   "metadata": {},
   "source": [
    "The PCA shows 99% of the data is captured through the first 4 features."
   ]
  },
  {
   "cell_type": "code",
   "execution_count": 10,
   "metadata": {
    "scrolled": true
   },
   "outputs": [],
   "source": [
    "### Selecting Features thats explaince 99% of the data accroding to PCA\n",
    "X_features_pca=list(df_pca_exp_var[df_pca_exp_var[\"Cummulative Exp Var\"]<=.999][\"Features\"])\n",
    "X_pca=scale(df_Eco[X_features_pca].values)"
   ]
  },
  {
   "cell_type": "code",
   "execution_count": 13,
   "metadata": {},
   "outputs": [
    {
     "name": "stdout",
     "output_type": "stream",
     "text": [
      "List of Principle Components ['T1Y Index', 'T2Y Index', 'T3Y Index', 'T5Y Index']\n"
     ]
    }
   ],
   "source": [
    "print(\"List of Principle Components\",X_features_pca)"
   ]
  },
  {
   "cell_type": "markdown",
   "metadata": {},
   "source": [
    "### 1. Linear Regression"
   ]
  },
  {
   "cell_type": "code",
   "execution_count": 11,
   "metadata": {},
   "outputs": [],
   "source": [
    "lr_model=LinearRegression()"
   ]
  },
  {
   "cell_type": "code",
   "execution_count": 12,
   "metadata": {},
   "outputs": [],
   "source": [
    "list_of_r_square_train=[]\n",
    "list_of_r_square_test=[]\n",
    "for y_variable in traget_variables:\n",
    "    y=scale(df_Eco[y_variable].values)\n",
    "    X_train,X_test,y_train,y_test=train_test_split(X,y,test_size=0.25,random_state=SEED)\n",
    "    lr_model.fit(X_train,y_train)\n",
    "    list_of_r_square_train.append(lr_model.score(X_train, y_train))\n",
    "    list_of_r_square_test.append(lr_model.score(X_test, y_test))"
   ]
  },
  {
   "cell_type": "code",
   "execution_count": 14,
   "metadata": {},
   "outputs": [
    {
     "data": {
      "text/html": [
       "<div>\n",
       "<style scoped>\n",
       "    .dataframe tbody tr th:only-of-type {\n",
       "        vertical-align: middle;\n",
       "    }\n",
       "\n",
       "    .dataframe tbody tr th {\n",
       "        vertical-align: top;\n",
       "    }\n",
       "\n",
       "    .dataframe thead th {\n",
       "        text-align: right;\n",
       "    }\n",
       "</style>\n",
       "<table border=\"1\" class=\"dataframe\">\n",
       "  <thead>\n",
       "    <tr style=\"text-align: right;\">\n",
       "      <th></th>\n",
       "      <th>Target Varibale</th>\n",
       "      <th>R Score Train</th>\n",
       "      <th>R Score Test</th>\n",
       "      <th>PCA</th>\n",
       "      <th>Model</th>\n",
       "    </tr>\n",
       "  </thead>\n",
       "  <tbody>\n",
       "    <tr>\n",
       "      <th>0</th>\n",
       "      <td>USPHCI</td>\n",
       "      <td>0.8274</td>\n",
       "      <td>0.7349</td>\n",
       "      <td>False</td>\n",
       "      <td>Linear Regression</td>\n",
       "    </tr>\n",
       "    <tr>\n",
       "      <th>1</th>\n",
       "      <td>PCT 3MO FWD</td>\n",
       "      <td>0.2913</td>\n",
       "      <td>0.0413</td>\n",
       "      <td>False</td>\n",
       "      <td>Linear Regression</td>\n",
       "    </tr>\n",
       "    <tr>\n",
       "      <th>2</th>\n",
       "      <td>PCT 6MO FWD</td>\n",
       "      <td>0.3330</td>\n",
       "      <td>0.1293</td>\n",
       "      <td>False</td>\n",
       "      <td>Linear Regression</td>\n",
       "    </tr>\n",
       "    <tr>\n",
       "      <th>3</th>\n",
       "      <td>PCT 9MO FWD</td>\n",
       "      <td>0.4048</td>\n",
       "      <td>0.1827</td>\n",
       "      <td>False</td>\n",
       "      <td>Linear Regression</td>\n",
       "    </tr>\n",
       "  </tbody>\n",
       "</table>\n",
       "</div>"
      ],
      "text/plain": [
       "  Target Varibale  R Score Train  R Score Test    PCA              Model\n",
       "0          USPHCI         0.8274        0.7349  False  Linear Regression\n",
       "1     PCT 3MO FWD         0.2913        0.0413  False  Linear Regression\n",
       "2     PCT 6MO FWD         0.3330        0.1293  False  Linear Regression\n",
       "3     PCT 9MO FWD         0.4048        0.1827  False  Linear Regression"
      ]
     },
     "execution_count": 14,
     "metadata": {},
     "output_type": "execute_result"
    }
   ],
   "source": [
    "df_linear_reg_summarry=pd.DataFrame({\"Target Varibale\":traget_variables,\n",
    "              \"R Score Train\":list_of_r_square_train,\n",
    "             \"R Score Test\":list_of_r_square_test})\n",
    "df_linear_reg_summarry[\"PCA\"]=False\n",
    "df_linear_reg_summarry['Model']='Linear Regression'\n",
    "df_linear_reg_summarry"
   ]
  },
  {
   "cell_type": "code",
   "execution_count": 15,
   "metadata": {},
   "outputs": [
    {
     "data": {
      "text/plain": [
       "<matplotlib.axes._subplots.AxesSubplot at 0x1dd6a2df048>"
      ]
     },
     "execution_count": 15,
     "metadata": {},
     "output_type": "execute_result"
    },
    {
     "data": {
      "image/png": "[encoded data removed]",
      "text/plain": [
       "<Figure size 468x468 with 1 Axes>"
      ]
     },
     "metadata": {
      "needs_background": "light"
     },
     "output_type": "display_data"
    }
   ],
   "source": [
    "df_linear_reg_summarry.plot(\"Target Varibale\",kind='barh',figsize=(6.5,6.5),title=\"Linear Regression\")"
   ]
  },
  {
   "cell_type": "markdown",
   "metadata": {},
   "source": [
    "### 1.1 Linear Regression"
   ]
  },
  {
   "cell_type": "code",
   "execution_count": 16,
   "metadata": {},
   "outputs": [],
   "source": [
    "del X_train,X_test,y_train,y_test , lr_model"
   ]
  },
  {
   "cell_type": "code",
   "execution_count": 17,
   "metadata": {},
   "outputs": [],
   "source": [
    "lr_model=LinearRegression()"
   ]
  },
  {
   "cell_type": "code",
   "execution_count": 18,
   "metadata": {},
   "outputs": [],
   "source": [
    "list_of_r_square_train=[]\n",
    "list_of_r_square_test=[]\n",
    "for y_variable in traget_variables:\n",
    "    y=scale(df_Eco[y_variable].values)\n",
    "    X_train,X_test,y_train,y_test=train_test_split(X_pca,y,test_size=0.25,random_state=212)\n",
    "    lr_model.fit(X_train,y_train)\n",
    "    list_of_r_square_train.append(lr_model.score(X_train, y_train))\n",
    "    list_of_r_square_test.append(lr_model.score(X_test, y_test))"
   ]
  },
  {
   "cell_type": "code",
   "execution_count": 21,
   "metadata": {},
   "outputs": [
    {
     "data": {
      "text/html": [
       "<div>\n",
       "<style scoped>\n",
       "    .dataframe tbody tr th:only-of-type {\n",
       "        vertical-align: middle;\n",
       "    }\n",
       "\n",
       "    .dataframe tbody tr th {\n",
       "        vertical-align: top;\n",
       "    }\n",
       "\n",
       "    .dataframe thead th {\n",
       "        text-align: right;\n",
       "    }\n",
       "</style>\n",
       "<table border=\"1\" class=\"dataframe\">\n",
       "  <thead>\n",
       "    <tr style=\"text-align: right;\">\n",
       "      <th></th>\n",
       "      <th>Target Varibale</th>\n",
       "      <th>R Score Train</th>\n",
       "      <th>R Score Test</th>\n",
       "      <th>PCA</th>\n",
       "      <th>Model</th>\n",
       "    </tr>\n",
       "  </thead>\n",
       "  <tbody>\n",
       "    <tr>\n",
       "      <th>0</th>\n",
       "      <td>USPHCI</td>\n",
       "      <td>0.7093</td>\n",
       "      <td>0.7157</td>\n",
       "      <td>True</td>\n",
       "      <td>Linear Regression</td>\n",
       "    </tr>\n",
       "    <tr>\n",
       "      <th>1</th>\n",
       "      <td>PCT 3MO FWD</td>\n",
       "      <td>0.2246</td>\n",
       "      <td>0.1112</td>\n",
       "      <td>True</td>\n",
       "      <td>Linear Regression</td>\n",
       "    </tr>\n",
       "    <tr>\n",
       "      <th>2</th>\n",
       "      <td>PCT 6MO FWD</td>\n",
       "      <td>0.2875</td>\n",
       "      <td>0.2069</td>\n",
       "      <td>True</td>\n",
       "      <td>Linear Regression</td>\n",
       "    </tr>\n",
       "    <tr>\n",
       "      <th>3</th>\n",
       "      <td>PCT 9MO FWD</td>\n",
       "      <td>0.3521</td>\n",
       "      <td>0.3059</td>\n",
       "      <td>True</td>\n",
       "      <td>Linear Regression</td>\n",
       "    </tr>\n",
       "  </tbody>\n",
       "</table>\n",
       "</div>"
      ],
      "text/plain": [
       "  Target Varibale  R Score Train  R Score Test   PCA              Model\n",
       "0          USPHCI         0.7093        0.7157  True  Linear Regression\n",
       "1     PCT 3MO FWD         0.2246        0.1112  True  Linear Regression\n",
       "2     PCT 6MO FWD         0.2875        0.2069  True  Linear Regression\n",
       "3     PCT 9MO FWD         0.3521        0.3059  True  Linear Regression"
      ]
     },
     "execution_count": 21,
     "metadata": {},
     "output_type": "execute_result"
    }
   ],
   "source": [
    "df_linear_reg_summary_pca=pd.DataFrame({\"Target Varibale\":traget_variables,\n",
    "              \"R Score Train\":list_of_r_square_train,\n",
    "             \"R Score Test\":list_of_r_square_test})\n",
    "df_linear_reg_summary_pca[\"PCA\"]=True\n",
    "df_linear_reg_summary_pca[\"Model\"]=\"Linear Regression\"\n",
    "df_linear_reg_summary_pca"
   ]
  },
  {
   "cell_type": "code",
   "execution_count": 22,
   "metadata": {},
   "outputs": [
    {
     "data": {
      "text/plain": [
       "<matplotlib.axes._subplots.AxesSubplot at 0x1dd6f593c88>"
      ]
     },
     "execution_count": 22,
     "metadata": {},
     "output_type": "execute_result"
    },
    {
     "data": {
      "image/png": "[encoded data removed]",
      "text/plain": [
       "<Figure size 468x468 with 1 Axes>"
      ]
     },
     "metadata": {
      "needs_background": "light"
     },
     "output_type": "display_data"
    }
   ],
   "source": [
    "df_linear_reg_summary_pca.plot(\"Target Varibale\",kind='barh',figsize=(6.5,6.5),\n",
    "                               title=\"Linear Regression 4 Principle Components\")"
   ]
  },
  {
   "cell_type": "markdown",
   "metadata": {},
   "source": [
    "### 2.  Fitting SVR"
   ]
  },
  {
   "cell_type": "code",
   "execution_count": 23,
   "metadata": {},
   "outputs": [],
   "source": [
    "del X_train,X_test,y_train,y_test"
   ]
  },
  {
   "cell_type": "code",
   "execution_count": 24,
   "metadata": {},
   "outputs": [],
   "source": [
    "### Instantiate a random forests regressor 'rf'\n",
    "svr_model = SVR(gamma='auto')\n",
    "### Parameter\n",
    "params_svr = {\n",
    "'kernel': ['linear', 'poly', 'rbf', 'sigmoid'],\n",
    "'degree': [1,2,3,4, 6, 8],\n",
    "'C': [1,2,3,4,5]}"
   ]
  },
  {
   "cell_type": "code",
   "execution_count": 25,
   "metadata": {},
   "outputs": [
    {
     "name": "stdout",
     "output_type": "stream",
     "text": [
      "Fitting 10 folds for each of 120 candidates, totalling 1200 fits\n"
     ]
    },
    {
     "name": "stderr",
     "output_type": "stream",
     "text": [
      "[Parallel(n_jobs=-1)]: Using backend LokyBackend with 4 concurrent workers.\n",
      "[Parallel(n_jobs=-1)]: Done 1200 out of 1200 | elapsed:    4.1s finished\n",
      "[Parallel(n_jobs=-1)]: Using backend LokyBackend with 4 concurrent workers.\n"
     ]
    },
    {
     "name": "stdout",
     "output_type": "stream",
     "text": [
      "Fitting 10 folds for each of 120 candidates, totalling 1200 fits\n"
     ]
    },
    {
     "name": "stderr",
     "output_type": "stream",
     "text": [
      "[Parallel(n_jobs=-1)]: Done 1200 out of 1200 | elapsed:    3.2s finished\n",
      "[Parallel(n_jobs=-1)]: Using backend LokyBackend with 4 concurrent workers.\n"
     ]
    },
    {
     "name": "stdout",
     "output_type": "stream",
     "text": [
      "Fitting 10 folds for each of 120 candidates, totalling 1200 fits\n"
     ]
    },
    {
     "name": "stderr",
     "output_type": "stream",
     "text": [
      "[Parallel(n_jobs=-1)]: Done 1200 out of 1200 | elapsed:    3.4s finished\n",
      "[Parallel(n_jobs=-1)]: Using backend LokyBackend with 4 concurrent workers.\n"
     ]
    },
    {
     "name": "stdout",
     "output_type": "stream",
     "text": [
      "Fitting 10 folds for each of 120 candidates, totalling 1200 fits\n"
     ]
    },
    {
     "name": "stderr",
     "output_type": "stream",
     "text": [
      "[Parallel(n_jobs=-1)]: Done 1200 out of 1200 | elapsed:    3.9s finished\n"
     ]
    }
   ],
   "source": [
    "list_of_r_square_train=[]\n",
    "list_of_r_square_test=[]\n",
    "list_of_r_best_param=[]\n",
    "list_of_grid_sarch_best_score=[]\n",
    "list_of_svr_best_estimator=[]\n",
    "for y_variable in traget_variables:\n",
    "    y=scale(df_Eco[y_variable].values)\n",
    "    X_train,X_test,y_train,y_test=train_test_split(X,y,test_size=0.25,random_state=seed)\n",
    "    svr_grid_search=GridSearchCV(estimator=svr_model,\n",
    "                 param_grid=params_svr,iid=False,\n",
    "                 cv=10,\n",
    "                 scoring='r2',\n",
    "                 verbose=1,\n",
    "                 n_jobs=-1)\n",
    "    svr_grid_search.fit(X_train, y_train)\n",
    "    list_of_r_square_train.append(svr_grid_search.score(X_train, y_train))\n",
    "    list_of_r_square_test.append(svr_grid_search.score(X_test, y_test))\n",
    "    list_of_grid_sarch_best_score.append(svr_grid_search.best_score_)\n",
    "    list_of_svr_best_estimator.append(svr_grid_search.best_estimator_)\n",
    "    list_of_r_best_param.append(svr_grid_search.best_params_)"
   ]
  },
  {
   "cell_type": "code",
   "execution_count": 27,
   "metadata": {},
   "outputs": [
    {
     "data": {
      "text/html": [
       "<div>\n",
       "<style scoped>\n",
       "    .dataframe tbody tr th:only-of-type {\n",
       "        vertical-align: middle;\n",
       "    }\n",
       "\n",
       "    .dataframe tbody tr th {\n",
       "        vertical-align: top;\n",
       "    }\n",
       "\n",
       "    .dataframe thead th {\n",
       "        text-align: right;\n",
       "    }\n",
       "</style>\n",
       "<table border=\"1\" class=\"dataframe\">\n",
       "  <thead>\n",
       "    <tr style=\"text-align: right;\">\n",
       "      <th></th>\n",
       "      <th>Target Varibale</th>\n",
       "      <th>R Score Train</th>\n",
       "      <th>R Score Test</th>\n",
       "      <th>Grid Search Best Score</th>\n",
       "      <th>Best Estimator</th>\n",
       "      <th>Best Parameters</th>\n",
       "      <th>PCA</th>\n",
       "      <th>Model</th>\n",
       "    </tr>\n",
       "  </thead>\n",
       "  <tbody>\n",
       "    <tr>\n",
       "      <th>0</th>\n",
       "      <td>USPHCI</td>\n",
       "      <td>0.8861</td>\n",
       "      <td>0.8333</td>\n",
       "      <td>0.8193</td>\n",
       "      <td>SVR(C=5, cache_size=200, coef0=0.0, degree=1, ...</td>\n",
       "      <td>{'C': 5, 'degree': 1, 'kernel': 'rbf'}</td>\n",
       "      <td>False</td>\n",
       "      <td>SVR</td>\n",
       "    </tr>\n",
       "    <tr>\n",
       "      <th>1</th>\n",
       "      <td>PCT 3MO FWD</td>\n",
       "      <td>0.5703</td>\n",
       "      <td>0.4249</td>\n",
       "      <td>0.3425</td>\n",
       "      <td>SVR(C=2, cache_size=200, coef0=0.0, degree=1, ...</td>\n",
       "      <td>{'C': 2, 'degree': 1, 'kernel': 'rbf'}</td>\n",
       "      <td>False</td>\n",
       "      <td>SVR</td>\n",
       "    </tr>\n",
       "    <tr>\n",
       "      <th>2</th>\n",
       "      <td>PCT 6MO FWD</td>\n",
       "      <td>0.6293</td>\n",
       "      <td>0.5779</td>\n",
       "      <td>0.4128</td>\n",
       "      <td>SVR(C=3, cache_size=200, coef0=0.0, degree=1, ...</td>\n",
       "      <td>{'C': 3, 'degree': 1, 'kernel': 'rbf'}</td>\n",
       "      <td>False</td>\n",
       "      <td>SVR</td>\n",
       "    </tr>\n",
       "    <tr>\n",
       "      <th>3</th>\n",
       "      <td>PCT 9MO FWD</td>\n",
       "      <td>0.6634</td>\n",
       "      <td>0.6391</td>\n",
       "      <td>0.5191</td>\n",
       "      <td>SVR(C=3, cache_size=200, coef0=0.0, degree=1, ...</td>\n",
       "      <td>{'C': 3, 'degree': 1, 'kernel': 'rbf'}</td>\n",
       "      <td>False</td>\n",
       "      <td>SVR</td>\n",
       "    </tr>\n",
       "  </tbody>\n",
       "</table>\n",
       "</div>"
      ],
      "text/plain": [
       "  Target Varibale  R Score Train  R Score Test  Grid Search Best Score  \\\n",
       "0          USPHCI         0.8861        0.8333                  0.8193   \n",
       "1     PCT 3MO FWD         0.5703        0.4249                  0.3425   \n",
       "2     PCT 6MO FWD         0.6293        0.5779                  0.4128   \n",
       "3     PCT 9MO FWD         0.6634        0.6391                  0.5191   \n",
       "\n",
       "                                      Best Estimator  \\\n",
       "0  SVR(C=5, cache_size=200, coef0=0.0, degree=1, ...   \n",
       "1  SVR(C=2, cache_size=200, coef0=0.0, degree=1, ...   \n",
       "2  SVR(C=3, cache_size=200, coef0=0.0, degree=1, ...   \n",
       "3  SVR(C=3, cache_size=200, coef0=0.0, degree=1, ...   \n",
       "\n",
       "                          Best Parameters    PCA Model  \n",
       "0  {'C': 5, 'degree': 1, 'kernel': 'rbf'}  False   SVR  \n",
       "1  {'C': 2, 'degree': 1, 'kernel': 'rbf'}  False   SVR  \n",
       "2  {'C': 3, 'degree': 1, 'kernel': 'rbf'}  False   SVR  \n",
       "3  {'C': 3, 'degree': 1, 'kernel': 'rbf'}  False   SVR  "
      ]
     },
     "execution_count": 27,
     "metadata": {},
     "output_type": "execute_result"
    }
   ],
   "source": [
    "df_svr_summary=pd.DataFrame({\"Target Varibale\":traget_variables,\n",
    "              \"R Score Train\":list_of_r_square_train,\n",
    "             \"R Score Test\":list_of_r_square_test,\n",
    "             \"Grid Search Best Score\":list_of_grid_sarch_best_score,\n",
    "             \"Best Estimator\":list_of_svr_best_estimator,\n",
    "             \"Best Parameters\":list_of_r_best_param})\n",
    "df_svr_summary[\"PCA\"]=False\n",
    "df_svr_summary[\"Model\"]=\"SVR\"\n",
    "df_svr_summary"
   ]
  },
  {
   "cell_type": "code",
   "execution_count": 28,
   "metadata": {},
   "outputs": [
    {
     "data": {
      "text/plain": [
       "<matplotlib.axes._subplots.AxesSubplot at 0x1dd6f889160>"
      ]
     },
     "execution_count": 28,
     "metadata": {},
     "output_type": "execute_result"
    },
    {
     "data": {
      "image/png": "[encoded data removed]",
      "text/plain": [
       "<Figure size 468x468 with 1 Axes>"
      ]
     },
     "metadata": {
      "needs_background": "light"
     },
     "output_type": "display_data"
    }
   ],
   "source": [
    "df_svr_summary.plot(\"Target Varibale\",kind='barh',figsize=(6.5,6.5),title=\"SVR\")"
   ]
  },
  {
   "cell_type": "markdown",
   "metadata": {},
   "source": [
    "### 2.1 SVR with 4 Principle Components  Explananing 99% of Variance "
   ]
  },
  {
   "cell_type": "code",
   "execution_count": 29,
   "metadata": {},
   "outputs": [],
   "source": [
    "del X_train,X_test,y_train,y_test, svr_model , svr_grid_search"
   ]
  },
  {
   "cell_type": "code",
   "execution_count": 30,
   "metadata": {},
   "outputs": [],
   "source": [
    "### Instantiate a random forests regressor 'rf'\n",
    "svr_model = SVR(gamma='auto')\n",
    "### Parameter\n",
    "params_svr = {\n",
    "'kernel': ['linear', 'poly', 'rbf', 'sigmoid'],\n",
    "'degree': [1,2,3,4, 6, 8],\n",
    "'C': [1,2,3,4,5]}"
   ]
  },
  {
   "cell_type": "code",
   "execution_count": 31,
   "metadata": {},
   "outputs": [
    {
     "name": "stdout",
     "output_type": "stream",
     "text": [
      "Fitting 10 folds for each of 120 candidates, totalling 1200 fits\n"
     ]
    },
    {
     "name": "stderr",
     "output_type": "stream",
     "text": [
      "[Parallel(n_jobs=-1)]: Using backend LokyBackend with 4 concurrent workers.\n",
      "[Parallel(n_jobs=-1)]: Done 1200 out of 1200 | elapsed:  1.8min finished\n",
      "[Parallel(n_jobs=-1)]: Using backend LokyBackend with 4 concurrent workers.\n"
     ]
    },
    {
     "name": "stdout",
     "output_type": "stream",
     "text": [
      "Fitting 10 folds for each of 120 candidates, totalling 1200 fits\n"
     ]
    },
    {
     "name": "stderr",
     "output_type": "stream",
     "text": [
      "[Parallel(n_jobs=-1)]: Done 1200 out of 1200 | elapsed:  1.8min finished\n",
      "[Parallel(n_jobs=-1)]: Using backend LokyBackend with 4 concurrent workers.\n"
     ]
    },
    {
     "name": "stdout",
     "output_type": "stream",
     "text": [
      "Fitting 10 folds for each of 120 candidates, totalling 1200 fits\n"
     ]
    },
    {
     "name": "stderr",
     "output_type": "stream",
     "text": [
      "[Parallel(n_jobs=-1)]: Done 1200 out of 1200 | elapsed:  1.5min finished\n",
      "[Parallel(n_jobs=-1)]: Using backend LokyBackend with 4 concurrent workers.\n"
     ]
    },
    {
     "name": "stdout",
     "output_type": "stream",
     "text": [
      "Fitting 10 folds for each of 120 candidates, totalling 1200 fits\n"
     ]
    },
    {
     "name": "stderr",
     "output_type": "stream",
     "text": [
      "[Parallel(n_jobs=-1)]: Done 1200 out of 1200 | elapsed:  2.1min finished\n"
     ]
    }
   ],
   "source": [
    "list_of_r_square_train=[]\n",
    "list_of_r_square_test=[]\n",
    "list_of_r_best_param=[]\n",
    "list_of_grid_sarch_best_score=[]\n",
    "list_of_svr_best_estimator=[]\n",
    "for y_variable in traget_variables:\n",
    "    y=scale(df_Eco[y_variable].values)\n",
    "    X_train,X_test,y_train,y_test=train_test_split(X_pca,y,test_size=0.25,random_state=seed)\n",
    "    svr_grid_search=GridSearchCV(estimator=svr_model,\n",
    "                 param_grid=params_svr,iid=False,\n",
    "                 cv=10,\n",
    "                 scoring='r2',\n",
    "                 verbose=1,\n",
    "                 n_jobs=-1)\n",
    "    svr_grid_search.fit(X_train, y_train)\n",
    "    list_of_r_square_train.append(svr_grid_search.score(X_train, y_train))\n",
    "    list_of_r_square_test.append(svr_grid_search.score(X_test, y_test))\n",
    "    list_of_grid_sarch_best_score.append(svr_grid_search.best_score_)\n",
    "    list_of_svr_best_estimator.append(svr_grid_search.best_estimator_)\n",
    "    list_of_r_best_param.append(svr_grid_search.best_params_)"
   ]
  },
  {
   "cell_type": "code",
   "execution_count": 34,
   "metadata": {},
   "outputs": [
    {
     "data": {
      "text/html": [
       "<div>\n",
       "<style scoped>\n",
       "    .dataframe tbody tr th:only-of-type {\n",
       "        vertical-align: middle;\n",
       "    }\n",
       "\n",
       "    .dataframe tbody tr th {\n",
       "        vertical-align: top;\n",
       "    }\n",
       "\n",
       "    .dataframe thead th {\n",
       "        text-align: right;\n",
       "    }\n",
       "</style>\n",
       "<table border=\"1\" class=\"dataframe\">\n",
       "  <thead>\n",
       "    <tr style=\"text-align: right;\">\n",
       "      <th></th>\n",
       "      <th>Target Varibale</th>\n",
       "      <th>R Score Train</th>\n",
       "      <th>R Score Test</th>\n",
       "      <th>Grid Search Best Score</th>\n",
       "      <th>Best Estimator</th>\n",
       "      <th>Best Parameters</th>\n",
       "      <th>PCA</th>\n",
       "      <th>Model</th>\n",
       "    </tr>\n",
       "  </thead>\n",
       "  <tbody>\n",
       "    <tr>\n",
       "      <th>0</th>\n",
       "      <td>USPHCI</td>\n",
       "      <td>0.7779</td>\n",
       "      <td>0.7525</td>\n",
       "      <td>0.7244</td>\n",
       "      <td>SVR(C=4, cache_size=200, coef0=0.0, degree=1, ...</td>\n",
       "      <td>{'C': 4, 'degree': 1, 'kernel': 'rbf'}</td>\n",
       "      <td>True</td>\n",
       "      <td>SVR</td>\n",
       "    </tr>\n",
       "    <tr>\n",
       "      <th>1</th>\n",
       "      <td>PCT 3MO FWD</td>\n",
       "      <td>0.4316</td>\n",
       "      <td>0.2722</td>\n",
       "      <td>0.2216</td>\n",
       "      <td>SVR(C=2, cache_size=200, coef0=0.0, degree=1, ...</td>\n",
       "      <td>{'C': 2, 'degree': 1, 'kernel': 'rbf'}</td>\n",
       "      <td>True</td>\n",
       "      <td>SVR</td>\n",
       "    </tr>\n",
       "    <tr>\n",
       "      <th>2</th>\n",
       "      <td>PCT 6MO FWD</td>\n",
       "      <td>0.5150</td>\n",
       "      <td>0.4544</td>\n",
       "      <td>0.3109</td>\n",
       "      <td>SVR(C=5, cache_size=200, coef0=0.0, degree=1, ...</td>\n",
       "      <td>{'C': 5, 'degree': 1, 'kernel': 'rbf'}</td>\n",
       "      <td>True</td>\n",
       "      <td>SVR</td>\n",
       "    </tr>\n",
       "    <tr>\n",
       "      <th>3</th>\n",
       "      <td>PCT 9MO FWD</td>\n",
       "      <td>0.5351</td>\n",
       "      <td>0.5345</td>\n",
       "      <td>0.4164</td>\n",
       "      <td>SVR(C=5, cache_size=200, coef0=0.0, degree=1, ...</td>\n",
       "      <td>{'C': 5, 'degree': 1, 'kernel': 'rbf'}</td>\n",
       "      <td>True</td>\n",
       "      <td>SVR</td>\n",
       "    </tr>\n",
       "  </tbody>\n",
       "</table>\n",
       "</div>"
      ],
      "text/plain": [
       "  Target Varibale  R Score Train  R Score Test  Grid Search Best Score  \\\n",
       "0          USPHCI         0.7779        0.7525                  0.7244   \n",
       "1     PCT 3MO FWD         0.4316        0.2722                  0.2216   \n",
       "2     PCT 6MO FWD         0.5150        0.4544                  0.3109   \n",
       "3     PCT 9MO FWD         0.5351        0.5345                  0.4164   \n",
       "\n",
       "                                      Best Estimator  \\\n",
       "0  SVR(C=4, cache_size=200, coef0=0.0, degree=1, ...   \n",
       "1  SVR(C=2, cache_size=200, coef0=0.0, degree=1, ...   \n",
       "2  SVR(C=5, cache_size=200, coef0=0.0, degree=1, ...   \n",
       "3  SVR(C=5, cache_size=200, coef0=0.0, degree=1, ...   \n",
       "\n",
       "                          Best Parameters   PCA Model  \n",
       "0  {'C': 4, 'degree': 1, 'kernel': 'rbf'}  True   SVR  \n",
       "1  {'C': 2, 'degree': 1, 'kernel': 'rbf'}  True   SVR  \n",
       "2  {'C': 5, 'degree': 1, 'kernel': 'rbf'}  True   SVR  \n",
       "3  {'C': 5, 'degree': 1, 'kernel': 'rbf'}  True   SVR  "
      ]
     },
     "execution_count": 34,
     "metadata": {},
     "output_type": "execute_result"
    }
   ],
   "source": [
    "df_svr_summary_pca=pd.DataFrame({\"Target Varibale\":traget_variables,\n",
    "              \"R Score Train\":list_of_r_square_train,\n",
    "             \"R Score Test\":list_of_r_square_test,\n",
    "             \"Grid Search Best Score\":list_of_grid_sarch_best_score,\n",
    "             \"Best Estimator\":list_of_svr_best_estimator,\n",
    "             \"Best Parameters\":list_of_r_best_param})\n",
    "df_svr_summary_pca[\"PCA\"]=True\n",
    "df_svr_summary_pca[\"Model\"]=\"SVR\"\n",
    "df_svr_summary_pca"
   ]
  },
  {
   "cell_type": "code",
   "execution_count": 35,
   "metadata": {},
   "outputs": [
    {
     "data": {
      "text/plain": [
       "<matplotlib.axes._subplots.AxesSubplot at 0x1dd6faa4160>"
      ]
     },
     "execution_count": 35,
     "metadata": {},
     "output_type": "execute_result"
    },
    {
     "data": {
      "image/png": "[encoded data removed]",
      "text/plain": [
       "<Figure size 468x468 with 1 Axes>"
      ]
     },
     "metadata": {
      "needs_background": "light"
     },
     "output_type": "display_data"
    }
   ],
   "source": [
    "df_svr_summary.plot(\"Target Varibale\",kind='barh',figsize=(6.5,6.5),title=\"SVR- 4 Principles Components\")"
   ]
  },
  {
   "cell_type": "markdown",
   "metadata": {},
   "source": [
    "### 3. KNeighborsRegressor"
   ]
  },
  {
   "cell_type": "code",
   "execution_count": 36,
   "metadata": {},
   "outputs": [],
   "source": [
    "### Instantiate a random forests regressor 'rf'\n",
    "knn_model = KNeighborsRegressor()\n",
    "### Parameter\n",
    "params_kkn = {\n",
    "'n_neighbors': list(range(1, 100)),\n",
    "'p': [1,2]}"
   ]
  },
  {
   "cell_type": "code",
   "execution_count": 37,
   "metadata": {
    "scrolled": false
   },
   "outputs": [
    {
     "name": "stdout",
     "output_type": "stream",
     "text": [
      "Fitting 10 folds for each of 198 candidates, totalling 1980 fits\n"
     ]
    },
    {
     "name": "stderr",
     "output_type": "stream",
     "text": [
      "[Parallel(n_jobs=-1)]: Using backend LokyBackend with 4 concurrent workers.\n",
      "[Parallel(n_jobs=-1)]: Done 1980 out of 1980 | elapsed:    1.0s finished\n",
      "[Parallel(n_jobs=-1)]: Using backend LokyBackend with 4 concurrent workers.\n"
     ]
    },
    {
     "name": "stdout",
     "output_type": "stream",
     "text": [
      "Fitting 10 folds for each of 198 candidates, totalling 1980 fits\n"
     ]
    },
    {
     "name": "stderr",
     "output_type": "stream",
     "text": [
      "[Parallel(n_jobs=-1)]: Done 1980 out of 1980 | elapsed:    1.0s finished\n",
      "[Parallel(n_jobs=-1)]: Using backend LokyBackend with 4 concurrent workers.\n"
     ]
    },
    {
     "name": "stdout",
     "output_type": "stream",
     "text": [
      "Fitting 10 folds for each of 198 candidates, totalling 1980 fits\n"
     ]
    },
    {
     "name": "stderr",
     "output_type": "stream",
     "text": [
      "[Parallel(n_jobs=-1)]: Done 1980 out of 1980 | elapsed:    0.8s finished\n",
      "[Parallel(n_jobs=-1)]: Using backend LokyBackend with 4 concurrent workers.\n"
     ]
    },
    {
     "name": "stdout",
     "output_type": "stream",
     "text": [
      "Fitting 10 folds for each of 198 candidates, totalling 1980 fits\n"
     ]
    },
    {
     "name": "stderr",
     "output_type": "stream",
     "text": [
      "[Parallel(n_jobs=-1)]: Done 1980 out of 1980 | elapsed:    0.7s finished\n"
     ]
    }
   ],
   "source": [
    "list_of_r_square_train=[]\n",
    "list_of_r_square_test=[]\n",
    "list_of_r_best_param=[]\n",
    "list_of_grid_sarch_best_score=[]\n",
    "list_of_svr_best_estimator=[]\n",
    "for y_variable in traget_variables:\n",
    "    y=scale(df_Eco[y_variable].values)\n",
    "    X_train,X_test,y_train,y_test=train_test_split(X,y,test_size=0.25,random_state=seed)\n",
    "    knn_grid_search=GridSearchCV(estimator=knn_model,\n",
    "                 param_grid=params_kkn,\n",
    "                                 iid=False,\n",
    "                                 cv=10,\n",
    "                                 scoring='r2',\n",
    "                                 n_jobs=-1,\n",
    "                                 verbose=1)\n",
    "    knn_grid_search.fit(X_train, y_train)\n",
    "    list_of_r_square_train.append(knn_grid_search.score(X_train, y_train))\n",
    "    list_of_r_square_test.append(knn_grid_search.score(X_test, y_test))\n",
    "    list_of_grid_sarch_best_score.append(knn_grid_search.best_score_)\n",
    "    list_of_svr_best_estimator.append(knn_grid_search.best_estimator_)\n",
    "    list_of_r_best_param.append(knn_grid_search.best_params_)"
   ]
  },
  {
   "cell_type": "code",
   "execution_count": 38,
   "metadata": {},
   "outputs": [
    {
     "data": {
      "text/html": [
       "<div>\n",
       "<style scoped>\n",
       "    .dataframe tbody tr th:only-of-type {\n",
       "        vertical-align: middle;\n",
       "    }\n",
       "\n",
       "    .dataframe tbody tr th {\n",
       "        vertical-align: top;\n",
       "    }\n",
       "\n",
       "    .dataframe thead th {\n",
       "        text-align: right;\n",
       "    }\n",
       "</style>\n",
       "<table border=\"1\" class=\"dataframe\">\n",
       "  <thead>\n",
       "    <tr style=\"text-align: right;\">\n",
       "      <th></th>\n",
       "      <th>Target Varibale</th>\n",
       "      <th>R Score Train</th>\n",
       "      <th>R Score Test</th>\n",
       "      <th>Grid Search Best Score</th>\n",
       "      <th>Best Estimator</th>\n",
       "      <th>Best Parameters</th>\n",
       "      <th>PCA</th>\n",
       "      <th>Model</th>\n",
       "    </tr>\n",
       "  </thead>\n",
       "  <tbody>\n",
       "    <tr>\n",
       "      <th>0</th>\n",
       "      <td>USPHCI</td>\n",
       "      <td>0.9366</td>\n",
       "      <td>0.8777</td>\n",
       "      <td>0.8468</td>\n",
       "      <td>KNeighborsRegressor(algorithm='auto', leaf_siz...</td>\n",
       "      <td>{'n_neighbors': 3, 'p': 2}</td>\n",
       "      <td>False</td>\n",
       "      <td>KNN Regressor</td>\n",
       "    </tr>\n",
       "    <tr>\n",
       "      <th>1</th>\n",
       "      <td>PCT 3MO FWD</td>\n",
       "      <td>0.4772</td>\n",
       "      <td>0.3656</td>\n",
       "      <td>0.2371</td>\n",
       "      <td>KNeighborsRegressor(algorithm='auto', leaf_siz...</td>\n",
       "      <td>{'n_neighbors': 10, 'p': 2}</td>\n",
       "      <td>False</td>\n",
       "      <td>KNN Regressor</td>\n",
       "    </tr>\n",
       "    <tr>\n",
       "      <th>2</th>\n",
       "      <td>PCT 6MO FWD</td>\n",
       "      <td>0.6178</td>\n",
       "      <td>0.6021</td>\n",
       "      <td>0.2792</td>\n",
       "      <td>KNeighborsRegressor(algorithm='auto', leaf_siz...</td>\n",
       "      <td>{'n_neighbors': 6, 'p': 1}</td>\n",
       "      <td>False</td>\n",
       "      <td>KNN Regressor</td>\n",
       "    </tr>\n",
       "    <tr>\n",
       "      <th>3</th>\n",
       "      <td>PCT 9MO FWD</td>\n",
       "      <td>0.6900</td>\n",
       "      <td>0.6978</td>\n",
       "      <td>0.4228</td>\n",
       "      <td>KNeighborsRegressor(algorithm='auto', leaf_siz...</td>\n",
       "      <td>{'n_neighbors': 6, 'p': 1}</td>\n",
       "      <td>False</td>\n",
       "      <td>KNN Regressor</td>\n",
       "    </tr>\n",
       "  </tbody>\n",
       "</table>\n",
       "</div>"
      ],
      "text/plain": [
       "  Target Varibale  R Score Train  R Score Test  Grid Search Best Score  \\\n",
       "0          USPHCI         0.9366        0.8777                  0.8468   \n",
       "1     PCT 3MO FWD         0.4772        0.3656                  0.2371   \n",
       "2     PCT 6MO FWD         0.6178        0.6021                  0.2792   \n",
       "3     PCT 9MO FWD         0.6900        0.6978                  0.4228   \n",
       "\n",
       "                                      Best Estimator  \\\n",
       "0  KNeighborsRegressor(algorithm='auto', leaf_siz...   \n",
       "1  KNeighborsRegressor(algorithm='auto', leaf_siz...   \n",
       "2  KNeighborsRegressor(algorithm='auto', leaf_siz...   \n",
       "3  KNeighborsRegressor(algorithm='auto', leaf_siz...   \n",
       "\n",
       "               Best Parameters    PCA          Model  \n",
       "0   {'n_neighbors': 3, 'p': 2}  False  KNN Regressor  \n",
       "1  {'n_neighbors': 10, 'p': 2}  False  KNN Regressor  \n",
       "2   {'n_neighbors': 6, 'p': 1}  False  KNN Regressor  \n",
       "3   {'n_neighbors': 6, 'p': 1}  False  KNN Regressor  "
      ]
     },
     "execution_count": 38,
     "metadata": {},
     "output_type": "execute_result"
    }
   ],
   "source": [
    "df_knn_summary=pd.DataFrame({\"Target Varibale\":traget_variables,\n",
    "              \"R Score Train\":list_of_r_square_train,\n",
    "             \"R Score Test\":list_of_r_square_test,\n",
    "             \"Grid Search Best Score\":list_of_grid_sarch_best_score,\n",
    "             \"Best Estimator\":list_of_svr_best_estimator,\n",
    "             \"Best Parameters\":list_of_r_best_param})\n",
    "df_knn_summary[\"PCA\"]=False\n",
    "df_knn_summary[\"Model\"]=\"KNN Regressor\"\n",
    "df_knn_summary"
   ]
  },
  {
   "cell_type": "code",
   "execution_count": 39,
   "metadata": {},
   "outputs": [
    {
     "data": {
      "text/plain": [
       "<matplotlib.axes._subplots.AxesSubplot at 0x1dd6fba2908>"
      ]
     },
     "execution_count": 39,
     "metadata": {},
     "output_type": "execute_result"
    },
    {
     "data": {
      "image/png": "[encoded data removed]",
      "text/plain": [
       "<Figure size 468x468 with 1 Axes>"
      ]
     },
     "metadata": {
      "needs_background": "light"
     },
     "output_type": "display_data"
    }
   ],
   "source": [
    "df_svr_summary.plot(\"Target Varibale\",kind='barh',figsize=(6.5,6.5),title=\"KNN\")"
   ]
  },
  {
   "cell_type": "markdown",
   "metadata": {},
   "source": [
    "### 3.1 KNeighborsRegressor with 4 Principle Components  Explananing 99% of Variance "
   ]
  },
  {
   "cell_type": "code",
   "execution_count": 40,
   "metadata": {},
   "outputs": [],
   "source": [
    "del X_train,X_test,y_train,y_test, svr_model , svr_grid_search"
   ]
  },
  {
   "cell_type": "code",
   "execution_count": 41,
   "metadata": {},
   "outputs": [],
   "source": [
    "### Instantiate a random forests regressor 'rf'\n",
    "knn_model = KNeighborsRegressor()\n",
    "### Parameter\n",
    "params_kkn = {\n",
    "'n_neighbors': list(range(1, 100)),\n",
    "'p': [1,2]}"
   ]
  },
  {
   "cell_type": "code",
   "execution_count": 42,
   "metadata": {},
   "outputs": [
    {
     "name": "stdout",
     "output_type": "stream",
     "text": [
      "Fitting 10 folds for each of 198 candidates, totalling 1980 fits\n"
     ]
    },
    {
     "name": "stderr",
     "output_type": "stream",
     "text": [
      "[Parallel(n_jobs=-1)]: Using backend LokyBackend with 4 concurrent workers.\n",
      "[Parallel(n_jobs=-1)]: Done 1980 out of 1980 | elapsed:    0.8s finished\n",
      "[Parallel(n_jobs=-1)]: Using backend LokyBackend with 4 concurrent workers.\n"
     ]
    },
    {
     "name": "stdout",
     "output_type": "stream",
     "text": [
      "Fitting 10 folds for each of 198 candidates, totalling 1980 fits\n"
     ]
    },
    {
     "name": "stderr",
     "output_type": "stream",
     "text": [
      "[Parallel(n_jobs=-1)]: Done 1980 out of 1980 | elapsed:    0.8s finished\n",
      "[Parallel(n_jobs=-1)]: Using backend LokyBackend with 4 concurrent workers.\n"
     ]
    },
    {
     "name": "stdout",
     "output_type": "stream",
     "text": [
      "Fitting 10 folds for each of 198 candidates, totalling 1980 fits\n"
     ]
    },
    {
     "name": "stderr",
     "output_type": "stream",
     "text": [
      "[Parallel(n_jobs=-1)]: Done 1980 out of 1980 | elapsed:    0.6s finished\n",
      "[Parallel(n_jobs=-1)]: Using backend LokyBackend with 4 concurrent workers.\n"
     ]
    },
    {
     "name": "stdout",
     "output_type": "stream",
     "text": [
      "Fitting 10 folds for each of 198 candidates, totalling 1980 fits\n"
     ]
    },
    {
     "name": "stderr",
     "output_type": "stream",
     "text": [
      "[Parallel(n_jobs=-1)]: Done 1980 out of 1980 | elapsed:    0.7s finished\n"
     ]
    }
   ],
   "source": [
    "list_of_r_square_train=[]\n",
    "list_of_r_square_test=[]\n",
    "list_of_r_best_param=[]\n",
    "list_of_grid_sarch_best_score=[]\n",
    "list_of_svr_best_estimator=[]\n",
    "for y_variable in traget_variables:\n",
    "    y=scale(df_Eco[y_variable].values)\n",
    "    X_train,X_test,y_train,y_test=train_test_split(X_pca,y,test_size=0.25,random_state=seed)\n",
    "    knn_grid_search=GridSearchCV(estimator=knn_model,\n",
    "                 param_grid=params_kkn,\n",
    "                                 iid=False,\n",
    "                                 cv=10,\n",
    "                                 scoring='r2',\n",
    "                                 n_jobs=-1,\n",
    "                                 verbose=1)\n",
    "    knn_grid_search.fit(X_train, y_train)\n",
    "    list_of_r_square_train.append(knn_grid_search.score(X_train, y_train))\n",
    "    list_of_r_square_test.append(knn_grid_search.score(X_test, y_test))\n",
    "    list_of_grid_sarch_best_score.append(knn_grid_search.best_score_)\n",
    "    list_of_svr_best_estimator.append(knn_grid_search.best_estimator_)\n",
    "    list_of_r_best_param.append(knn_grid_search.best_params_)"
   ]
  },
  {
   "cell_type": "code",
   "execution_count": 43,
   "metadata": {},
   "outputs": [
    {
     "data": {
      "text/html": [
       "<div>\n",
       "<style scoped>\n",
       "    .dataframe tbody tr th:only-of-type {\n",
       "        vertical-align: middle;\n",
       "    }\n",
       "\n",
       "    .dataframe tbody tr th {\n",
       "        vertical-align: top;\n",
       "    }\n",
       "\n",
       "    .dataframe thead th {\n",
       "        text-align: right;\n",
       "    }\n",
       "</style>\n",
       "<table border=\"1\" class=\"dataframe\">\n",
       "  <thead>\n",
       "    <tr style=\"text-align: right;\">\n",
       "      <th></th>\n",
       "      <th>Target Varibale</th>\n",
       "      <th>R Score Train</th>\n",
       "      <th>R Score Test</th>\n",
       "      <th>Grid Search Best Score</th>\n",
       "      <th>Best Estimator</th>\n",
       "      <th>Best Parameters</th>\n",
       "      <th>PCA</th>\n",
       "      <th>Model</th>\n",
       "    </tr>\n",
       "  </thead>\n",
       "  <tbody>\n",
       "    <tr>\n",
       "      <th>0</th>\n",
       "      <td>USPHCI</td>\n",
       "      <td>0.8381</td>\n",
       "      <td>0.8210</td>\n",
       "      <td>0.7690</td>\n",
       "      <td>KNeighborsRegressor(algorithm='auto', leaf_siz...</td>\n",
       "      <td>{'n_neighbors': 7, 'p': 2}</td>\n",
       "      <td>True</td>\n",
       "      <td>KNN Regressor</td>\n",
       "    </tr>\n",
       "    <tr>\n",
       "      <th>1</th>\n",
       "      <td>PCT 3MO FWD</td>\n",
       "      <td>0.4665</td>\n",
       "      <td>0.2668</td>\n",
       "      <td>0.2189</td>\n",
       "      <td>KNeighborsRegressor(algorithm='auto', leaf_siz...</td>\n",
       "      <td>{'n_neighbors': 11, 'p': 2}</td>\n",
       "      <td>True</td>\n",
       "      <td>KNN Regressor</td>\n",
       "    </tr>\n",
       "    <tr>\n",
       "      <th>2</th>\n",
       "      <td>PCT 6MO FWD</td>\n",
       "      <td>0.6309</td>\n",
       "      <td>0.5364</td>\n",
       "      <td>0.2869</td>\n",
       "      <td>KNeighborsRegressor(algorithm='auto', leaf_siz...</td>\n",
       "      <td>{'n_neighbors': 6, 'p': 1}</td>\n",
       "      <td>True</td>\n",
       "      <td>KNN Regressor</td>\n",
       "    </tr>\n",
       "    <tr>\n",
       "      <th>3</th>\n",
       "      <td>PCT 9MO FWD</td>\n",
       "      <td>0.6696</td>\n",
       "      <td>0.6265</td>\n",
       "      <td>0.3893</td>\n",
       "      <td>KNeighborsRegressor(algorithm='auto', leaf_siz...</td>\n",
       "      <td>{'n_neighbors': 6, 'p': 1}</td>\n",
       "      <td>True</td>\n",
       "      <td>KNN Regressor</td>\n",
       "    </tr>\n",
       "  </tbody>\n",
       "</table>\n",
       "</div>"
      ],
      "text/plain": [
       "  Target Varibale  R Score Train  R Score Test  Grid Search Best Score  \\\n",
       "0          USPHCI         0.8381        0.8210                  0.7690   \n",
       "1     PCT 3MO FWD         0.4665        0.2668                  0.2189   \n",
       "2     PCT 6MO FWD         0.6309        0.5364                  0.2869   \n",
       "3     PCT 9MO FWD         0.6696        0.6265                  0.3893   \n",
       "\n",
       "                                      Best Estimator  \\\n",
       "0  KNeighborsRegressor(algorithm='auto', leaf_siz...   \n",
       "1  KNeighborsRegressor(algorithm='auto', leaf_siz...   \n",
       "2  KNeighborsRegressor(algorithm='auto', leaf_siz...   \n",
       "3  KNeighborsRegressor(algorithm='auto', leaf_siz...   \n",
       "\n",
       "               Best Parameters   PCA          Model  \n",
       "0   {'n_neighbors': 7, 'p': 2}  True  KNN Regressor  \n",
       "1  {'n_neighbors': 11, 'p': 2}  True  KNN Regressor  \n",
       "2   {'n_neighbors': 6, 'p': 1}  True  KNN Regressor  \n",
       "3   {'n_neighbors': 6, 'p': 1}  True  KNN Regressor  "
      ]
     },
     "execution_count": 43,
     "metadata": {},
     "output_type": "execute_result"
    }
   ],
   "source": [
    "df_knn_summary_pca=pd.DataFrame({\"Target Varibale\":traget_variables,\n",
    "              \"R Score Train\":list_of_r_square_train,\n",
    "             \"R Score Test\":list_of_r_square_test,\n",
    "             \"Grid Search Best Score\":list_of_grid_sarch_best_score,\n",
    "             \"Best Estimator\":list_of_svr_best_estimator,\n",
    "             \"Best Parameters\":list_of_r_best_param})\n",
    "df_knn_summary_pca[\"PCA\"]=True\n",
    "df_knn_summary_pca[\"Model\"]=\"KNN Regressor\"\n",
    "df_knn_summary_pca"
   ]
  },
  {
   "cell_type": "code",
   "execution_count": 44,
   "metadata": {},
   "outputs": [
    {
     "data": {
      "text/plain": [
       "<matplotlib.axes._subplots.AxesSubplot at 0x1dd6fd6a278>"
      ]
     },
     "execution_count": 44,
     "metadata": {},
     "output_type": "execute_result"
    },
    {
     "data": {
      "image/png": "[encoded data removed]",
      "text/plain": [
       "<Figure size 468x468 with 1 Axes>"
      ]
     },
     "metadata": {
      "needs_background": "light"
     },
     "output_type": "display_data"
    }
   ],
   "source": [
    "df_knn_summary_pca.plot(\"Target Varibale\",kind='barh',figsize=(6.5,6.5),title=\"KNN- 4 Principles Components\")"
   ]
  },
  {
   "cell_type": "markdown",
   "metadata": {},
   "source": [
    "### Random Forest Regressor"
   ]
  },
  {
   "cell_type": "code",
   "execution_count": 45,
   "metadata": {},
   "outputs": [],
   "source": [
    "del X_train,X_test,y_train,y_test"
   ]
  },
  {
   "cell_type": "code",
   "execution_count": 46,
   "metadata": {},
   "outputs": [],
   "source": [
    "rf_model = RandomForestRegressor(random_state= SEED)\n",
    "params_rf = {\n",
    "'n_estimators': [100,200,300,400],\n",
    "'max_depth': [1,2,3,4,5,6],\n",
    "'min_samples_leaf': [0.1,.12,.15, 0.2],\n",
    "'max_features': ['log2','sqrt']}"
   ]
  },
  {
   "cell_type": "code",
   "execution_count": 47,
   "metadata": {},
   "outputs": [
    {
     "name": "stdout",
     "output_type": "stream",
     "text": [
      "Fitting 10 folds for each of 192 candidates, totalling 1920 fits\n"
     ]
    },
    {
     "name": "stderr",
     "output_type": "stream",
     "text": [
      "[Parallel(n_jobs=-1)]: Using backend LokyBackend with 4 concurrent workers.\n",
      "[Parallel(n_jobs=-1)]: Done 144 tasks      | elapsed:    5.9s\n",
      "[Parallel(n_jobs=-1)]: Done 744 tasks      | elapsed:   28.5s\n",
      "[Parallel(n_jobs=-1)]: Done 1744 tasks      | elapsed:  1.1min\n",
      "[Parallel(n_jobs=-1)]: Done 1920 out of 1920 | elapsed:  1.2min finished\n",
      "[Parallel(n_jobs=-1)]: Using backend LokyBackend with 4 concurrent workers.\n"
     ]
    },
    {
     "name": "stdout",
     "output_type": "stream",
     "text": [
      "Fitting 10 folds for each of 192 candidates, totalling 1920 fits\n"
     ]
    },
    {
     "name": "stderr",
     "output_type": "stream",
     "text": [
      "[Parallel(n_jobs=-1)]: Done 212 tasks      | elapsed:    8.2s\n",
      "[Parallel(n_jobs=-1)]: Done 764 tasks      | elapsed:   29.0s\n",
      "[Parallel(n_jobs=-1)]: Done 1514 tasks      | elapsed:   57.7s\n",
      "[Parallel(n_jobs=-1)]: Done 1920 out of 1920 | elapsed:  1.2min finished\n"
     ]
    },
    {
     "name": "stdout",
     "output_type": "stream",
     "text": [
      "Fitting 10 folds for each of 192 candidates, totalling 1920 fits\n"
     ]
    },
    {
     "name": "stderr",
     "output_type": "stream",
     "text": [
      "[Parallel(n_jobs=-1)]: Using backend LokyBackend with 4 concurrent workers.\n",
      "[Parallel(n_jobs=-1)]: Done 212 tasks      | elapsed:    6.7s\n",
      "[Parallel(n_jobs=-1)]: Done 1112 tasks      | elapsed:   36.2s\n",
      "[Parallel(n_jobs=-1)]: Done 1920 out of 1920 | elapsed:  1.1min finished\n",
      "[Parallel(n_jobs=-1)]: Using backend LokyBackend with 4 concurrent workers.\n"
     ]
    },
    {
     "name": "stdout",
     "output_type": "stream",
     "text": [
      "Fitting 10 folds for each of 192 candidates, totalling 1920 fits\n"
     ]
    },
    {
     "name": "stderr",
     "output_type": "stream",
     "text": [
      "[Parallel(n_jobs=-1)]: Done 236 tasks      | elapsed:    7.5s\n",
      "[Parallel(n_jobs=-1)]: Done 836 tasks      | elapsed:   27.8s\n",
      "[Parallel(n_jobs=-1)]: Done 1836 tasks      | elapsed:  1.1min\n",
      "[Parallel(n_jobs=-1)]: Done 1920 out of 1920 | elapsed:  1.1min finished\n"
     ]
    }
   ],
   "source": [
    "list_of_r_square_train=[]\n",
    "list_of_r_square_test=[]\n",
    "list_of_r_best_param=[]\n",
    "list_of_grid_sarch_best_score=[]\n",
    "list_of_svr_best_estimator=[]\n",
    "for y_variable in traget_variables:\n",
    "    y=scale(df_Eco[y_variable].values)\n",
    "    X_train,X_test,y_train,y_test=train_test_split(X,y,test_size=0.25,random_state=seed)\n",
    "    rf_grid_search=GridSearchCV(estimator=rf_model,\n",
    "                 param_grid=params_rf,\n",
    "                                 iid=False,\n",
    "                                 cv=10,\n",
    "                                 scoring='r2',\n",
    "                                 n_jobs=-1,\n",
    "                                 verbose=1)\n",
    "    rf_grid_search.fit(X_train, y_train)\n",
    "    list_of_r_square_train.append(rf_grid_search.score(X_train, y_train))\n",
    "    list_of_r_square_test.append(rf_grid_search.score(X_test, y_test))\n",
    "    list_of_grid_sarch_best_score.append(rf_grid_search.best_score_)\n",
    "    list_of_svr_best_estimator.append(rf_grid_search.best_estimator_)\n",
    "    list_of_r_best_param.append(rf_grid_search.best_params_)"
   ]
  },
  {
   "cell_type": "code",
   "execution_count": 48,
   "metadata": {},
   "outputs": [
    {
     "data": {
      "text/html": [
       "<div>\n",
       "<style scoped>\n",
       "    .dataframe tbody tr th:only-of-type {\n",
       "        vertical-align: middle;\n",
       "    }\n",
       "\n",
       "    .dataframe tbody tr th {\n",
       "        vertical-align: top;\n",
       "    }\n",
       "\n",
       "    .dataframe thead th {\n",
       "        text-align: right;\n",
       "    }\n",
       "</style>\n",
       "<table border=\"1\" class=\"dataframe\">\n",
       "  <thead>\n",
       "    <tr style=\"text-align: right;\">\n",
       "      <th></th>\n",
       "      <th>Target Varibale</th>\n",
       "      <th>R Score Train</th>\n",
       "      <th>R Score Test</th>\n",
       "      <th>Grid Search Best Score</th>\n",
       "      <th>Best Estimator</th>\n",
       "      <th>Best Parameters</th>\n",
       "      <th>PCA</th>\n",
       "      <th>Model</th>\n",
       "    </tr>\n",
       "  </thead>\n",
       "  <tbody>\n",
       "    <tr>\n",
       "      <th>0</th>\n",
       "      <td>USPHCI</td>\n",
       "      <td>0.8258</td>\n",
       "      <td>0.7831</td>\n",
       "      <td>0.7472</td>\n",
       "      <td>(DecisionTreeRegressor(criterion='mse', max_de...</td>\n",
       "      <td>{'max_depth': 4, 'max_features': 'log2', 'min_...</td>\n",
       "      <td>False</td>\n",
       "      <td>Random Forest</td>\n",
       "    </tr>\n",
       "    <tr>\n",
       "      <th>1</th>\n",
       "      <td>PCT 3MO FWD</td>\n",
       "      <td>0.4284</td>\n",
       "      <td>0.1751</td>\n",
       "      <td>0.1866</td>\n",
       "      <td>(DecisionTreeRegressor(criterion='mse', max_de...</td>\n",
       "      <td>{'max_depth': 5, 'max_features': 'log2', 'min_...</td>\n",
       "      <td>False</td>\n",
       "      <td>Random Forest</td>\n",
       "    </tr>\n",
       "    <tr>\n",
       "      <th>2</th>\n",
       "      <td>PCT 6MO FWD</td>\n",
       "      <td>0.5088</td>\n",
       "      <td>0.3539</td>\n",
       "      <td>0.2822</td>\n",
       "      <td>(DecisionTreeRegressor(criterion='mse', max_de...</td>\n",
       "      <td>{'max_depth': 5, 'max_features': 'log2', 'min_...</td>\n",
       "      <td>False</td>\n",
       "      <td>Random Forest</td>\n",
       "    </tr>\n",
       "    <tr>\n",
       "      <th>3</th>\n",
       "      <td>PCT 9MO FWD</td>\n",
       "      <td>0.5600</td>\n",
       "      <td>0.4514</td>\n",
       "      <td>0.3967</td>\n",
       "      <td>(DecisionTreeRegressor(criterion='mse', max_de...</td>\n",
       "      <td>{'max_depth': 5, 'max_features': 'log2', 'min_...</td>\n",
       "      <td>False</td>\n",
       "      <td>Random Forest</td>\n",
       "    </tr>\n",
       "  </tbody>\n",
       "</table>\n",
       "</div>"
      ],
      "text/plain": [
       "  Target Varibale  R Score Train  R Score Test  Grid Search Best Score  \\\n",
       "0          USPHCI         0.8258        0.7831                  0.7472   \n",
       "1     PCT 3MO FWD         0.4284        0.1751                  0.1866   \n",
       "2     PCT 6MO FWD         0.5088        0.3539                  0.2822   \n",
       "3     PCT 9MO FWD         0.5600        0.4514                  0.3967   \n",
       "\n",
       "                                      Best Estimator  \\\n",
       "0  (DecisionTreeRegressor(criterion='mse', max_de...   \n",
       "1  (DecisionTreeRegressor(criterion='mse', max_de...   \n",
       "2  (DecisionTreeRegressor(criterion='mse', max_de...   \n",
       "3  (DecisionTreeRegressor(criterion='mse', max_de...   \n",
       "\n",
       "                                     Best Parameters    PCA          Model  \n",
       "0  {'max_depth': 4, 'max_features': 'log2', 'min_...  False  Random Forest  \n",
       "1  {'max_depth': 5, 'max_features': 'log2', 'min_...  False  Random Forest  \n",
       "2  {'max_depth': 5, 'max_features': 'log2', 'min_...  False  Random Forest  \n",
       "3  {'max_depth': 5, 'max_features': 'log2', 'min_...  False  Random Forest  "
      ]
     },
     "execution_count": 48,
     "metadata": {},
     "output_type": "execute_result"
    }
   ],
   "source": [
    "df_rf_summary=pd.DataFrame({\"Target Varibale\":traget_variables,\n",
    "              \"R Score Train\":list_of_r_square_train,\n",
    "             \"R Score Test\":list_of_r_square_test,\n",
    "             \"Grid Search Best Score\":list_of_grid_sarch_best_score,\n",
    "             \"Best Estimator\":list_of_svr_best_estimator,\n",
    "             \"Best Parameters\":list_of_r_best_param})\n",
    "df_rf_summary[\"PCA\"]=False\n",
    "df_rf_summary[\"Model\"]=\"Random Forest\"\n",
    "df_rf_summary"
   ]
  },
  {
   "cell_type": "code",
   "execution_count": 49,
   "metadata": {},
   "outputs": [
    {
     "data": {
      "text/plain": [
       "<matplotlib.axes._subplots.AxesSubplot at 0x1dd6ff75ba8>"
      ]
     },
     "execution_count": 49,
     "metadata": {},
     "output_type": "execute_result"
    },
    {
     "data": {
      "image/png": "[encoded data removed]",
      "text/plain": [
       "<Figure size 468x468 with 1 Axes>"
      ]
     },
     "metadata": {
      "needs_background": "light"
     },
     "output_type": "display_data"
    }
   ],
   "source": [
    "df_rf_summary.plot(\"Target Varibale\",kind='barh',figsize=(6.5,6.5),title=\"Random Forest\")"
   ]
  },
  {
   "cell_type": "markdown",
   "metadata": {},
   "source": [
    "### Random Forest Regressor with 4 Principle Components"
   ]
  },
  {
   "cell_type": "code",
   "execution_count": 50,
   "metadata": {},
   "outputs": [],
   "source": [
    "del X_train,X_test,y_train,y_test , rf_model , rf_grid_search"
   ]
  },
  {
   "cell_type": "code",
   "execution_count": 51,
   "metadata": {},
   "outputs": [],
   "source": [
    "rf_model = RandomForestRegressor(random_state= SEED)\n",
    "params_rf = {\n",
    "'n_estimators': [100,200,300,400],\n",
    "'max_depth': [1,2,3,4,5,6],\n",
    "'min_samples_leaf': [0.1,.12,.15, 0.2],\n",
    "'max_features': ['log2','sqrt']}"
   ]
  },
  {
   "cell_type": "code",
   "execution_count": 52,
   "metadata": {},
   "outputs": [
    {
     "name": "stdout",
     "output_type": "stream",
     "text": [
      "Fitting 10 folds for each of 192 candidates, totalling 1920 fits\n"
     ]
    },
    {
     "name": "stderr",
     "output_type": "stream",
     "text": [
      "[Parallel(n_jobs=-1)]: Using backend LokyBackend with 4 concurrent workers.\n",
      "[Parallel(n_jobs=-1)]: Done 212 tasks      | elapsed:    7.0s\n",
      "[Parallel(n_jobs=-1)]: Done 869 tasks      | elapsed:   30.6s\n",
      "[Parallel(n_jobs=-1)]: Done 1619 tasks      | elapsed:   55.7s\n",
      "[Parallel(n_jobs=-1)]: Done 1920 out of 1920 | elapsed:  1.1min finished\n",
      "[Parallel(n_jobs=-1)]: Using backend LokyBackend with 4 concurrent workers.\n"
     ]
    },
    {
     "name": "stdout",
     "output_type": "stream",
     "text": [
      "Fitting 10 folds for each of 192 candidates, totalling 1920 fits\n"
     ]
    },
    {
     "name": "stderr",
     "output_type": "stream",
     "text": [
      "[Parallel(n_jobs=-1)]: Done 224 tasks      | elapsed:    7.6s\n",
      "[Parallel(n_jobs=-1)]: Done 524 tasks      | elapsed:   22.9s\n",
      "[Parallel(n_jobs=-1)]: Done 1024 tasks      | elapsed:   43.1s\n",
      "[Parallel(n_jobs=-1)]: Done 1724 tasks      | elapsed:  1.2min\n",
      "[Parallel(n_jobs=-1)]: Done 1920 out of 1920 | elapsed:  1.3min finished\n"
     ]
    },
    {
     "name": "stdout",
     "output_type": "stream",
     "text": [
      "Fitting 10 folds for each of 192 candidates, totalling 1920 fits\n"
     ]
    },
    {
     "name": "stderr",
     "output_type": "stream",
     "text": [
      "[Parallel(n_jobs=-1)]: Using backend LokyBackend with 4 concurrent workers.\n",
      "[Parallel(n_jobs=-1)]: Done 191 tasks      | elapsed:    7.2s\n",
      "[Parallel(n_jobs=-1)]: Done 641 tasks      | elapsed:   22.7s\n",
      "[Parallel(n_jobs=-1)]: Done 1391 tasks      | elapsed:   47.8s\n",
      "[Parallel(n_jobs=-1)]: Done 1920 out of 1920 | elapsed:  1.1min finished\n",
      "[Parallel(n_jobs=-1)]: Using backend LokyBackend with 4 concurrent workers.\n"
     ]
    },
    {
     "name": "stdout",
     "output_type": "stream",
     "text": [
      "Fitting 10 folds for each of 192 candidates, totalling 1920 fits\n"
     ]
    },
    {
     "name": "stderr",
     "output_type": "stream",
     "text": [
      "[Parallel(n_jobs=-1)]: Done 236 tasks      | elapsed:    7.8s\n",
      "[Parallel(n_jobs=-1)]: Done 836 tasks      | elapsed:   27.6s\n",
      "[Parallel(n_jobs=-1)]: Done 1836 tasks      | elapsed:  1.0min\n",
      "[Parallel(n_jobs=-1)]: Done 1920 out of 1920 | elapsed:  1.1min finished\n"
     ]
    }
   ],
   "source": [
    "list_of_r_square_train=[]\n",
    "list_of_r_square_test=[]\n",
    "list_of_r_best_param=[]\n",
    "list_of_grid_sarch_best_score=[]\n",
    "list_of_svr_best_estimator=[]\n",
    "for y_variable in traget_variables:\n",
    "    y=scale(df_Eco[y_variable].values)\n",
    "    X_train,X_test,y_train,y_test=train_test_split(X_pca,y,test_size=0.25,random_state=seed)\n",
    "    rf_grid_search=GridSearchCV(estimator=rf_model,\n",
    "                 param_grid=params_rf,\n",
    "                                 iid=False,\n",
    "                                 cv=10,\n",
    "                                 scoring='r2',\n",
    "                                 n_jobs=-1,\n",
    "                                 verbose=1)\n",
    "    rf_grid_search.fit(X_train, y_train)\n",
    "    list_of_r_square_train.append(rf_grid_search.score(X_train, y_train))\n",
    "    list_of_r_square_test.append(rf_grid_search.score(X_test, y_test))\n",
    "    list_of_grid_sarch_best_score.append(rf_grid_search.best_score_)\n",
    "    list_of_svr_best_estimator.append(rf_grid_search.best_estimator_)\n",
    "    list_of_r_best_param.append(rf_grid_search.best_params_)"
   ]
  },
  {
   "cell_type": "code",
   "execution_count": 53,
   "metadata": {},
   "outputs": [
    {
     "data": {
      "text/html": [
       "<div>\n",
       "<style scoped>\n",
       "    .dataframe tbody tr th:only-of-type {\n",
       "        vertical-align: middle;\n",
       "    }\n",
       "\n",
       "    .dataframe tbody tr th {\n",
       "        vertical-align: top;\n",
       "    }\n",
       "\n",
       "    .dataframe thead th {\n",
       "        text-align: right;\n",
       "    }\n",
       "</style>\n",
       "<table border=\"1\" class=\"dataframe\">\n",
       "  <thead>\n",
       "    <tr style=\"text-align: right;\">\n",
       "      <th></th>\n",
       "      <th>Target Varibale</th>\n",
       "      <th>R Score Train</th>\n",
       "      <th>R Score Test</th>\n",
       "      <th>Grid Search Best Score</th>\n",
       "      <th>Best Estimator</th>\n",
       "      <th>Best Parameters</th>\n",
       "      <th>PCA</th>\n",
       "      <th>Model</th>\n",
       "    </tr>\n",
       "  </thead>\n",
       "  <tbody>\n",
       "    <tr>\n",
       "      <th>0</th>\n",
       "      <td>USPHCI</td>\n",
       "      <td>0.7916</td>\n",
       "      <td>0.7427</td>\n",
       "      <td>0.7174</td>\n",
       "      <td>(DecisionTreeRegressor(criterion='mse', max_de...</td>\n",
       "      <td>{'max_depth': 4, 'max_features': 'log2', 'min_...</td>\n",
       "      <td>True</td>\n",
       "      <td>Random Forest</td>\n",
       "    </tr>\n",
       "    <tr>\n",
       "      <th>1</th>\n",
       "      <td>PCT 3MO FWD</td>\n",
       "      <td>0.4043</td>\n",
       "      <td>0.1416</td>\n",
       "      <td>0.1757</td>\n",
       "      <td>(DecisionTreeRegressor(criterion='mse', max_de...</td>\n",
       "      <td>{'max_depth': 3, 'max_features': 'log2', 'min_...</td>\n",
       "      <td>True</td>\n",
       "      <td>Random Forest</td>\n",
       "    </tr>\n",
       "    <tr>\n",
       "      <th>2</th>\n",
       "      <td>PCT 6MO FWD</td>\n",
       "      <td>0.4687</td>\n",
       "      <td>0.2997</td>\n",
       "      <td>0.2219</td>\n",
       "      <td>(DecisionTreeRegressor(criterion='mse', max_de...</td>\n",
       "      <td>{'max_depth': 3, 'max_features': 'log2', 'min_...</td>\n",
       "      <td>True</td>\n",
       "      <td>Random Forest</td>\n",
       "    </tr>\n",
       "    <tr>\n",
       "      <th>3</th>\n",
       "      <td>PCT 9MO FWD</td>\n",
       "      <td>0.4849</td>\n",
       "      <td>0.3891</td>\n",
       "      <td>0.2929</td>\n",
       "      <td>(DecisionTreeRegressor(criterion='mse', max_de...</td>\n",
       "      <td>{'max_depth': 3, 'max_features': 'log2', 'min_...</td>\n",
       "      <td>True</td>\n",
       "      <td>Random Forest</td>\n",
       "    </tr>\n",
       "  </tbody>\n",
       "</table>\n",
       "</div>"
      ],
      "text/plain": [
       "  Target Varibale  R Score Train  R Score Test  Grid Search Best Score  \\\n",
       "0          USPHCI         0.7916        0.7427                  0.7174   \n",
       "1     PCT 3MO FWD         0.4043        0.1416                  0.1757   \n",
       "2     PCT 6MO FWD         0.4687        0.2997                  0.2219   \n",
       "3     PCT 9MO FWD         0.4849        0.3891                  0.2929   \n",
       "\n",
       "                                      Best Estimator  \\\n",
       "0  (DecisionTreeRegressor(criterion='mse', max_de...   \n",
       "1  (DecisionTreeRegressor(criterion='mse', max_de...   \n",
       "2  (DecisionTreeRegressor(criterion='mse', max_de...   \n",
       "3  (DecisionTreeRegressor(criterion='mse', max_de...   \n",
       "\n",
       "                                     Best Parameters   PCA          Model  \n",
       "0  {'max_depth': 4, 'max_features': 'log2', 'min_...  True  Random Forest  \n",
       "1  {'max_depth': 3, 'max_features': 'log2', 'min_...  True  Random Forest  \n",
       "2  {'max_depth': 3, 'max_features': 'log2', 'min_...  True  Random Forest  \n",
       "3  {'max_depth': 3, 'max_features': 'log2', 'min_...  True  Random Forest  "
      ]
     },
     "execution_count": 53,
     "metadata": {},
     "output_type": "execute_result"
    }
   ],
   "source": [
    "df_rf_summary_pca=pd.DataFrame({\"Target Varibale\":traget_variables,\n",
    "              \"R Score Train\":list_of_r_square_train,\n",
    "             \"R Score Test\":list_of_r_square_test,\n",
    "             \"Grid Search Best Score\":list_of_grid_sarch_best_score,\n",
    "             \"Best Estimator\":list_of_svr_best_estimator,\n",
    "             \"Best Parameters\":list_of_r_best_param})\n",
    "df_rf_summary_pca[\"PCA\"]=True\n",
    "df_rf_summary_pca[\"Model\"]=\"Random Forest\"\n",
    "df_rf_summary_pca"
   ]
  },
  {
   "cell_type": "code",
   "execution_count": 54,
   "metadata": {},
   "outputs": [
    {
     "data": {
      "text/plain": [
       "<matplotlib.axes._subplots.AxesSubplot at 0x1dd6fdaae10>"
      ]
     },
     "execution_count": 54,
     "metadata": {},
     "output_type": "execute_result"
    },
    {
     "data": {
      "image/png": "[encoded data removed]",
      "text/plain": [
       "<Figure size 468x468 with 1 Axes>"
      ]
     },
     "metadata": {
      "needs_background": "light"
     },
     "output_type": "display_data"
    }
   ],
   "source": [
    "df_rf_summary_pca.plot(\"Target Varibale\",kind='barh',figsize=(6.5,6.5),title=\"Random Forest 4 Principle Components\")"
   ]
  },
  {
   "cell_type": "markdown",
   "metadata": {},
   "source": [
    "### Gradient Boosting"
   ]
  },
  {
   "cell_type": "code",
   "execution_count": 55,
   "metadata": {},
   "outputs": [],
   "source": [
    "del X_train,X_test,y_train,y_test "
   ]
  },
  {
   "cell_type": "code",
   "execution_count": null,
   "metadata": {},
   "outputs": [],
   "source": [
    "gb_model=GradientBoostingRegressor(n_estimators=500, max_depth=1, random_state=SEED)\n",
    "list_of_r_square_train=[]\n",
    "list_of_r_square_test=[]\n",
    "for y_variable in traget_variables:\n",
    "    y=scale(df_Eco[y_variable].values)\n",
    "    X_train,X_test,y_train,y_test=train_test_split(X,y,test_size=0.25,random_state=212)\n",
    "    gb_model.fit(X_train,y_train)\n",
    "    list_of_r_square_train.append(gb_model.score(X_train, y_train))\n",
    "    list_of_r_square_test.append(gb_model.score(X_test, y_test))"
   ]
  },
  {
   "cell_type": "code",
   "execution_count": 59,
   "metadata": {},
   "outputs": [
    {
     "data": {
      "text/html": [
       "<div>\n",
       "<style scoped>\n",
       "    .dataframe tbody tr th:only-of-type {\n",
       "        vertical-align: middle;\n",
       "    }\n",
       "\n",
       "    .dataframe tbody tr th {\n",
       "        vertical-align: top;\n",
       "    }\n",
       "\n",
       "    .dataframe thead th {\n",
       "        text-align: right;\n",
       "    }\n",
       "</style>\n",
       "<table border=\"1\" class=\"dataframe\">\n",
       "  <thead>\n",
       "    <tr style=\"text-align: right;\">\n",
       "      <th></th>\n",
       "      <th>Target Varibale</th>\n",
       "      <th>R Score Train</th>\n",
       "      <th>R Score Test</th>\n",
       "      <th>PCA</th>\n",
       "      <th>Model</th>\n",
       "    </tr>\n",
       "  </thead>\n",
       "  <tbody>\n",
       "    <tr>\n",
       "      <th>0</th>\n",
       "      <td>USPHCI</td>\n",
       "      <td>0.7916</td>\n",
       "      <td>0.7427</td>\n",
       "      <td>False</td>\n",
       "      <td>Gradient Boosting</td>\n",
       "    </tr>\n",
       "    <tr>\n",
       "      <th>1</th>\n",
       "      <td>PCT 3MO FWD</td>\n",
       "      <td>0.4043</td>\n",
       "      <td>0.1416</td>\n",
       "      <td>False</td>\n",
       "      <td>Gradient Boosting</td>\n",
       "    </tr>\n",
       "    <tr>\n",
       "      <th>2</th>\n",
       "      <td>PCT 6MO FWD</td>\n",
       "      <td>0.4687</td>\n",
       "      <td>0.2997</td>\n",
       "      <td>False</td>\n",
       "      <td>Gradient Boosting</td>\n",
       "    </tr>\n",
       "    <tr>\n",
       "      <th>3</th>\n",
       "      <td>PCT 9MO FWD</td>\n",
       "      <td>0.4849</td>\n",
       "      <td>0.3891</td>\n",
       "      <td>False</td>\n",
       "      <td>Gradient Boosting</td>\n",
       "    </tr>\n",
       "  </tbody>\n",
       "</table>\n",
       "</div>"
      ],
      "text/plain": [
       "  Target Varibale  R Score Train  R Score Test    PCA              Model\n",
       "0          USPHCI         0.7916        0.7427  False  Gradient Boosting\n",
       "1     PCT 3MO FWD         0.4043        0.1416  False  Gradient Boosting\n",
       "2     PCT 6MO FWD         0.4687        0.2997  False  Gradient Boosting\n",
       "3     PCT 9MO FWD         0.4849        0.3891  False  Gradient Boosting"
      ]
     },
     "execution_count": 59,
     "metadata": {},
     "output_type": "execute_result"
    }
   ],
   "source": [
    "df_gb_summary=pd.DataFrame({\"Target Varibale\":traget_variables,\n",
    "              \"R Score Train\":list_of_r_square_train,\n",
    "             \"R Score Test\":list_of_r_square_test})\n",
    "df_gb_summary[\"PCA\"]=False\n",
    "df_gb_summary[\"Model\"]=\"Gradient Boosting\"\n",
    "df_gb_summary"
   ]
  },
  {
   "cell_type": "code",
   "execution_count": 61,
   "metadata": {},
   "outputs": [
    {
     "data": {
      "text/plain": [
       "<matplotlib.axes._subplots.AxesSubplot at 0x1dd6ffc8240>"
      ]
     },
     "execution_count": 61,
     "metadata": {},
     "output_type": "execute_result"
    },
    {
     "data": {
      "image/png": "[encoded data removed]",
      "text/plain": [
       "<Figure size 468x468 with 1 Axes>"
      ]
     },
     "metadata": {
      "needs_background": "light"
     },
     "output_type": "display_data"
    }
   ],
   "source": [
    "df_gb_summary.plot(\"Target Varibale\",kind='barh',figsize=(6.5,6.5),title=\"Gradient Boosting\")"
   ]
  },
  {
   "cell_type": "code",
   "execution_count": 62,
   "metadata": {},
   "outputs": [],
   "source": [
    "list_of_res_df=['df_gb_summarry',\n",
    " 'df_knn_summary',\n",
    " 'df_knn_summary_pca',\n",
    " 'df_linear_reg_summarry',\n",
    " 'df_linear_reg_summary_pca',\n",
    " 'df_rf_summary',\n",
    " 'df_rf_summary_pca',\n",
    " 'df_sgb_summarry',\n",
    " 'df_svr_summary',\n",
    " 'df_svr_summary_pca']"
   ]
  },
  {
   "cell_type": "code",
   "execution_count": 100,
   "metadata": {
    "scrolled": true
   },
   "outputs": [],
   "source": [
    "df_result=pd.concat([df_gb_summary,\n",
    " df_knn_summary,\n",
    " df_knn_summary_pca,\n",
    " df_linear_reg_summarry,\n",
    " df_linear_reg_summary_pca,\n",
    " df_rf_summary,\n",
    " df_rf_summary_pca,\n",
    " df_svr_summary,\n",
    " df_svr_summary_pca],sort=False,ignore_index=True).sort_values([\"Target Varibale\",\"R Score Test\"],ascending=False).reset_index(\n",
    "drop=True)\n",
    "df_result['Model_Rank']=df_result.groupby(\"Target Varibale\").cumcount()+1"
   ]
  },
  {
   "cell_type": "code",
   "execution_count": 123,
   "metadata": {
    "scrolled": true
   },
   "outputs": [],
   "source": [
    "df_result[\"Target Model\"]=df_result[\"Target Varibale\"]+\" \"+df_result[\"Model\"]"
   ]
  },
  {
   "cell_type": "markdown",
   "metadata": {},
   "source": [
    "### Best Modles in terms of R^2 "
   ]
  },
  {
   "cell_type": "code",
   "execution_count": 124,
   "metadata": {},
   "outputs": [
    {
     "data": {
      "text/html": [
       "<div>\n",
       "<style scoped>\n",
       "    .dataframe tbody tr th:only-of-type {\n",
       "        vertical-align: middle;\n",
       "    }\n",
       "\n",
       "    .dataframe tbody tr th {\n",
       "        vertical-align: top;\n",
       "    }\n",
       "\n",
       "    .dataframe thead th {\n",
       "        text-align: right;\n",
       "    }\n",
       "</style>\n",
       "<table border=\"1\" class=\"dataframe\">\n",
       "  <thead>\n",
       "    <tr style=\"text-align: right;\">\n",
       "      <th></th>\n",
       "      <th>Target Varibale</th>\n",
       "      <th>R Score Train</th>\n",
       "      <th>R Score Test</th>\n",
       "      <th>PCA</th>\n",
       "      <th>Model</th>\n",
       "      <th>Grid Search Best Score</th>\n",
       "      <th>Best Estimator</th>\n",
       "      <th>Best Parameters</th>\n",
       "      <th>Model_Rank</th>\n",
       "      <th>Target Model</th>\n",
       "    </tr>\n",
       "  </thead>\n",
       "  <tbody>\n",
       "    <tr>\n",
       "      <th>0</th>\n",
       "      <td>USPHCI</td>\n",
       "      <td>0.9366</td>\n",
       "      <td>0.8777</td>\n",
       "      <td>False</td>\n",
       "      <td>KNN Regressor</td>\n",
       "      <td>0.8468</td>\n",
       "      <td>KNeighborsRegressor(algorithm='auto', leaf_siz...</td>\n",
       "      <td>{'n_neighbors': 3, 'p': 2}</td>\n",
       "      <td>1</td>\n",
       "      <td>USPHCI KNN Regressor</td>\n",
       "    </tr>\n",
       "    <tr>\n",
       "      <th>9</th>\n",
       "      <td>PCT 9MO FWD</td>\n",
       "      <td>0.6900</td>\n",
       "      <td>0.6978</td>\n",
       "      <td>False</td>\n",
       "      <td>KNN Regressor</td>\n",
       "      <td>0.4228</td>\n",
       "      <td>KNeighborsRegressor(algorithm='auto', leaf_siz...</td>\n",
       "      <td>{'n_neighbors': 6, 'p': 1}</td>\n",
       "      <td>1</td>\n",
       "      <td>PCT 9MO FWD KNN Regressor</td>\n",
       "    </tr>\n",
       "    <tr>\n",
       "      <th>18</th>\n",
       "      <td>PCT 6MO FWD</td>\n",
       "      <td>0.6178</td>\n",
       "      <td>0.6021</td>\n",
       "      <td>False</td>\n",
       "      <td>KNN Regressor</td>\n",
       "      <td>0.2792</td>\n",
       "      <td>KNeighborsRegressor(algorithm='auto', leaf_siz...</td>\n",
       "      <td>{'n_neighbors': 6, 'p': 1}</td>\n",
       "      <td>1</td>\n",
       "      <td>PCT 6MO FWD KNN Regressor</td>\n",
       "    </tr>\n",
       "    <tr>\n",
       "      <th>27</th>\n",
       "      <td>PCT 3MO FWD</td>\n",
       "      <td>0.5703</td>\n",
       "      <td>0.4249</td>\n",
       "      <td>False</td>\n",
       "      <td>SVR</td>\n",
       "      <td>0.3425</td>\n",
       "      <td>SVR(C=2, cache_size=200, coef0=0.0, degree=1, ...</td>\n",
       "      <td>{'C': 2, 'degree': 1, 'kernel': 'rbf'}</td>\n",
       "      <td>1</td>\n",
       "      <td>PCT 3MO FWD SVR</td>\n",
       "    </tr>\n",
       "  </tbody>\n",
       "</table>\n",
       "</div>"
      ],
      "text/plain": [
       "   Target Varibale  R Score Train  R Score Test    PCA          Model  \\\n",
       "0           USPHCI         0.9366        0.8777  False  KNN Regressor   \n",
       "9      PCT 9MO FWD         0.6900        0.6978  False  KNN Regressor   \n",
       "18     PCT 6MO FWD         0.6178        0.6021  False  KNN Regressor   \n",
       "27     PCT 3MO FWD         0.5703        0.4249  False            SVR   \n",
       "\n",
       "    Grid Search Best Score                                     Best Estimator  \\\n",
       "0                   0.8468  KNeighborsRegressor(algorithm='auto', leaf_siz...   \n",
       "9                   0.4228  KNeighborsRegressor(algorithm='auto', leaf_siz...   \n",
       "18                  0.2792  KNeighborsRegressor(algorithm='auto', leaf_siz...   \n",
       "27                  0.3425  SVR(C=2, cache_size=200, coef0=0.0, degree=1, ...   \n",
       "\n",
       "                           Best Parameters  Model_Rank  \\\n",
       "0               {'n_neighbors': 3, 'p': 2}           1   \n",
       "9               {'n_neighbors': 6, 'p': 1}           1   \n",
       "18              {'n_neighbors': 6, 'p': 1}           1   \n",
       "27  {'C': 2, 'degree': 1, 'kernel': 'rbf'}           1   \n",
       "\n",
       "                 Target Model  \n",
       "0        USPHCI KNN Regressor  \n",
       "9   PCT 9MO FWD KNN Regressor  \n",
       "18  PCT 6MO FWD KNN Regressor  \n",
       "27            PCT 3MO FWD SVR  "
      ]
     },
     "execution_count": 124,
     "metadata": {},
     "output_type": "execute_result"
    }
   ],
   "source": [
    "df_result.query(\"Model_Rank==1\")"
   ]
  },
  {
   "cell_type": "code",
   "execution_count": 132,
   "metadata": {
    "scrolled": false
   },
   "outputs": [
    {
     "data": {
      "text/plain": [
       "<matplotlib.axes._subplots.AxesSubplot at 0x1dd77009c50>"
      ]
     },
     "execution_count": 132,
     "metadata": {},
     "output_type": "execute_result"
    },
    {
     "data": {
      "image/png": "[encoded data removed]",
      "text/plain": [
       "<Figure size 468x468 with 1 Axes>"
      ]
     },
     "metadata": {
      "needs_background": "light"
     },
     "output_type": "display_data"
    }
   ],
   "source": [
    "df_result.query(\"Model_Rank==1\").plot(x=\"Target Model\",y=[\"R Score Train\",\"R Score Test\",\"Grid Search Best Score\"],\n",
    "                                      kind='barh',figsize=(6.5,6.5),title=\"Highest Models Test Accuracy of Target Variables\")"
   ]
  },
  {
   "cell_type": "code",
   "execution_count": null,
   "metadata": {},
   "outputs": [],
   "source": []
  },
  {
   "cell_type": "code",
   "execution_count": null,
   "metadata": {},
   "outputs": [],
   "source": []
  }
 ],
 "metadata": {
  "kernelspec": {
   "display_name": "Python 3",
   "language": "python",
   "name": "python3"
  },
  "language_info": {
   "codemirror_mode": {
    "name": "ipython",
    "version": 3
   },
   "file_extension": ".py",
   "mimetype": "text/x-python",
   "name": "python",
   "nbconvert_exporter": "python",
   "pygments_lexer": "ipython3",
   "version": "3.7.3"
  }
 },
 "nbformat": 4,
 "nbformat_minor": 2
}
