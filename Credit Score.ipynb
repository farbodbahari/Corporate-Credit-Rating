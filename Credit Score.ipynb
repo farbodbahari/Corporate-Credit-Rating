{
 "cells": [
  {
   "cell_type": "markdown",
   "metadata": {},
   "source": [
    "### CreditScore Data Set "
   ]
  },
  {
   "cell_type": "markdown",
   "metadata": {},
   "source": [
    "###### Models will be fitted\n",
    "1. Logistic Regression\n",
    "2. SVM\n",
    "3. Random Forest\n",
    "4. ElasticNet\n",
    "5. Ensumble These 4 Models"
   ]
  },
  {
   "cell_type": "code",
   "execution_count": 1,
   "metadata": {},
   "outputs": [],
   "source": [
    "#Import Libraries\n",
    "import csv\n",
    "import numpy as np\n",
    "import pandas as pd\n",
    "\n",
    "### Import Descision Tree Classifier\n",
    "from sklearn.tree import DecisionTreeClassifier\n",
    "from sklearn.linear_model import ElasticNet\n",
    "from sklearn.linear_model import LogisticRegression\n",
    "from sklearn.svm import SVC\n",
    "from sklearn.neighbors import KNeighborsClassifier\n",
    "from sklearn.ensemble import RandomForestClassifier\n",
    "from sklearn.ensemble import GradientBoostingClassifier\n",
    "from sklearn.preprocessing import scale\n",
    "from sklearn.decomposition import PCA\n",
    "from sklearn import svm\n",
    "from sklearn.ensemble import VotingClassifier\n",
    "\n",
    "from sklearn.model_selection import train_test_split\n",
    "from sklearn.model_selection import cross_val_score\n",
    "from sklearn.model_selection import GridSearchCV\n",
    "from sklearn.metrics import roc_auc_score\n",
    "from sklearn.pipeline import Pipeline\n",
    "from sklearn.metrics import accuracy_score\n",
    "from sklearn.metrics import classification_report\n",
    "from sklearn.metrics import confusion_matrix\n",
    "\n",
    "# Perform the necessary imports\n",
    "import matplotlib.pyplot as plt\n",
    "## for pearsonr correlation just feed x and y to this\n",
    "from scipy.stats import pearsonr\n",
    "pd.options.display.max_columns=60\n",
    "#Change the Number Fromat of DATA frame\n",
    "pd.options.display.float_format = '{:,.4f}'.format"
   ]
  },
  {
   "cell_type": "code",
   "execution_count": 2,
   "metadata": {
    "scrolled": true
   },
   "outputs": [
    {
     "name": "stdout",
     "output_type": "stream",
     "text": [
      "No Missing Values in the dataset\n"
     ]
    }
   ],
   "source": [
    "### Load the Data\n",
    "seed=42\n",
    "path=\"C:\\\\Users\\\\fbaharkoush\\\\IE 598 Machine Learning\\\\Homework\\\\Group Project\\\\\"\n",
    "df_credit=pd.read_csv(path+\"MLF_GP1_CreditScore.csv\")\n",
    "if df_credit.isnull().sum().sum()==0:\n",
    "    print(\"No Missing Values in the dataset\")"
   ]
  },
  {
   "cell_type": "code",
   "execution_count": 3,
   "metadata": {
    "scrolled": true
   },
   "outputs": [],
   "source": [
    "### Get the dummy variables of Rating and merge it with the dataset\n",
    "df_credit_dummies=pd.merge(df_credit.reset_index(),\n",
    "         pd.get_dummies(df_credit[\"Rating\"]).reset_index(),\n",
    "        left_on=\"index\",right_on=\"index\",how=\"left\").drop(\"index\",axis=1)"
   ]
  },
  {
   "cell_type": "code",
   "execution_count": 4,
   "metadata": {},
   "outputs": [
    {
     "data": {
      "text/html": [
       "<div>\n",
       "<style scoped>\n",
       "    .dataframe tbody tr th:only-of-type {\n",
       "        vertical-align: middle;\n",
       "    }\n",
       "\n",
       "    .dataframe tbody tr th {\n",
       "        vertical-align: top;\n",
       "    }\n",
       "\n",
       "    .dataframe thead th {\n",
       "        text-align: right;\n",
       "    }\n",
       "</style>\n",
       "<table border=\"1\" class=\"dataframe\">\n",
       "  <thead>\n",
       "    <tr style=\"text-align: right;\">\n",
       "      <th></th>\n",
       "      <th>Sales/Revenues</th>\n",
       "      <th>Gross Margin</th>\n",
       "      <th>EBITDA</th>\n",
       "      <th>EBITDA Margin</th>\n",
       "      <th>Net Income Before Extras</th>\n",
       "      <th>Total Debt</th>\n",
       "      <th>Net Debt</th>\n",
       "      <th>LT Debt</th>\n",
       "      <th>ST Debt</th>\n",
       "      <th>Cash</th>\n",
       "      <th>Free Cash Flow</th>\n",
       "      <th>Total Debt/EBITDA</th>\n",
       "      <th>Net Debt/EBITDA</th>\n",
       "      <th>Total MV</th>\n",
       "      <th>Total Debt/MV</th>\n",
       "      <th>Net Debt/MV</th>\n",
       "      <th>CFO/Debt</th>\n",
       "      <th>CFO</th>\n",
       "      <th>Interest Coverage</th>\n",
       "      <th>Total Liquidity</th>\n",
       "      <th>Current Liquidity</th>\n",
       "      <th>Current Liabilities</th>\n",
       "      <th>EPS Before Extras</th>\n",
       "      <th>PE</th>\n",
       "      <th>ROA</th>\n",
       "      <th>ROE</th>\n",
       "      <th>InvGrd</th>\n",
       "      <th>Rating</th>\n",
       "      <th>A1</th>\n",
       "      <th>A2</th>\n",
       "      <th>A3</th>\n",
       "      <th>Aa2</th>\n",
       "      <th>Aa3</th>\n",
       "      <th>Aaa</th>\n",
       "      <th>B1</th>\n",
       "      <th>B2</th>\n",
       "      <th>B3</th>\n",
       "      <th>Ba1</th>\n",
       "      <th>Ba2</th>\n",
       "      <th>Ba3</th>\n",
       "      <th>Baa1</th>\n",
       "      <th>Baa2</th>\n",
       "      <th>Baa3</th>\n",
       "      <th>Caa1</th>\n",
       "    </tr>\n",
       "  </thead>\n",
       "  <tbody>\n",
       "    <tr>\n",
       "      <th>0</th>\n",
       "      <td>-0.0055</td>\n",
       "      <td>0.0308</td>\n",
       "      <td>0.0189</td>\n",
       "      <td>0.0245</td>\n",
       "      <td>0.1468</td>\n",
       "      <td>-0.0297</td>\n",
       "      <td>-0.0193</td>\n",
       "      <td>-0.0426</td>\n",
       "      <td>0.0499</td>\n",
       "      <td>-0.1337</td>\n",
       "      <td>0.3530</td>\n",
       "      <td>-0.0477</td>\n",
       "      <td>-0.0375</td>\n",
       "      <td>0.2636</td>\n",
       "      <td>-0.2321</td>\n",
       "      <td>-0.2239</td>\n",
       "      <td>0.1012</td>\n",
       "      <td>0.0685</td>\n",
       "      <td>0.1367</td>\n",
       "      <td>0.3921</td>\n",
       "      <td>-0.1849</td>\n",
       "      <td>0.0628</td>\n",
       "      <td>0.1483</td>\n",
       "      <td>0.1004</td>\n",
       "      <td>0.1633</td>\n",
       "      <td>0.1025</td>\n",
       "      <td>1</td>\n",
       "      <td>A1</td>\n",
       "      <td>1</td>\n",
       "      <td>0</td>\n",
       "      <td>0</td>\n",
       "      <td>0</td>\n",
       "      <td>0</td>\n",
       "      <td>0</td>\n",
       "      <td>0</td>\n",
       "      <td>0</td>\n",
       "      <td>0</td>\n",
       "      <td>0</td>\n",
       "      <td>0</td>\n",
       "      <td>0</td>\n",
       "      <td>0</td>\n",
       "      <td>0</td>\n",
       "      <td>0</td>\n",
       "      <td>0</td>\n",
       "    </tr>\n",
       "    <tr>\n",
       "      <th>1</th>\n",
       "      <td>-0.0055</td>\n",
       "      <td>0.0308</td>\n",
       "      <td>0.0887</td>\n",
       "      <td>0.0947</td>\n",
       "      <td>0.1468</td>\n",
       "      <td>-0.0297</td>\n",
       "      <td>-0.0193</td>\n",
       "      <td>-0.0426</td>\n",
       "      <td>0.0499</td>\n",
       "      <td>-0.1337</td>\n",
       "      <td>0.3530</td>\n",
       "      <td>-0.1088</td>\n",
       "      <td>-0.0992</td>\n",
       "      <td>0.0454</td>\n",
       "      <td>-0.0719</td>\n",
       "      <td>-0.0619</td>\n",
       "      <td>0.1012</td>\n",
       "      <td>0.0685</td>\n",
       "      <td>0.2147</td>\n",
       "      <td>0.3921</td>\n",
       "      <td>-0.1849</td>\n",
       "      <td>0.0628</td>\n",
       "      <td>0.1483</td>\n",
       "      <td>-0.0896</td>\n",
       "      <td>0.1633</td>\n",
       "      <td>0.1025</td>\n",
       "      <td>1</td>\n",
       "      <td>A1</td>\n",
       "      <td>1</td>\n",
       "      <td>0</td>\n",
       "      <td>0</td>\n",
       "      <td>0</td>\n",
       "      <td>0</td>\n",
       "      <td>0</td>\n",
       "      <td>0</td>\n",
       "      <td>0</td>\n",
       "      <td>0</td>\n",
       "      <td>0</td>\n",
       "      <td>0</td>\n",
       "      <td>0</td>\n",
       "      <td>0</td>\n",
       "      <td>0</td>\n",
       "      <td>0</td>\n",
       "      <td>0</td>\n",
       "    </tr>\n",
       "  </tbody>\n",
       "</table>\n",
       "</div>"
      ],
      "text/plain": [
       "   Sales/Revenues  Gross Margin  EBITDA  EBITDA Margin  \\\n",
       "0         -0.0055        0.0308  0.0189         0.0245   \n",
       "1         -0.0055        0.0308  0.0887         0.0947   \n",
       "\n",
       "   Net Income Before Extras  Total Debt  Net Debt  LT Debt  ST Debt    Cash  \\\n",
       "0                    0.1468     -0.0297   -0.0193  -0.0426   0.0499 -0.1337   \n",
       "1                    0.1468     -0.0297   -0.0193  -0.0426   0.0499 -0.1337   \n",
       "\n",
       "   Free Cash Flow  Total Debt/EBITDA  Net Debt/EBITDA  Total MV  \\\n",
       "0          0.3530            -0.0477          -0.0375    0.2636   \n",
       "1          0.3530            -0.1088          -0.0992    0.0454   \n",
       "\n",
       "   Total Debt/MV  Net Debt/MV  CFO/Debt    CFO  Interest Coverage  \\\n",
       "0        -0.2321      -0.2239    0.1012 0.0685             0.1367   \n",
       "1        -0.0719      -0.0619    0.1012 0.0685             0.2147   \n",
       "\n",
       "   Total Liquidity  Current Liquidity  Current Liabilities  EPS Before Extras  \\\n",
       "0           0.3921            -0.1849               0.0628             0.1483   \n",
       "1           0.3921            -0.1849               0.0628             0.1483   \n",
       "\n",
       "       PE    ROA    ROE  InvGrd Rating  A1  A2  A3  Aa2  Aa3  Aaa  B1  B2  B3  \\\n",
       "0  0.1004 0.1633 0.1025       1     A1   1   0   0    0    0    0   0   0   0   \n",
       "1 -0.0896 0.1633 0.1025       1     A1   1   0   0    0    0    0   0   0   0   \n",
       "\n",
       "   Ba1  Ba2  Ba3  Baa1  Baa2  Baa3  Caa1  \n",
       "0    0    0    0     0     0     0     0  \n",
       "1    0    0    0     0     0     0     0  "
      ]
     },
     "execution_count": 4,
     "metadata": {},
     "output_type": "execute_result"
    }
   ],
   "source": [
    "df_credit_dummies.head(2)"
   ]
  },
  {
   "cell_type": "code",
   "execution_count": 5,
   "metadata": {
    "scrolled": true
   },
   "outputs": [],
   "source": [
    "### X and y\n",
    "X=scale(df_credit_dummies.drop(['InvGrd', 'Rating'],axis=1).values)\n",
    "y=df_credit_dummies[\"InvGrd\"].values\n",
    "### Train and Test\n",
    "X_train,X_test,y_train,y_test=train_test_split(X,y,test_size=0.25,random_state=seed)"
   ]
  },
  {
   "cell_type": "markdown",
   "metadata": {},
   "source": [
    "###  PCA with Dummy Variables"
   ]
  },
  {
   "cell_type": "code",
   "execution_count": 6,
   "metadata": {},
   "outputs": [
    {
     "data": {
      "text/plain": [
       "array([[-1.15248335e-01,  3.04056439e-02, -5.73625149e-02, ...,\n",
       "        -1.98683295e-03,  1.21401142e-03, -2.07682906e-15],\n",
       "       [-1.06970414e-01,  4.46568712e-02, -1.00024599e-02, ...,\n",
       "        -2.10264952e-03,  4.68145873e-05, -1.09291666e-15],\n",
       "       [-1.00726759e-01,  4.49912941e-02,  2.03696419e-02, ...,\n",
       "        -7.42464244e-04,  4.08196549e-04,  4.80258635e-15],\n",
       "       ...,\n",
       "       [-1.64284497e-01, -6.88637238e-01, -5.71696306e-01, ...,\n",
       "        -1.00729677e-03,  1.42029979e-03,  1.05203267e-15],\n",
       "       [-1.02581361e-01, -7.12270022e-01, -6.22364252e-01, ...,\n",
       "         7.70699272e-04, -1.54993582e-03,  4.80073863e-16],\n",
       "       [-2.14992750e-01, -6.88032028e-01, -6.28300064e-01, ...,\n",
       "         2.69455000e-03, -8.46058966e-04,  9.73895010e-17]])"
      ]
     },
     "execution_count": 6,
     "metadata": {},
     "output_type": "execute_result"
    }
   ],
   "source": [
    "# Create PCA instance: model\n",
    "pca_model = PCA()\n",
    "### Fit the Features value to PCA\n",
    "pca_model.fit_transform(X)"
   ]
  },
  {
   "cell_type": "code",
   "execution_count": 7,
   "metadata": {},
   "outputs": [],
   "source": [
    "X_features=list(df_credit_dummies.drop(['InvGrd', 'Rating'],axis=1).columns)"
   ]
  },
  {
   "cell_type": "code",
   "execution_count": 8,
   "metadata": {
    "scrolled": true
   },
   "outputs": [],
   "source": [
    "df_pca_exp_var=pd.DataFrame({\"Features\":X_features,\n",
    "              \"PCA_Exp_Var\":pca_model.explained_variance_ratio_}).sort_values(\"PCA_Exp_Var\",ascending=False)\n",
    "df_pca_exp_var[\"Cummulative Exp Var\"]=df_pca_exp_var[\"PCA_Exp_Var\"].cumsum()"
   ]
  },
  {
   "cell_type": "markdown",
   "metadata": {},
   "source": [
    "##### PCA Report With Dummy Variables"
   ]
  },
  {
   "cell_type": "code",
   "execution_count": 9,
   "metadata": {
    "scrolled": true
   },
   "outputs": [
    {
     "data": {
      "text/html": [
       "<div>\n",
       "<style scoped>\n",
       "    .dataframe tbody tr th:only-of-type {\n",
       "        vertical-align: middle;\n",
       "    }\n",
       "\n",
       "    .dataframe tbody tr th {\n",
       "        vertical-align: top;\n",
       "    }\n",
       "\n",
       "    .dataframe thead th {\n",
       "        text-align: right;\n",
       "    }\n",
       "</style>\n",
       "<table border=\"1\" class=\"dataframe\">\n",
       "  <thead>\n",
       "    <tr style=\"text-align: right;\">\n",
       "      <th></th>\n",
       "      <th>Features</th>\n",
       "      <th>PCA_Exp_Var</th>\n",
       "      <th>Cummulative Exp Var</th>\n",
       "    </tr>\n",
       "  </thead>\n",
       "  <tbody>\n",
       "    <tr>\n",
       "      <th>0</th>\n",
       "      <td>Sales/Revenues</td>\n",
       "      <td>0.0936</td>\n",
       "      <td>0.0936</td>\n",
       "    </tr>\n",
       "    <tr>\n",
       "      <th>1</th>\n",
       "      <td>Gross Margin</td>\n",
       "      <td>0.0737</td>\n",
       "      <td>0.1673</td>\n",
       "    </tr>\n",
       "    <tr>\n",
       "      <th>2</th>\n",
       "      <td>EBITDA</td>\n",
       "      <td>0.0707</td>\n",
       "      <td>0.2381</td>\n",
       "    </tr>\n",
       "    <tr>\n",
       "      <th>3</th>\n",
       "      <td>EBITDA Margin</td>\n",
       "      <td>0.0517</td>\n",
       "      <td>0.2897</td>\n",
       "    </tr>\n",
       "    <tr>\n",
       "      <th>4</th>\n",
       "      <td>Net Income Before Extras</td>\n",
       "      <td>0.0495</td>\n",
       "      <td>0.3392</td>\n",
       "    </tr>\n",
       "    <tr>\n",
       "      <th>5</th>\n",
       "      <td>Total Debt</td>\n",
       "      <td>0.0481</td>\n",
       "      <td>0.3873</td>\n",
       "    </tr>\n",
       "    <tr>\n",
       "      <th>6</th>\n",
       "      <td>Net Debt</td>\n",
       "      <td>0.0372</td>\n",
       "      <td>0.4245</td>\n",
       "    </tr>\n",
       "    <tr>\n",
       "      <th>7</th>\n",
       "      <td>LT Debt</td>\n",
       "      <td>0.0298</td>\n",
       "      <td>0.4543</td>\n",
       "    </tr>\n",
       "    <tr>\n",
       "      <th>8</th>\n",
       "      <td>ST Debt</td>\n",
       "      <td>0.0288</td>\n",
       "      <td>0.4831</td>\n",
       "    </tr>\n",
       "    <tr>\n",
       "      <th>9</th>\n",
       "      <td>Cash</td>\n",
       "      <td>0.0282</td>\n",
       "      <td>0.5113</td>\n",
       "    </tr>\n",
       "    <tr>\n",
       "      <th>10</th>\n",
       "      <td>Free Cash Flow</td>\n",
       "      <td>0.0272</td>\n",
       "      <td>0.5385</td>\n",
       "    </tr>\n",
       "    <tr>\n",
       "      <th>11</th>\n",
       "      <td>Total Debt/EBITDA</td>\n",
       "      <td>0.0268</td>\n",
       "      <td>0.5653</td>\n",
       "    </tr>\n",
       "    <tr>\n",
       "      <th>12</th>\n",
       "      <td>Net Debt/EBITDA</td>\n",
       "      <td>0.0265</td>\n",
       "      <td>0.5918</td>\n",
       "    </tr>\n",
       "    <tr>\n",
       "      <th>13</th>\n",
       "      <td>Total MV</td>\n",
       "      <td>0.0262</td>\n",
       "      <td>0.6180</td>\n",
       "    </tr>\n",
       "    <tr>\n",
       "      <th>14</th>\n",
       "      <td>Total Debt/MV</td>\n",
       "      <td>0.0259</td>\n",
       "      <td>0.6440</td>\n",
       "    </tr>\n",
       "    <tr>\n",
       "      <th>15</th>\n",
       "      <td>Net Debt/MV</td>\n",
       "      <td>0.0254</td>\n",
       "      <td>0.6694</td>\n",
       "    </tr>\n",
       "    <tr>\n",
       "      <th>16</th>\n",
       "      <td>CFO/Debt</td>\n",
       "      <td>0.0250</td>\n",
       "      <td>0.6944</td>\n",
       "    </tr>\n",
       "    <tr>\n",
       "      <th>17</th>\n",
       "      <td>CFO</td>\n",
       "      <td>0.0245</td>\n",
       "      <td>0.7189</td>\n",
       "    </tr>\n",
       "    <tr>\n",
       "      <th>18</th>\n",
       "      <td>Interest Coverage</td>\n",
       "      <td>0.0241</td>\n",
       "      <td>0.7430</td>\n",
       "    </tr>\n",
       "    <tr>\n",
       "      <th>19</th>\n",
       "      <td>Total Liquidity</td>\n",
       "      <td>0.0237</td>\n",
       "      <td>0.7667</td>\n",
       "    </tr>\n",
       "    <tr>\n",
       "      <th>20</th>\n",
       "      <td>Current Liquidity</td>\n",
       "      <td>0.0234</td>\n",
       "      <td>0.7902</td>\n",
       "    </tr>\n",
       "    <tr>\n",
       "      <th>21</th>\n",
       "      <td>Current Liabilities</td>\n",
       "      <td>0.0233</td>\n",
       "      <td>0.8135</td>\n",
       "    </tr>\n",
       "    <tr>\n",
       "      <th>22</th>\n",
       "      <td>EPS Before Extras</td>\n",
       "      <td>0.0228</td>\n",
       "      <td>0.8363</td>\n",
       "    </tr>\n",
       "    <tr>\n",
       "      <th>23</th>\n",
       "      <td>PE</td>\n",
       "      <td>0.0217</td>\n",
       "      <td>0.8580</td>\n",
       "    </tr>\n",
       "    <tr>\n",
       "      <th>24</th>\n",
       "      <td>ROA</td>\n",
       "      <td>0.0209</td>\n",
       "      <td>0.8789</td>\n",
       "    </tr>\n",
       "    <tr>\n",
       "      <th>25</th>\n",
       "      <td>ROE</td>\n",
       "      <td>0.0204</td>\n",
       "      <td>0.8993</td>\n",
       "    </tr>\n",
       "    <tr>\n",
       "      <th>26</th>\n",
       "      <td>A1</td>\n",
       "      <td>0.0201</td>\n",
       "      <td>0.9194</td>\n",
       "    </tr>\n",
       "    <tr>\n",
       "      <th>27</th>\n",
       "      <td>A2</td>\n",
       "      <td>0.0195</td>\n",
       "      <td>0.9389</td>\n",
       "    </tr>\n",
       "    <tr>\n",
       "      <th>28</th>\n",
       "      <td>A3</td>\n",
       "      <td>0.0173</td>\n",
       "      <td>0.9562</td>\n",
       "    </tr>\n",
       "    <tr>\n",
       "      <th>29</th>\n",
       "      <td>Aa2</td>\n",
       "      <td>0.0149</td>\n",
       "      <td>0.9712</td>\n",
       "    </tr>\n",
       "    <tr>\n",
       "      <th>30</th>\n",
       "      <td>Aa3</td>\n",
       "      <td>0.0102</td>\n",
       "      <td>0.9814</td>\n",
       "    </tr>\n",
       "    <tr>\n",
       "      <th>31</th>\n",
       "      <td>Aaa</td>\n",
       "      <td>0.0066</td>\n",
       "      <td>0.9879</td>\n",
       "    </tr>\n",
       "    <tr>\n",
       "      <th>32</th>\n",
       "      <td>B1</td>\n",
       "      <td>0.0057</td>\n",
       "      <td>0.9936</td>\n",
       "    </tr>\n",
       "    <tr>\n",
       "      <th>33</th>\n",
       "      <td>B2</td>\n",
       "      <td>0.0038</td>\n",
       "      <td>0.9974</td>\n",
       "    </tr>\n",
       "    <tr>\n",
       "      <th>34</th>\n",
       "      <td>B3</td>\n",
       "      <td>0.0010</td>\n",
       "      <td>0.9984</td>\n",
       "    </tr>\n",
       "    <tr>\n",
       "      <th>35</th>\n",
       "      <td>Ba1</td>\n",
       "      <td>0.0007</td>\n",
       "      <td>0.9991</td>\n",
       "    </tr>\n",
       "    <tr>\n",
       "      <th>36</th>\n",
       "      <td>Ba2</td>\n",
       "      <td>0.0003</td>\n",
       "      <td>0.9995</td>\n",
       "    </tr>\n",
       "    <tr>\n",
       "      <th>37</th>\n",
       "      <td>Ba3</td>\n",
       "      <td>0.0003</td>\n",
       "      <td>0.9997</td>\n",
       "    </tr>\n",
       "    <tr>\n",
       "      <th>38</th>\n",
       "      <td>Baa1</td>\n",
       "      <td>0.0002</td>\n",
       "      <td>0.9999</td>\n",
       "    </tr>\n",
       "    <tr>\n",
       "      <th>39</th>\n",
       "      <td>Baa2</td>\n",
       "      <td>0.0001</td>\n",
       "      <td>1.0000</td>\n",
       "    </tr>\n",
       "    <tr>\n",
       "      <th>40</th>\n",
       "      <td>Baa3</td>\n",
       "      <td>0.0000</td>\n",
       "      <td>1.0000</td>\n",
       "    </tr>\n",
       "    <tr>\n",
       "      <th>41</th>\n",
       "      <td>Caa1</td>\n",
       "      <td>0.0000</td>\n",
       "      <td>1.0000</td>\n",
       "    </tr>\n",
       "  </tbody>\n",
       "</table>\n",
       "</div>"
      ],
      "text/plain": [
       "                    Features  PCA_Exp_Var  Cummulative Exp Var\n",
       "0             Sales/Revenues       0.0936               0.0936\n",
       "1               Gross Margin       0.0737               0.1673\n",
       "2                     EBITDA       0.0707               0.2381\n",
       "3              EBITDA Margin       0.0517               0.2897\n",
       "4   Net Income Before Extras       0.0495               0.3392\n",
       "5                 Total Debt       0.0481               0.3873\n",
       "6                   Net Debt       0.0372               0.4245\n",
       "7                    LT Debt       0.0298               0.4543\n",
       "8                    ST Debt       0.0288               0.4831\n",
       "9                       Cash       0.0282               0.5113\n",
       "10            Free Cash Flow       0.0272               0.5385\n",
       "11         Total Debt/EBITDA       0.0268               0.5653\n",
       "12           Net Debt/EBITDA       0.0265               0.5918\n",
       "13                  Total MV       0.0262               0.6180\n",
       "14             Total Debt/MV       0.0259               0.6440\n",
       "15               Net Debt/MV       0.0254               0.6694\n",
       "16                  CFO/Debt       0.0250               0.6944\n",
       "17                       CFO       0.0245               0.7189\n",
       "18         Interest Coverage       0.0241               0.7430\n",
       "19           Total Liquidity       0.0237               0.7667\n",
       "20         Current Liquidity       0.0234               0.7902\n",
       "21       Current Liabilities       0.0233               0.8135\n",
       "22         EPS Before Extras       0.0228               0.8363\n",
       "23                        PE       0.0217               0.8580\n",
       "24                       ROA       0.0209               0.8789\n",
       "25                       ROE       0.0204               0.8993\n",
       "26                        A1       0.0201               0.9194\n",
       "27                        A2       0.0195               0.9389\n",
       "28                        A3       0.0173               0.9562\n",
       "29                       Aa2       0.0149               0.9712\n",
       "30                       Aa3       0.0102               0.9814\n",
       "31                       Aaa       0.0066               0.9879\n",
       "32                        B1       0.0057               0.9936\n",
       "33                        B2       0.0038               0.9974\n",
       "34                        B3       0.0010               0.9984\n",
       "35                       Ba1       0.0007               0.9991\n",
       "36                       Ba2       0.0003               0.9995\n",
       "37                       Ba3       0.0003               0.9997\n",
       "38                      Baa1       0.0002               0.9999\n",
       "39                      Baa2       0.0001               1.0000\n",
       "40                      Baa3       0.0000               1.0000\n",
       "41                      Caa1       0.0000               1.0000"
      ]
     },
     "execution_count": 9,
     "metadata": {},
     "output_type": "execute_result"
    }
   ],
   "source": [
    "df_pca_exp_var"
   ]
  },
  {
   "cell_type": "code",
   "execution_count": 10,
   "metadata": {},
   "outputs": [
    {
     "data": {
      "image/png": "[encoded data removed]",
      "text/plain": [
       "<Figure size 432x288 with 1 Axes>"
      ]
     },
     "metadata": {
      "needs_background": "light"
     },
     "output_type": "display_data"
    }
   ],
   "source": [
    "plotX = df_pca_exp_var.iloc[:, 0]\n",
    "plotY1 = df_pca_exp_var.iloc[:, 1]\n",
    "plotY2 = df_pca_exp_var.iloc[:, 2]\n",
    "plt.xticks(rotation=90)\n",
    "plt.plot(plotX, plotY1)\n",
    "plt.plot(plotX, plotY2)\n",
    "plt.legend(['PCA_Exp_Var', 'Cummulative Exp Var'])\n",
    "plt.tick_params(axis='x', which='major', labelsize=8)\n",
    "plt.tight_layout()"
   ]
  },
  {
   "cell_type": "markdown",
   "metadata": {},
   "source": [
    "###  1.1 Logistic Regression\n",
    "Target Vaiable: InvGrd with Duummy Variables"
   ]
  },
  {
   "cell_type": "code",
   "execution_count": 11,
   "metadata": {
    "scrolled": true
   },
   "outputs": [],
   "source": [
    "## Fit the Model\n",
    "logReg_model=LogisticRegression(solver='lbfgs')\n",
    "logReg_model.fit(X_train,y_train)\n",
    "### Predict\n",
    "y_pred_train=logReg_model.predict(X_train)\n",
    "y_pred_test=logReg_model.predict(X_test)"
   ]
  },
  {
   "cell_type": "code",
   "execution_count": 12,
   "metadata": {},
   "outputs": [
    {
     "name": "stdout",
     "output_type": "stream",
     "text": [
      "Accuracy Score of Logistic Regression Model with dummy variables on Train Set 1.0\n",
      "Accuracy Score of Logistic Regression Model with dummy variables on Test Set 1.0\n",
      "ROC_AUC of Logistic Regression Model with dummy variables on Train Set 1.0\n",
      "ROC_AUC  of Logistic Regression Model with dummy variables on Test Set 1.0\n"
     ]
    }
   ],
   "source": [
    "print(\"Accuracy Score of Logistic Regression Model with dummy variables on Train Set\",logReg_model.score(X_train,y_train))\n",
    "print(\"Accuracy Score of Logistic Regression Model with dummy variables on Test Set\",logReg_model.score(X_test,y_test))\n",
    "print(\"ROC_AUC of Logistic Regression Model with dummy variables on Train Set\",roc_auc_score(y_train,y_pred_train))\n",
    "print(\"ROC_AUC  of Logistic Regression Model with dummy variables on Test Set\",roc_auc_score(y_test,y_pred_test))"
   ]
  },
  {
   "cell_type": "markdown",
   "metadata": {},
   "source": [
    "As we noticed creating the dummy variables is boosting the model accuracy. In the following code we are going to remove \"Rating\" dummy variables and run the logistic regression model again and see what happens to the result."
   ]
  },
  {
   "cell_type": "code",
   "execution_count": 13,
   "metadata": {},
   "outputs": [],
   "source": [
    "list_to_drop=['InvGrd', 'Rating', 'A1', 'A2', 'A3', 'Aa2', 'Aa3', 'Aaa',\n",
    "       'B1', 'B2', 'B3', 'Ba1', 'Ba2', 'Ba3', 'Baa1', 'Baa2', 'Baa3', 'Caa1']"
   ]
  },
  {
   "cell_type": "code",
   "execution_count": 14,
   "metadata": {},
   "outputs": [],
   "source": [
    "X=scale(df_credit_dummies.drop(list_to_drop,axis=1).values)\n",
    "y=df_credit_dummies[\"InvGrd\"].values\n",
    "### Train and Test\n",
    "X_train,X_test,y_train,y_test=train_test_split(X,y,test_size=0.25,random_state=seed)"
   ]
  },
  {
   "cell_type": "code",
   "execution_count": 15,
   "metadata": {},
   "outputs": [],
   "source": [
    "del y_pred_train , y_pred_test"
   ]
  },
  {
   "cell_type": "markdown",
   "metadata": {},
   "source": [
    "### PCA without Dummy Variables"
   ]
  },
  {
   "cell_type": "code",
   "execution_count": 16,
   "metadata": {},
   "outputs": [
    {
     "data": {
      "text/plain": [
       "array([[-0.15189997,  0.0235405 , -0.06845795, ..., -0.00784368,\n",
       "        -0.00442878, -0.00160618],\n",
       "       [-0.14272847,  0.03249937, -0.01855342, ..., -0.00370066,\n",
       "        -0.00426299, -0.00279038],\n",
       "       [-0.13566313,  0.02783463,  0.00923416, ..., -0.00908331,\n",
       "        -0.00279016, -0.00242822],\n",
       "       ...,\n",
       "       [-0.13568104, -0.43058978, -0.44130577, ...,  0.02968121,\n",
       "        -0.00582438,  0.00059085],\n",
       "       [-0.0733207 , -0.4424719 , -0.4753796 , ..., -0.00732613,\n",
       "        -0.00338393, -0.00238864],\n",
       "       [-0.18756961, -0.4270099 , -0.50309818, ..., -0.0221842 ,\n",
       "        -0.00134203, -0.00167871]])"
      ]
     },
     "execution_count": 16,
     "metadata": {},
     "output_type": "execute_result"
    }
   ],
   "source": [
    "# Create PCA instance: model\n",
    "pca_model = PCA()\n",
    "### Fit the Features value to PCA\n",
    "pca_model.fit_transform(X)"
   ]
  },
  {
   "cell_type": "code",
   "execution_count": 17,
   "metadata": {},
   "outputs": [],
   "source": [
    "X_features=list(df_credit_dummies.drop(list_to_drop,axis=1).columns)"
   ]
  },
  {
   "cell_type": "code",
   "execution_count": 18,
   "metadata": {},
   "outputs": [],
   "source": [
    "df_pca_exp_var=pd.DataFrame({\"Features\":X_features,\n",
    "              \"PCA_Exp_Var\":pca_model.explained_variance_ratio_}).sort_values(\"PCA_Exp_Var\",ascending=False)\n",
    "df_pca_exp_var[\"Cummulative Exp Var\"]=df_pca_exp_var[\"PCA_Exp_Var\"].cumsum()"
   ]
  },
  {
   "cell_type": "markdown",
   "metadata": {},
   "source": [
    "##### PCA Report Without Dummy Variables"
   ]
  },
  {
   "cell_type": "code",
   "execution_count": 19,
   "metadata": {
    "scrolled": true
   },
   "outputs": [
    {
     "data": {
      "text/html": [
       "<div>\n",
       "<style scoped>\n",
       "    .dataframe tbody tr th:only-of-type {\n",
       "        vertical-align: middle;\n",
       "    }\n",
       "\n",
       "    .dataframe tbody tr th {\n",
       "        vertical-align: top;\n",
       "    }\n",
       "\n",
       "    .dataframe thead th {\n",
       "        text-align: right;\n",
       "    }\n",
       "</style>\n",
       "<table border=\"1\" class=\"dataframe\">\n",
       "  <thead>\n",
       "    <tr style=\"text-align: right;\">\n",
       "      <th></th>\n",
       "      <th>Features</th>\n",
       "      <th>PCA_Exp_Var</th>\n",
       "      <th>Cummulative Exp Var</th>\n",
       "    </tr>\n",
       "  </thead>\n",
       "  <tbody>\n",
       "    <tr>\n",
       "      <th>0</th>\n",
       "      <td>Sales/Revenues</td>\n",
       "      <td>0.1443</td>\n",
       "      <td>0.1443</td>\n",
       "    </tr>\n",
       "    <tr>\n",
       "      <th>1</th>\n",
       "      <td>Gross Margin</td>\n",
       "      <td>0.1185</td>\n",
       "      <td>0.2628</td>\n",
       "    </tr>\n",
       "    <tr>\n",
       "      <th>2</th>\n",
       "      <td>EBITDA</td>\n",
       "      <td>0.1126</td>\n",
       "      <td>0.3754</td>\n",
       "    </tr>\n",
       "    <tr>\n",
       "      <th>3</th>\n",
       "      <td>EBITDA Margin</td>\n",
       "      <td>0.0819</td>\n",
       "      <td>0.4573</td>\n",
       "    </tr>\n",
       "    <tr>\n",
       "      <th>4</th>\n",
       "      <td>Net Income Before Extras</td>\n",
       "      <td>0.0769</td>\n",
       "      <td>0.5342</td>\n",
       "    </tr>\n",
       "    <tr>\n",
       "      <th>5</th>\n",
       "      <td>Total Debt</td>\n",
       "      <td>0.0755</td>\n",
       "      <td>0.6097</td>\n",
       "    </tr>\n",
       "    <tr>\n",
       "      <th>6</th>\n",
       "      <td>Net Debt</td>\n",
       "      <td>0.0575</td>\n",
       "      <td>0.6672</td>\n",
       "    </tr>\n",
       "    <tr>\n",
       "      <th>7</th>\n",
       "      <td>LT Debt</td>\n",
       "      <td>0.0420</td>\n",
       "      <td>0.7092</td>\n",
       "    </tr>\n",
       "    <tr>\n",
       "      <th>8</th>\n",
       "      <td>ST Debt</td>\n",
       "      <td>0.0390</td>\n",
       "      <td>0.7482</td>\n",
       "    </tr>\n",
       "    <tr>\n",
       "      <th>9</th>\n",
       "      <td>Cash</td>\n",
       "      <td>0.0382</td>\n",
       "      <td>0.7864</td>\n",
       "    </tr>\n",
       "    <tr>\n",
       "      <th>10</th>\n",
       "      <td>Free Cash Flow</td>\n",
       "      <td>0.0377</td>\n",
       "      <td>0.8241</td>\n",
       "    </tr>\n",
       "    <tr>\n",
       "      <th>11</th>\n",
       "      <td>Total Debt/EBITDA</td>\n",
       "      <td>0.0372</td>\n",
       "      <td>0.8613</td>\n",
       "    </tr>\n",
       "    <tr>\n",
       "      <th>12</th>\n",
       "      <td>Net Debt/EBITDA</td>\n",
       "      <td>0.0352</td>\n",
       "      <td>0.8965</td>\n",
       "    </tr>\n",
       "    <tr>\n",
       "      <th>13</th>\n",
       "      <td>Total MV</td>\n",
       "      <td>0.0306</td>\n",
       "      <td>0.9271</td>\n",
       "    </tr>\n",
       "    <tr>\n",
       "      <th>14</th>\n",
       "      <td>Total Debt/MV</td>\n",
       "      <td>0.0245</td>\n",
       "      <td>0.9516</td>\n",
       "    </tr>\n",
       "    <tr>\n",
       "      <th>15</th>\n",
       "      <td>Net Debt/MV</td>\n",
       "      <td>0.0175</td>\n",
       "      <td>0.9691</td>\n",
       "    </tr>\n",
       "    <tr>\n",
       "      <th>16</th>\n",
       "      <td>CFO/Debt</td>\n",
       "      <td>0.0108</td>\n",
       "      <td>0.9799</td>\n",
       "    </tr>\n",
       "    <tr>\n",
       "      <th>17</th>\n",
       "      <td>CFO</td>\n",
       "      <td>0.0095</td>\n",
       "      <td>0.9893</td>\n",
       "    </tr>\n",
       "    <tr>\n",
       "      <th>18</th>\n",
       "      <td>Interest Coverage</td>\n",
       "      <td>0.0062</td>\n",
       "      <td>0.9955</td>\n",
       "    </tr>\n",
       "    <tr>\n",
       "      <th>19</th>\n",
       "      <td>Total Liquidity</td>\n",
       "      <td>0.0018</td>\n",
       "      <td>0.9973</td>\n",
       "    </tr>\n",
       "    <tr>\n",
       "      <th>20</th>\n",
       "      <td>Current Liquidity</td>\n",
       "      <td>0.0012</td>\n",
       "      <td>0.9986</td>\n",
       "    </tr>\n",
       "    <tr>\n",
       "      <th>21</th>\n",
       "      <td>Current Liabilities</td>\n",
       "      <td>0.0006</td>\n",
       "      <td>0.9991</td>\n",
       "    </tr>\n",
       "    <tr>\n",
       "      <th>22</th>\n",
       "      <td>EPS Before Extras</td>\n",
       "      <td>0.0005</td>\n",
       "      <td>0.9996</td>\n",
       "    </tr>\n",
       "    <tr>\n",
       "      <th>23</th>\n",
       "      <td>PE</td>\n",
       "      <td>0.0003</td>\n",
       "      <td>0.9999</td>\n",
       "    </tr>\n",
       "    <tr>\n",
       "      <th>24</th>\n",
       "      <td>ROA</td>\n",
       "      <td>0.0001</td>\n",
       "      <td>1.0000</td>\n",
       "    </tr>\n",
       "    <tr>\n",
       "      <th>25</th>\n",
       "      <td>ROE</td>\n",
       "      <td>0.0000</td>\n",
       "      <td>1.0000</td>\n",
       "    </tr>\n",
       "  </tbody>\n",
       "</table>\n",
       "</div>"
      ],
      "text/plain": [
       "                    Features  PCA_Exp_Var  Cummulative Exp Var\n",
       "0             Sales/Revenues       0.1443               0.1443\n",
       "1               Gross Margin       0.1185               0.2628\n",
       "2                     EBITDA       0.1126               0.3754\n",
       "3              EBITDA Margin       0.0819               0.4573\n",
       "4   Net Income Before Extras       0.0769               0.5342\n",
       "5                 Total Debt       0.0755               0.6097\n",
       "6                   Net Debt       0.0575               0.6672\n",
       "7                    LT Debt       0.0420               0.7092\n",
       "8                    ST Debt       0.0390               0.7482\n",
       "9                       Cash       0.0382               0.7864\n",
       "10            Free Cash Flow       0.0377               0.8241\n",
       "11         Total Debt/EBITDA       0.0372               0.8613\n",
       "12           Net Debt/EBITDA       0.0352               0.8965\n",
       "13                  Total MV       0.0306               0.9271\n",
       "14             Total Debt/MV       0.0245               0.9516\n",
       "15               Net Debt/MV       0.0175               0.9691\n",
       "16                  CFO/Debt       0.0108               0.9799\n",
       "17                       CFO       0.0095               0.9893\n",
       "18         Interest Coverage       0.0062               0.9955\n",
       "19           Total Liquidity       0.0018               0.9973\n",
       "20         Current Liquidity       0.0012               0.9986\n",
       "21       Current Liabilities       0.0006               0.9991\n",
       "22         EPS Before Extras       0.0005               0.9996\n",
       "23                        PE       0.0003               0.9999\n",
       "24                       ROA       0.0001               1.0000\n",
       "25                       ROE       0.0000               1.0000"
      ]
     },
     "execution_count": 19,
     "metadata": {},
     "output_type": "execute_result"
    }
   ],
   "source": [
    "df_pca_exp_var"
   ]
  },
  {
   "cell_type": "code",
   "execution_count": 20,
   "metadata": {},
   "outputs": [
    {
     "data": {
      "image/png": "[encoded data removed]",
      "text/plain": [
       "<Figure size 432x288 with 1 Axes>"
      ]
     },
     "metadata": {
      "needs_background": "light"
     },
     "output_type": "display_data"
    }
   ],
   "source": [
    "plotX = df_pca_exp_var.iloc[:, 0]\n",
    "plotY1 = df_pca_exp_var.iloc[:, 1]\n",
    "plotY2 = df_pca_exp_var.iloc[:, 2]\n",
    "plt.xticks(rotation=90)\n",
    "plt.plot(plotX, plotY1)\n",
    "plt.plot(plotX, plotY2)\n",
    "plt.legend(['PCA_Exp_Var', 'Cummulative Exp Var'])\n",
    "plt.tick_params(axis='x', which='major', labelsize=8)\n",
    "plt.tight_layout()"
   ]
  },
  {
   "cell_type": "markdown",
   "metadata": {},
   "source": [
    "### 1.2 Logistic Regression\n",
    "Target Vaiable: InvGrd without Duummy Variables"
   ]
  },
  {
   "cell_type": "code",
   "execution_count": 21,
   "metadata": {},
   "outputs": [],
   "source": [
    "## Fit the Model\n",
    "logReg_model=LogisticRegression(solver='lbfgs')\n",
    "logReg_model.fit(X_train,y_train)\n",
    "### Predict\n",
    "y_pred_train=logReg_model.predict(X_train)\n",
    "y_pred_test=logReg_model.predict(X_test)"
   ]
  },
  {
   "cell_type": "code",
   "execution_count": 22,
   "metadata": {},
   "outputs": [
    {
     "name": "stdout",
     "output_type": "stream",
     "text": [
      "Accuracy Score of Logistic Regression Model WITHOUT dummy variables on Train Set 0.7717647058823529\n",
      "Accuracy Score of Logistic Regression Model WITHOUT dummy variables on Test Set 0.7529411764705882\n",
      "ROC_AUC of Logistic Regression Model WITHOUT dummy variables on Train Set 0.5353135034645935\n",
      "ROC_AUC  of Logistic Regression Model WITHOUT dummy variables on Test Set 0.5291506017058067\n"
     ]
    }
   ],
   "source": [
    "print(\"Accuracy Score of Logistic Regression Model WITHOUT dummy variables on Train Set\",logReg_model.score(X_train,y_train))\n",
    "print(\"Accuracy Score of Logistic Regression Model WITHOUT dummy variables on Test Set\",logReg_model.score(X_test,y_test))\n",
    "print(\"ROC_AUC of Logistic Regression Model WITHOUT dummy variables on Train Set\",roc_auc_score(y_train,y_pred_train))\n",
    "print(\"ROC_AUC  of Logistic Regression Model WITHOUT dummy variables on Test Set\",roc_auc_score(y_test,y_pred_test))"
   ]
  },
  {
   "cell_type": "code",
   "execution_count": 23,
   "metadata": {},
   "outputs": [],
   "source": [
    "df_models_summary=pd.DataFrame({\"Model\":[\"Logistic Regression\"],\"Accuracy Train\":[logReg_model.score(X_train,y_train)],\n",
    "             \"Accuracy Test\":[logReg_model.score(X_test,y_test)],\n",
    "             \"ROC Train\":roc_auc_score(y_train,y_pred_train),\n",
    "            \"ROC Test\":roc_auc_score(y_test,y_pred_test)})"
   ]
  },
  {
   "cell_type": "code",
   "execution_count": 24,
   "metadata": {},
   "outputs": [
    {
     "data": {
      "text/html": [
       "<div>\n",
       "<style scoped>\n",
       "    .dataframe tbody tr th:only-of-type {\n",
       "        vertical-align: middle;\n",
       "    }\n",
       "\n",
       "    .dataframe tbody tr th {\n",
       "        vertical-align: top;\n",
       "    }\n",
       "\n",
       "    .dataframe thead th {\n",
       "        text-align: right;\n",
       "    }\n",
       "</style>\n",
       "<table border=\"1\" class=\"dataframe\">\n",
       "  <thead>\n",
       "    <tr style=\"text-align: right;\">\n",
       "      <th></th>\n",
       "      <th>Model</th>\n",
       "      <th>Accuracy Train</th>\n",
       "      <th>Accuracy Test</th>\n",
       "      <th>ROC Train</th>\n",
       "      <th>ROC Test</th>\n",
       "    </tr>\n",
       "  </thead>\n",
       "  <tbody>\n",
       "    <tr>\n",
       "      <th>0</th>\n",
       "      <td>Logistic Regression</td>\n",
       "      <td>0.7718</td>\n",
       "      <td>0.7529</td>\n",
       "      <td>0.5353</td>\n",
       "      <td>0.5292</td>\n",
       "    </tr>\n",
       "  </tbody>\n",
       "</table>\n",
       "</div>"
      ],
      "text/plain": [
       "                 Model  Accuracy Train  Accuracy Test  ROC Train  ROC Test\n",
       "0  Logistic Regression          0.7718         0.7529     0.5353    0.5292"
      ]
     },
     "execution_count": 24,
     "metadata": {},
     "output_type": "execute_result"
    }
   ],
   "source": [
    "df_models_summary"
   ]
  },
  {
   "cell_type": "markdown",
   "metadata": {},
   "source": [
    "### Classification Report on Test Set "
   ]
  },
  {
   "cell_type": "code",
   "execution_count": 25,
   "metadata": {
    "scrolled": true
   },
   "outputs": [
    {
     "name": "stdout",
     "output_type": "stream",
     "text": [
      "              precision    recall  f1-score   support\n",
      "\n",
      "           0       0.62      0.07      0.13       108\n",
      "           1       0.76      0.98      0.86       317\n",
      "\n",
      "    accuracy                           0.75       425\n",
      "   macro avg       0.69      0.53      0.49       425\n",
      "weighted avg       0.72      0.75      0.67       425\n",
      "\n"
     ]
    }
   ],
   "source": [
    "print(classification_report(y_test,y_pred_test))"
   ]
  },
  {
   "cell_type": "code",
   "execution_count": 26,
   "metadata": {},
   "outputs": [],
   "source": [
    "import pandas as pd\n",
    "y_actu = pd.Series(y_test, name='Actual')\n",
    "y_pred = pd.Series(y_pred_test, name='Predicted')\n",
    "df_confusion = pd.crosstab(y_actu, y_pred)"
   ]
  },
  {
   "cell_type": "code",
   "execution_count": 27,
   "metadata": {},
   "outputs": [
    {
     "data": {
      "text/html": [
       "<div>\n",
       "<style scoped>\n",
       "    .dataframe tbody tr th:only-of-type {\n",
       "        vertical-align: middle;\n",
       "    }\n",
       "\n",
       "    .dataframe tbody tr th {\n",
       "        vertical-align: top;\n",
       "    }\n",
       "\n",
       "    .dataframe thead th {\n",
       "        text-align: right;\n",
       "    }\n",
       "</style>\n",
       "<table border=\"1\" class=\"dataframe\">\n",
       "  <thead>\n",
       "    <tr style=\"text-align: right;\">\n",
       "      <th>Predicted</th>\n",
       "      <th>0</th>\n",
       "      <th>1</th>\n",
       "    </tr>\n",
       "    <tr>\n",
       "      <th>Actual</th>\n",
       "      <th></th>\n",
       "      <th></th>\n",
       "    </tr>\n",
       "  </thead>\n",
       "  <tbody>\n",
       "    <tr>\n",
       "      <th>0</th>\n",
       "      <td>8</td>\n",
       "      <td>100</td>\n",
       "    </tr>\n",
       "    <tr>\n",
       "      <th>1</th>\n",
       "      <td>5</td>\n",
       "      <td>312</td>\n",
       "    </tr>\n",
       "  </tbody>\n",
       "</table>\n",
       "</div>"
      ],
      "text/plain": [
       "Predicted  0    1\n",
       "Actual           \n",
       "0          8  100\n",
       "1          5  312"
      ]
     },
     "execution_count": 27,
     "metadata": {},
     "output_type": "execute_result"
    }
   ],
   "source": [
    "df_confusion"
   ]
  },
  {
   "cell_type": "code",
   "execution_count": 28,
   "metadata": {},
   "outputs": [
    {
     "data": {
      "image/png": "[encoded data removed]",
      "text/plain": [
       "<Figure size 288x288 with 2 Axes>"
      ]
     },
     "metadata": {
      "needs_background": "light"
     },
     "output_type": "display_data"
    }
   ],
   "source": [
    "import matplotlib.pyplot as plt\n",
    "def plot_confusion_matrix(df_confusion, title='Confusion matrix', cmap=plt.cm.gray_r):\n",
    "    plt.matshow(df_confusion, cmap=cmap) # imshow\n",
    "    #plt.title(title)\n",
    "    plt.colorbar()\n",
    "    tick_marks = np.arange(len(df_confusion.columns))\n",
    "    plt.xticks(tick_marks, df_confusion.columns, rotation=45)\n",
    "    plt.yticks(tick_marks, df_confusion.index)\n",
    "    #plt.tight_layout()\n",
    "    plt.ylabel(df_confusion.index.name)\n",
    "    plt.xlabel(df_confusion.columns.name)\n",
    "\n",
    "plot_confusion_matrix(df_confusion)"
   ]
  },
  {
   "cell_type": "markdown",
   "metadata": {},
   "source": [
    "###  2. Random Forest with 10 Cross Validation without dummy variables\n",
    "Target Vaiable: InvGrd"
   ]
  },
  {
   "cell_type": "code",
   "execution_count": 29,
   "metadata": {},
   "outputs": [],
   "source": [
    "del y_pred_train , y_pred_test , y_pred"
   ]
  },
  {
   "cell_type": "code",
   "execution_count": 30,
   "metadata": {},
   "outputs": [],
   "source": [
    "### Random Forest Parameters\n",
    "prameters_for_rfc={'n_estimators': [100,200,300,400,500],\n",
    "          'criterion':['gini','entropy']}"
   ]
  },
  {
   "cell_type": "code",
   "execution_count": 31,
   "metadata": {
    "scrolled": true
   },
   "outputs": [
    {
     "data": {
      "text/plain": [
       "0.7819607843137255"
      ]
     },
     "execution_count": 31,
     "metadata": {},
     "output_type": "execute_result"
    }
   ],
   "source": [
    "### Initiate Random Forest Model With Max Depth=2\n",
    "random_forest_classsifier_model=RandomForestClassifier(random_state=seed,max_depth=3)\n",
    "\n",
    "### Initiate Random Forest Model with 10 Fold Cross Validation\n",
    "random_forest_classsifier_model_gridcv=GridSearchCV(estimator=random_forest_classsifier_model,param_grid=prameters_for_rfc,\n",
    "                                                cv=10,\n",
    "                                               scoring='accuracy')\n",
    "\n",
    "### Fit Random Forest Model with Cross Validation\n",
    "random_forest_classsifier_model_gridcv.fit(X_train,y_train)\n",
    "\n",
    "### Get the Best Score of the cross validate model\n",
    "random_forest_classsifier_model_gridcv.best_score_"
   ]
  },
  {
   "cell_type": "code",
   "execution_count": 32,
   "metadata": {},
   "outputs": [
    {
     "name": "stdout",
     "output_type": "stream",
     "text": [
      "Best Random Forest Model is the one with the following Parameters {'criterion': 'gini', 'n_estimators': 100}\n"
     ]
    }
   ],
   "source": [
    "print(\"Best Random Forest Model is the one with the following Parameters\",random_forest_classsifier_model_gridcv.best_params_)"
   ]
  },
  {
   "cell_type": "markdown",
   "metadata": {},
   "source": [
    "### Selecting Best Random Forest  Model "
   ]
  },
  {
   "cell_type": "code",
   "execution_count": 33,
   "metadata": {},
   "outputs": [
    {
     "data": {
      "text/plain": [
       "RandomForestClassifier(bootstrap=True, class_weight=None, criterion='gini',\n",
       "                       max_depth=3, max_features='auto', max_leaf_nodes=None,\n",
       "                       min_impurity_decrease=0.0, min_impurity_split=None,\n",
       "                       min_samples_leaf=1, min_samples_split=2,\n",
       "                       min_weight_fraction_leaf=0.0, n_estimators=100,\n",
       "                       n_jobs=None, oob_score=False, random_state=42, verbose=0,\n",
       "                       warm_start=False)"
      ]
     },
     "execution_count": 33,
     "metadata": {},
     "output_type": "execute_result"
    }
   ],
   "source": [
    "random_forest_classsifier_model_with_best_param=random_forest_classsifier_model_gridcv.best_estimator_\n",
    "random_forest_classsifier_model_gridcv.best_estimator_"
   ]
  },
  {
   "cell_type": "markdown",
   "metadata": {},
   "source": [
    "#### In Sample Accuracy (Train)"
   ]
  },
  {
   "cell_type": "code",
   "execution_count": 34,
   "metadata": {},
   "outputs": [
    {
     "name": "stdout",
     "output_type": "stream",
     "text": [
      "ROC AUC Sccore of the best RF model on Train Set 0.5925046476254859\n",
      "Accuracy score of best RF on Train 0.8023529411764706\n"
     ]
    }
   ],
   "source": [
    "### Fit to the best Model\n",
    "random_forest_classsifier_model_with_best_param.fit(X_train,y_train)\n",
    "### Training set prediction \n",
    "y_pred_train=random_forest_classsifier_model_with_best_param.predict(X_train)\n",
    "### Training set ROC Score and Accuracy Score\n",
    "print(\"ROC AUC Sccore of the best RF model on Train Set\",roc_auc_score(y_train,y_pred_train))\n",
    "print(\"Accuracy score of best RF on Train\",accuracy_score(y_train,y_pred_train))"
   ]
  },
  {
   "cell_type": "markdown",
   "metadata": {},
   "source": [
    "#### Out Sample Accuracy (Test)"
   ]
  },
  {
   "cell_type": "code",
   "execution_count": 35,
   "metadata": {},
   "outputs": [
    {
     "name": "stdout",
     "output_type": "stream",
     "text": [
      "ROC AUC Sccore of the best RF model on Test Set 0.5693422128753359\n",
      "Accuracy score of best RF on Test 0.7764705882352941\n"
     ]
    }
   ],
   "source": [
    "### Test set ROC Score and Accuracy Score\n",
    "y_pred_test=random_forest_classsifier_model_with_best_param.predict(X_test)\n",
    "print(\"ROC AUC Sccore of the best RF model on Test Set\",roc_auc_score(y_test,y_pred_test))\n",
    "print(\"Accuracy score of best RF on Test\",accuracy_score(y_test,y_pred_test))"
   ]
  },
  {
   "cell_type": "code",
   "execution_count": 36,
   "metadata": {
    "scrolled": true
   },
   "outputs": [
    {
     "data": {
      "text/html": [
       "<div>\n",
       "<style scoped>\n",
       "    .dataframe tbody tr th:only-of-type {\n",
       "        vertical-align: middle;\n",
       "    }\n",
       "\n",
       "    .dataframe tbody tr th {\n",
       "        vertical-align: top;\n",
       "    }\n",
       "\n",
       "    .dataframe thead th {\n",
       "        text-align: right;\n",
       "    }\n",
       "</style>\n",
       "<table border=\"1\" class=\"dataframe\">\n",
       "  <thead>\n",
       "    <tr style=\"text-align: right;\">\n",
       "      <th></th>\n",
       "      <th>Model</th>\n",
       "      <th>Accuracy Train</th>\n",
       "      <th>Accuracy Test</th>\n",
       "      <th>ROC Train</th>\n",
       "      <th>ROC Test</th>\n",
       "    </tr>\n",
       "  </thead>\n",
       "  <tbody>\n",
       "    <tr>\n",
       "      <th>0</th>\n",
       "      <td>Random Forest</td>\n",
       "      <td>0.8024</td>\n",
       "      <td>0.7765</td>\n",
       "      <td>0.5925</td>\n",
       "      <td>0.5693</td>\n",
       "    </tr>\n",
       "  </tbody>\n",
       "</table>\n",
       "</div>"
      ],
      "text/plain": [
       "           Model  Accuracy Train  Accuracy Test  ROC Train  ROC Test\n",
       "0  Random Forest          0.8024         0.7765     0.5925    0.5693"
      ]
     },
     "execution_count": 36,
     "metadata": {},
     "output_type": "execute_result"
    }
   ],
   "source": [
    "pd.DataFrame({\"Model\":[\"Random Forest\"],\"Accuracy Train\":[accuracy_score(y_train,y_pred_train)],\n",
    "             \"Accuracy Test\":[accuracy_score(y_test,y_pred_test)],\n",
    "             \"ROC Train\":roc_auc_score(y_train,y_pred_train),\n",
    "            \"ROC Test\":roc_auc_score(y_test,y_pred_test)})"
   ]
  },
  {
   "cell_type": "code",
   "execution_count": 37,
   "metadata": {},
   "outputs": [],
   "source": [
    "df_models_summary=pd.concat([df_models_summary,pd.DataFrame(\n",
    "    {\"Model\":[\"Random Forest\"],\"Accuracy Train\":[accuracy_score(y_train,y_pred_train)],\n",
    "             \"Accuracy Test\":[accuracy_score(y_test,y_pred_test)],\n",
    "             \"ROC Train\":roc_auc_score(y_train,y_pred_train),\n",
    "            \"ROC Test\":roc_auc_score(y_test,y_pred_test)})])"
   ]
  },
  {
   "cell_type": "code",
   "execution_count": 38,
   "metadata": {},
   "outputs": [
    {
     "data": {
      "text/plain": [
       "array([0.06977861, 0.05635957, 0.07123801, 0.03276124, 0.04432367,\n",
       "       0.00851944, 0.01474779, 0.00761444, 0.008769  , 0.04213864,\n",
       "       0.06794936, 0.02860935, 0.01448993, 0.05124046, 0.02644558,\n",
       "       0.01713333, 0.06076943, 0.07945242, 0.00880084, 0.00610081,\n",
       "       0.03229257, 0.00272128, 0.05465327, 0.06158875, 0.07671441,\n",
       "       0.0547878 ])"
      ]
     },
     "execution_count": 38,
     "metadata": {},
     "output_type": "execute_result"
    }
   ],
   "source": [
    "random_forest_classsifier_model_with_best_param.feature_importances_"
   ]
  },
  {
   "cell_type": "code",
   "execution_count": 39,
   "metadata": {},
   "outputs": [
    {
     "data": {
      "image/png": "[encoded data removed]",
      "text/plain": [
       "<Figure size 432x288 with 1 Axes>"
      ]
     },
     "metadata": {
      "needs_background": "light"
     },
     "output_type": "display_data"
    }
   ],
   "source": [
    "importances_rf=pd.Series(random_forest_classsifier_model_with_best_param.feature_importances_,\n",
    "          index = X_features)\n",
    "# Sort importances_rf\n",
    "sorted_importances_rf = importances_rf.sort_values()\n",
    "# Make a horizontal bar plot\n",
    "sorted_importances_rf.plot(kind='barh', color='lightgreen')\n",
    "plt.show()"
   ]
  },
  {
   "cell_type": "markdown",
   "metadata": {},
   "source": [
    "### 3. SVM\n",
    "Target Vaiable: InvGrd\n",
    "1. kernel='linear'\n",
    "2. kernel='rbf"
   ]
  },
  {
   "cell_type": "code",
   "execution_count": 40,
   "metadata": {},
   "outputs": [],
   "source": [
    "del y_pred_train , y_pred_test"
   ]
  },
  {
   "cell_type": "code",
   "execution_count": 41,
   "metadata": {},
   "outputs": [],
   "source": [
    "### Linear SVM\n",
    "svm_linear_classification=svm.SVC(C=1,gamma='scale',kernel='linear')\n",
    "svm_linear_classification.fit(X_train,y_train)\n",
    "\n",
    "### Linear SVM Prediction\n",
    "y_pred_train=svm_linear_classification.predict(X_train)\n",
    "y_pred_test=svm_linear_classification.predict(X_test)"
   ]
  },
  {
   "cell_type": "code",
   "execution_count": 42,
   "metadata": {},
   "outputs": [
    {
     "name": "stdout",
     "output_type": "stream",
     "text": [
      "Accuracy Score of Linear SVM Model WITHOUT dummy variables on Train Set 0.7686274509803922\n",
      "Accuracy Score of Linear SVM Model WITHOUT dummy variables on Test Set 0.7482352941176471\n",
      "ROC_AUC of Linear SVM Model WITHOUT dummy variables on Train Set 0.5175173229677201\n",
      "ROC_AUC  of Linear SVM Model WITHOUT dummy variables on Test Set 0.5076819721930131\n"
     ]
    }
   ],
   "source": [
    "print(\"Accuracy Score of Linear SVM Model WITHOUT dummy variables on Train Set\",\n",
    "      svm_linear_classification.score(X_train,y_train))\n",
    "\n",
    "print(\"Accuracy Score of Linear SVM Model WITHOUT dummy variables on Test Set\",\n",
    "      svm_linear_classification.score(X_test,y_test))\n",
    "\n",
    "print(\"ROC_AUC of Linear SVM Model WITHOUT dummy variables on Train Set\",\n",
    "      roc_auc_score(y_train,y_pred_train))\n",
    "\n",
    "print(\"ROC_AUC  of Linear SVM Model WITHOUT dummy variables on Test Set\",\n",
    "      roc_auc_score(y_test,y_pred_test))"
   ]
  },
  {
   "cell_type": "code",
   "execution_count": 43,
   "metadata": {},
   "outputs": [],
   "source": [
    "### Models Summary\n",
    "df_models_summary=pd.concat([df_models_summary,pd.DataFrame({\"Model\":[\"SVM Linear\"],\"Accuracy Train\":[svm_linear_classification.score(X_train,y_train)],\n",
    "             \"Accuracy Test\":[svm_linear_classification.score(X_test,y_test)],\n",
    "             \"ROC Train\":roc_auc_score(y_train,y_pred_train),\n",
    "            \"ROC Test\":roc_auc_score(y_test,y_pred_test)})])"
   ]
  },
  {
   "cell_type": "code",
   "execution_count": 44,
   "metadata": {},
   "outputs": [],
   "source": [
    "del y_pred_train , y_pred_test"
   ]
  },
  {
   "cell_type": "code",
   "execution_count": 45,
   "metadata": {},
   "outputs": [],
   "source": [
    "### RBF SVM\n",
    "svm_rfb_classification=svm.SVC(C=2,gamma='scale',kernel='rbf')\n",
    "svm_rfb_classification.fit(X_train,y_train)\n",
    "\n",
    "### RBF SVM prediction\n",
    "y_pred_train=svm_rfb_classification.predict(X_train)\n",
    "y_pred_test=svm_rfb_classification.predict(X_test)"
   ]
  },
  {
   "cell_type": "code",
   "execution_count": 46,
   "metadata": {},
   "outputs": [
    {
     "name": "stdout",
     "output_type": "stream",
     "text": [
      "Accuracy Score of RBF SVM Model WITHOUT dummy variables on Train Set 0.8258823529411765\n",
      "Accuracy Score of RBF SVM Model WITHOUT dummy variables on Test Set 0.7623529411764706\n",
      "ROC_AUC of RBF SVM Model WITHOUT dummy variables on Train Set 0.6439327361838769\n",
      "ROC_AUC of RBF SVM Model WITHOUT dummy variables on Test Set 0.5629308330412431\n"
     ]
    }
   ],
   "source": [
    "print(\"Accuracy Score of RBF SVM Model WITHOUT dummy variables on Train Set\",\n",
    "      svm_rfb_classification.score(X_train,y_train))\n",
    "\n",
    "print(\"Accuracy Score of RBF SVM Model WITHOUT dummy variables on Test Set\",\n",
    "      svm_rfb_classification.score(X_test,y_test))\n",
    "\n",
    "print(\"ROC_AUC of RBF SVM Model WITHOUT dummy variables on Train Set\",\n",
    "      roc_auc_score(y_train,y_pred_train))\n",
    "\n",
    "print(\"ROC_AUC of RBF SVM Model WITHOUT dummy variables on Test Set\",\n",
    "      roc_auc_score(y_test,y_pred_test))"
   ]
  },
  {
   "cell_type": "code",
   "execution_count": 47,
   "metadata": {},
   "outputs": [],
   "source": [
    "df_models_summary=pd.concat([df_models_summary,pd.DataFrame({\"Model\":[\"SVM RFB\"],\n",
    "                                           \"Accuracy Train\":[svm_rfb_classification.score(X_train,y_train)],\n",
    "             \"Accuracy Test\":[svm_rfb_classification.score(X_test,y_test)],\n",
    "             \"ROC Train\":roc_auc_score(y_train,y_pred_train),\n",
    "            \"ROC Test\":roc_auc_score(y_test,y_pred_test)})])"
   ]
  },
  {
   "cell_type": "markdown",
   "metadata": {},
   "source": [
    "### Ensumbling for InvGrd\n",
    "##### 4 Models were fitted for InvGrd  as Target Variable"
   ]
  },
  {
   "cell_type": "code",
   "execution_count": 48,
   "metadata": {},
   "outputs": [],
   "source": [
    "### Linear SVM\n",
    "svm_linear_classification=svm.SVC(C=1,gamma='scale',kernel='linear')\n",
    "### RBF SVM\n",
    "svm_rfb_classification=svm.SVC(C=2,gamma='scale',kernel='rbf')\n",
    "## Logistic Regression\n",
    "logReg_model=LogisticRegression(solver='lbfgs')\n",
    "\n",
    "### Define a list called Classifier that contains the tuples of Instantiatd models\n",
    "classifiers=[(\"Logistic Regression\", logReg_model),\n",
    "            ('SVM RBF', svm_rfb_classification),\n",
    "            (\"SVM Linear\",svm_linear_classification),\n",
    "            (\"Decision Tree Classifier\",random_forest_classsifier_model_gridcv.best_estimator_)]"
   ]
  },
  {
   "cell_type": "code",
   "execution_count": 49,
   "metadata": {},
   "outputs": [
    {
     "name": "stdout",
     "output_type": "stream",
     "text": [
      "('Logistic Regression', 0.7529411764705882)\n",
      "('SVM RBF', 0.7623529411764706)\n",
      "('SVM Linear', 0.7482352941176471)\n",
      "('Decision Tree Classifier', 0.7764705882352941)\n"
     ]
    }
   ],
   "source": [
    "### Iterate over the difined list of tuple containing the classifiers\n",
    "for clf_nam, clf in classifiers:\n",
    "    ### Fit clt to the traning set\n",
    "    clf.fit(X_train,y_train)\n",
    "    ### Predict test\n",
    "    y_pred_test=clf.predict(X_test)\n",
    "    ### Evaluate the accuracy of the clf on the test set\n",
    "    print((clf_nam,accuracy_score(y_test,y_pred_test)))"
   ]
  },
  {
   "cell_type": "code",
   "execution_count": 50,
   "metadata": {},
   "outputs": [
    {
     "name": "stdout",
     "output_type": "stream",
     "text": [
      "Accuracy of Voting Classifier Ensumbled Train 0.8023529411764706\n",
      "Accuracy of Voting Classifier Ensumbled Test 0.7670588235294118\n"
     ]
    }
   ],
   "source": [
    "### Instatitate a VotingClassifier 'vc'\n",
    "vc=VotingClassifier(estimators=classifiers)\n",
    "### Fit the VotingClassifier\n",
    "vc.fit(X_train,y_train)\n",
    "y_pred_train=vc.predict(X_train)\n",
    "y_pred_test=vc.predict(X_test)\n",
    "print(\"Accuracy of Voting Classifier Ensumbled Train\", vc.score(X_train,y_train))\n",
    "print(\"Accuracy of Voting Classifier Ensumbled Test\", vc.score(X_test,y_test))"
   ]
  },
  {
   "cell_type": "code",
   "execution_count": 51,
   "metadata": {
    "scrolled": true
   },
   "outputs": [],
   "source": [
    "df_models_summary=pd.concat([df_models_summary,pd.DataFrame({\"Model\":[\"Voting Classifier Ensumbled\"],\n",
    "                                           \"Accuracy Train\":[vc.score(X_train,y_train)],\n",
    "             \"Accuracy Test\":[vc.score(X_test,y_test)],\n",
    "             \"ROC Train\":[roc_auc_score(y_train,y_pred_train)],\n",
    "            \"ROC Test\":[roc_auc_score(y_test,y_pred_test)]})])\n",
    "           "
   ]
  },
  {
   "cell_type": "code",
   "execution_count": 52,
   "metadata": {},
   "outputs": [
    {
     "data": {
      "text/html": [
       "<div>\n",
       "<style scoped>\n",
       "    .dataframe tbody tr th:only-of-type {\n",
       "        vertical-align: middle;\n",
       "    }\n",
       "\n",
       "    .dataframe tbody tr th {\n",
       "        vertical-align: top;\n",
       "    }\n",
       "\n",
       "    .dataframe thead th {\n",
       "        text-align: right;\n",
       "    }\n",
       "</style>\n",
       "<table border=\"1\" class=\"dataframe\">\n",
       "  <thead>\n",
       "    <tr style=\"text-align: right;\">\n",
       "      <th></th>\n",
       "      <th>Model</th>\n",
       "      <th>Accuracy Train</th>\n",
       "      <th>Accuracy Test</th>\n",
       "      <th>ROC Train</th>\n",
       "      <th>ROC Test</th>\n",
       "    </tr>\n",
       "  </thead>\n",
       "  <tbody>\n",
       "    <tr>\n",
       "      <th>0</th>\n",
       "      <td>Logistic Regression</td>\n",
       "      <td>0.7718</td>\n",
       "      <td>0.7529</td>\n",
       "      <td>0.5353</td>\n",
       "      <td>0.5292</td>\n",
       "    </tr>\n",
       "    <tr>\n",
       "      <th>0</th>\n",
       "      <td>Random Forest</td>\n",
       "      <td>0.8024</td>\n",
       "      <td>0.7765</td>\n",
       "      <td>0.5925</td>\n",
       "      <td>0.5693</td>\n",
       "    </tr>\n",
       "    <tr>\n",
       "      <th>0</th>\n",
       "      <td>SVM Linear</td>\n",
       "      <td>0.7686</td>\n",
       "      <td>0.7482</td>\n",
       "      <td>0.5175</td>\n",
       "      <td>0.5077</td>\n",
       "    </tr>\n",
       "    <tr>\n",
       "      <th>0</th>\n",
       "      <td>SVM RFB</td>\n",
       "      <td>0.8259</td>\n",
       "      <td>0.7624</td>\n",
       "      <td>0.6439</td>\n",
       "      <td>0.5629</td>\n",
       "    </tr>\n",
       "    <tr>\n",
       "      <th>0</th>\n",
       "      <td>Voting Classifier Ensumbled</td>\n",
       "      <td>0.8024</td>\n",
       "      <td>0.7671</td>\n",
       "      <td>0.5880</td>\n",
       "      <td>0.5539</td>\n",
       "    </tr>\n",
       "  </tbody>\n",
       "</table>\n",
       "</div>"
      ],
      "text/plain": [
       "                         Model  Accuracy Train  Accuracy Test  ROC Train  \\\n",
       "0          Logistic Regression          0.7718         0.7529     0.5353   \n",
       "0                Random Forest          0.8024         0.7765     0.5925   \n",
       "0                   SVM Linear          0.7686         0.7482     0.5175   \n",
       "0                      SVM RFB          0.8259         0.7624     0.6439   \n",
       "0  Voting Classifier Ensumbled          0.8024         0.7671     0.5880   \n",
       "\n",
       "   ROC Test  \n",
       "0    0.5292  \n",
       "0    0.5693  \n",
       "0    0.5077  \n",
       "0    0.5629  \n",
       "0    0.5539  "
      ]
     },
     "execution_count": 52,
     "metadata": {},
     "output_type": "execute_result"
    }
   ],
   "source": [
    "df_models_summary"
   ]
  },
  {
   "cell_type": "code",
   "execution_count": 53,
   "metadata": {},
   "outputs": [
    {
     "data": {
      "text/plain": [
       "<matplotlib.axes._subplots.AxesSubplot at 0x162e45c5978>"
      ]
     },
     "execution_count": 53,
     "metadata": {},
     "output_type": "execute_result"
    },
    {
     "data": {
      "image/png": "[encoded data removed]",
      "text/plain": [
       "<Figure size 648x648 with 1 Axes>"
      ]
     },
     "metadata": {
      "needs_background": "light"
     },
     "output_type": "display_data"
    }
   ],
   "source": [
    "df_models_summary.plot(\"Model\",kind='barh',title=\"Models Performance - InvGrd\",figsize=(9,9),legend='reverse')"
   ]
  },
  {
   "cell_type": "markdown",
   "metadata": {},
   "source": [
    "### Conclusion "
   ]
  },
  {
   "cell_type": "code",
   "execution_count": null,
   "metadata": {},
   "outputs": [],
   "source": []
  },
  {
   "cell_type": "code",
   "execution_count": null,
   "metadata": {},
   "outputs": [],
   "source": []
  },
  {
   "cell_type": "code",
   "execution_count": null,
   "metadata": {},
   "outputs": [],
   "source": []
  },
  {
   "cell_type": "markdown",
   "metadata": {},
   "source": [
    "### 1 Logistic Regression\n",
    "Target Vaiable: Rating"
   ]
  },
  {
   "cell_type": "code",
   "execution_count": 54,
   "metadata": {},
   "outputs": [],
   "source": [
    "del X_train,X_test,y_train, y_test , y_pred_test, y_pred_train , logReg_model"
   ]
  },
  {
   "cell_type": "code",
   "execution_count": 55,
   "metadata": {
    "scrolled": true
   },
   "outputs": [],
   "source": [
    "y=df_credit[\"Rating\"].values\n",
    "### Train and Test\n",
    "X_train,X_test,y_train,y_test=train_test_split(X,y,test_size=0.25,random_state=seed)"
   ]
  },
  {
   "cell_type": "code",
   "execution_count": 56,
   "metadata": {},
   "outputs": [],
   "source": [
    "## Fit the Model\n",
    "logReg_model=LogisticRegression(solver='newton-cg',multi_class ='multinomial')\n",
    "logReg_model.fit(X_train,y_train)\n",
    "### Predict\n",
    "y_pred_train=logReg_model.predict(X_train)\n",
    "y_pred_test=logReg_model.predict(X_test)"
   ]
  },
  {
   "cell_type": "code",
   "execution_count": 57,
   "metadata": {
    "scrolled": true
   },
   "outputs": [
    {
     "name": "stdout",
     "output_type": "stream",
     "text": [
      "Accuracy Score of Logistic Regression Model WITHOUT dummy variables on Train Set 0.2627450980392157\n",
      "Accuracy Score of Logistic Regression Model WITHOUT dummy variables on Test Set 0.2023529411764706\n"
     ]
    }
   ],
   "source": [
    "print(\"Accuracy Score of Logistic Regression Model WITHOUT dummy variables on Train Set\",logReg_model.score(X_train,y_train))\n",
    "print(\"Accuracy Score of Logistic Regression Model WITHOUT dummy variables on Test Set\",logReg_model.score(X_test,y_test))"
   ]
  },
  {
   "cell_type": "code",
   "execution_count": 58,
   "metadata": {},
   "outputs": [],
   "source": [
    "#logReg_model.score(X_test,y_test)\n",
    "df_models_summary_rating=pd.DataFrame({\"Model\":\"Logistic Regression\",\n",
    "              \"Train Accuracy Score\":[logReg_model.score(X_train,y_train)],\n",
    "             \"Test Accuracy Score\":[logReg_model.score(X_train,y_train)]})"
   ]
  },
  {
   "cell_type": "markdown",
   "metadata": {},
   "source": [
    "### 2 Random Forest\n",
    "Target Vaiable: Rating"
   ]
  },
  {
   "cell_type": "code",
   "execution_count": 59,
   "metadata": {},
   "outputs": [],
   "source": [
    "del  y_pred_test, y_pred_train"
   ]
  },
  {
   "cell_type": "code",
   "execution_count": 60,
   "metadata": {},
   "outputs": [],
   "source": [
    "del random_forest_classsifier_model_gridcv, random_forest_classsifier_model"
   ]
  },
  {
   "cell_type": "code",
   "execution_count": 61,
   "metadata": {},
   "outputs": [],
   "source": [
    "### Random Forest Parameters\n",
    "prameters_for_rfc={'n_estimators': [100,200,300,400,500],\n",
    "          'criterion':['gini','entropy'],\n",
    "                  'max_depth':[1,2,3,4,5,6,7,8,9,10,11,12,13,14]}"
   ]
  },
  {
   "cell_type": "code",
   "execution_count": 62,
   "metadata": {},
   "outputs": [
    {
     "data": {
      "text/plain": [
       "0.48464144926252384"
      ]
     },
     "execution_count": 62,
     "metadata": {},
     "output_type": "execute_result"
    }
   ],
   "source": [
    "### Initiate Random Forest Model With Max Depth=2\n",
    "random_forest_classsifier_model=RandomForestClassifier(random_state=seed)\n",
    "\n",
    "### Initiate Random Forest Model with 10 Fold Cross Validation\n",
    "random_forest_classsifier_model_gridcv=GridSearchCV(estimator=random_forest_classsifier_model,param_grid=prameters_for_rfc,\n",
    "                                                cv=2,iid=False,\n",
    "                                               scoring='accuracy')\n",
    "\n",
    "### Fit Random Forest Model with Cross Validation\n",
    "random_forest_classsifier_model_gridcv.fit(X_train,y_train)\n",
    "\n",
    "### Get the Best Score of the cross validate model\n",
    "random_forest_classsifier_model_gridcv.best_score_"
   ]
  },
  {
   "cell_type": "code",
   "execution_count": 63,
   "metadata": {
    "scrolled": false
   },
   "outputs": [
    {
     "name": "stdout",
     "output_type": "stream",
     "text": [
      "Best Random Forest Model is the one with the following Parameters\n",
      " {'criterion': 'entropy', 'max_depth': 14, 'n_estimators': 500}\n"
     ]
    }
   ],
   "source": [
    "print(\"Best Random Forest Model is the one with the following Parameters\\n\",\n",
    "      random_forest_classsifier_model_gridcv.best_params_)"
   ]
  },
  {
   "cell_type": "markdown",
   "metadata": {},
   "source": [
    "### Selecting best Random Forest model "
   ]
  },
  {
   "cell_type": "code",
   "execution_count": 64,
   "metadata": {
    "scrolled": true
   },
   "outputs": [
    {
     "data": {
      "text/plain": [
       "RandomForestClassifier(bootstrap=True, class_weight=None, criterion='entropy',\n",
       "                       max_depth=14, max_features='auto', max_leaf_nodes=None,\n",
       "                       min_impurity_decrease=0.0, min_impurity_split=None,\n",
       "                       min_samples_leaf=1, min_samples_split=2,\n",
       "                       min_weight_fraction_leaf=0.0, n_estimators=500,\n",
       "                       n_jobs=None, oob_score=False, random_state=42, verbose=0,\n",
       "                       warm_start=False)"
      ]
     },
     "execution_count": 64,
     "metadata": {},
     "output_type": "execute_result"
    }
   ],
   "source": [
    "random_forest_classsifier_model_with_best_param=random_forest_classsifier_model_gridcv.best_estimator_\n",
    "random_forest_classsifier_model_gridcv.best_estimator_"
   ]
  },
  {
   "cell_type": "markdown",
   "metadata": {},
   "source": [
    "#### In Sample Accuracy (Train)"
   ]
  },
  {
   "cell_type": "code",
   "execution_count": 65,
   "metadata": {
    "scrolled": true
   },
   "outputs": [
    {
     "name": "stdout",
     "output_type": "stream",
     "text": [
      "Accuracy Sccore of the best model on Training Set 1.0\n"
     ]
    }
   ],
   "source": [
    "### Fit to the best Model\n",
    "random_forest_classsifier_model_with_best_param.fit(X_train,y_train)\n",
    "### Training set prediction \n",
    "y_pred_train=random_forest_classsifier_model_with_best_param.predict(X_train)\n",
    "### Training set ROC Score \n",
    "print(\"Accuracy Sccore of the best model on Training Set\",\n",
    "      random_forest_classsifier_model_with_best_param.score(X_train,y_train))"
   ]
  },
  {
   "cell_type": "markdown",
   "metadata": {},
   "source": [
    "#### Out Sample Accuracy (Test)"
   ]
  },
  {
   "cell_type": "code",
   "execution_count": 66,
   "metadata": {},
   "outputs": [
    {
     "name": "stdout",
     "output_type": "stream",
     "text": [
      "Accuracy Score of the best model on Test Set 0.6447058823529411\n"
     ]
    }
   ],
   "source": [
    "y_pred_test=random_forest_classsifier_model_with_best_param.predict(X_test)\n",
    "print(\"Accuracy Score of the best model on Test Set\",\n",
    "      random_forest_classsifier_model_with_best_param.score(X_test,y_test))"
   ]
  },
  {
   "cell_type": "code",
   "execution_count": 67,
   "metadata": {},
   "outputs": [],
   "source": [
    "df_models_summary_rating=pd.concat([df_models_summary_rating,pd.DataFrame({\"Model\":\"Random Forest\",\n",
    "              \"Train Accuracy Score\":[random_forest_classsifier_model_with_best_param.score(X_train,y_train)],\n",
    "             \"Test Accuracy Score\":[random_forest_classsifier_model_with_best_param.score(X_test,y_test)]})])"
   ]
  },
  {
   "cell_type": "markdown",
   "metadata": {},
   "source": [
    "### Are we overfitting? "
   ]
  },
  {
   "cell_type": "markdown",
   "metadata": {},
   "source": [
    "It seems we may be overfitting the model by selecting high number of max depth (more than 10) for the trees and the big diffrence between in sample accuracy vs out of sample accuracy. So we are investiating that here below"
   ]
  },
  {
   "cell_type": "markdown",
   "metadata": {},
   "source": [
    "##### Random Models Fitted Preformance"
   ]
  },
  {
   "cell_type": "code",
   "execution_count": 68,
   "metadata": {
    "scrolled": true
   },
   "outputs": [],
   "source": [
    "df_models_summary_rating_rf=pd.merge(pd.DataFrame(random_forest_classsifier_model_gridcv.cv_results_['params']).reset_index(),\n",
    "         pd.DataFrame({\"mean_test_score\":(list(\n",
    "    random_forest_classsifier_model_gridcv.cv_results_['mean_test_score']))}).reset_index(),\n",
    "         left_on=\"index\",right_on=\"index\",how=\"left\").drop(\"index\",axis=1)\n",
    "df_models_summary_rating_rf[\"Model\"]=\"Random Forest\""
   ]
  },
  {
   "cell_type": "code",
   "execution_count": 69,
   "metadata": {},
   "outputs": [
    {
     "data": {
      "text/html": [
       "<div>\n",
       "<style scoped>\n",
       "    .dataframe tbody tr th:only-of-type {\n",
       "        vertical-align: middle;\n",
       "    }\n",
       "\n",
       "    .dataframe tbody tr th {\n",
       "        vertical-align: top;\n",
       "    }\n",
       "\n",
       "    .dataframe thead th {\n",
       "        text-align: right;\n",
       "    }\n",
       "</style>\n",
       "<table border=\"1\" class=\"dataframe\">\n",
       "  <thead>\n",
       "    <tr style=\"text-align: right;\">\n",
       "      <th></th>\n",
       "      <th>criterion</th>\n",
       "      <th>max_depth</th>\n",
       "      <th>n_estimators</th>\n",
       "      <th>mean_test_score</th>\n",
       "      <th>Model</th>\n",
       "    </tr>\n",
       "  </thead>\n",
       "  <tbody>\n",
       "    <tr>\n",
       "      <th>0</th>\n",
       "      <td>gini</td>\n",
       "      <td>1</td>\n",
       "      <td>100</td>\n",
       "      <td>0.1945</td>\n",
       "      <td>Random Forest</td>\n",
       "    </tr>\n",
       "    <tr>\n",
       "      <th>1</th>\n",
       "      <td>gini</td>\n",
       "      <td>1</td>\n",
       "      <td>200</td>\n",
       "      <td>0.1961</td>\n",
       "      <td>Random Forest</td>\n",
       "    </tr>\n",
       "  </tbody>\n",
       "</table>\n",
       "</div>"
      ],
      "text/plain": [
       "  criterion  max_depth  n_estimators  mean_test_score          Model\n",
       "0      gini          1           100           0.1945  Random Forest\n",
       "1      gini          1           200           0.1961  Random Forest"
      ]
     },
     "execution_count": 69,
     "metadata": {},
     "output_type": "execute_result"
    }
   ],
   "source": [
    "df_models_summary_rating_rf.head(2)"
   ]
  },
  {
   "cell_type": "code",
   "execution_count": 70,
   "metadata": {
    "scrolled": true
   },
   "outputs": [],
   "source": [
    "list_of_train_score=[]\n",
    "for cir, depth, n_tree in zip(\n",
    "    list(df_models_summary_rating_rf[\"criterion\"]),\n",
    "    list(df_models_summary_rating_rf[\"max_depth\"]),\n",
    "   list(df_models_summary_rating_rf[\"n_estimators\"])):\n",
    "    dt=RandomForestClassifier(random_state=seed,criterion=cir,\n",
    "                          max_depth=depth,n_estimators=n_tree,)\n",
    "    dt.fit(X_train,y_train)\n",
    "    list_of_train_score.append(dt.score(X_train,y_train))"
   ]
  },
  {
   "cell_type": "code",
   "execution_count": 71,
   "metadata": {},
   "outputs": [],
   "source": [
    "df_models_summary_rating_rf[\"Train Accuracy Score\"]=list_of_train_score"
   ]
  },
  {
   "cell_type": "code",
   "execution_count": 72,
   "metadata": {
    "scrolled": true
   },
   "outputs": [
    {
     "data": {
      "text/html": [
       "<div>\n",
       "<style scoped>\n",
       "    .dataframe tbody tr th:only-of-type {\n",
       "        vertical-align: middle;\n",
       "    }\n",
       "\n",
       "    .dataframe tbody tr th {\n",
       "        vertical-align: top;\n",
       "    }\n",
       "\n",
       "    .dataframe thead th {\n",
       "        text-align: right;\n",
       "    }\n",
       "</style>\n",
       "<table border=\"1\" class=\"dataframe\">\n",
       "  <thead>\n",
       "    <tr style=\"text-align: right;\">\n",
       "      <th></th>\n",
       "      <th>criterion</th>\n",
       "      <th>max_depth</th>\n",
       "      <th>n_estimators</th>\n",
       "      <th>mean_test_score</th>\n",
       "      <th>Model</th>\n",
       "      <th>Train Accuracy Score</th>\n",
       "    </tr>\n",
       "  </thead>\n",
       "  <tbody>\n",
       "    <tr>\n",
       "      <th>139</th>\n",
       "      <td>entropy</td>\n",
       "      <td>14</td>\n",
       "      <td>500</td>\n",
       "      <td>0.4846</td>\n",
       "      <td>Random Forest</td>\n",
       "      <td>1.0000</td>\n",
       "    </tr>\n",
       "    <tr>\n",
       "      <th>134</th>\n",
       "      <td>entropy</td>\n",
       "      <td>13</td>\n",
       "      <td>500</td>\n",
       "      <td>0.4807</td>\n",
       "      <td>Random Forest</td>\n",
       "      <td>0.9992</td>\n",
       "    </tr>\n",
       "    <tr>\n",
       "      <th>69</th>\n",
       "      <td>gini</td>\n",
       "      <td>14</td>\n",
       "      <td>500</td>\n",
       "      <td>0.4799</td>\n",
       "      <td>Random Forest</td>\n",
       "      <td>0.9984</td>\n",
       "    </tr>\n",
       "    <tr>\n",
       "      <th>64</th>\n",
       "      <td>gini</td>\n",
       "      <td>13</td>\n",
       "      <td>500</td>\n",
       "      <td>0.4776</td>\n",
       "      <td>Random Forest</td>\n",
       "      <td>0.9929</td>\n",
       "    </tr>\n",
       "    <tr>\n",
       "      <th>133</th>\n",
       "      <td>entropy</td>\n",
       "      <td>13</td>\n",
       "      <td>400</td>\n",
       "      <td>0.4768</td>\n",
       "      <td>Random Forest</td>\n",
       "      <td>0.9992</td>\n",
       "    </tr>\n",
       "  </tbody>\n",
       "</table>\n",
       "</div>"
      ],
      "text/plain": [
       "    criterion  max_depth  n_estimators  mean_test_score          Model  \\\n",
       "139   entropy         14           500           0.4846  Random Forest   \n",
       "134   entropy         13           500           0.4807  Random Forest   \n",
       "69       gini         14           500           0.4799  Random Forest   \n",
       "64       gini         13           500           0.4776  Random Forest   \n",
       "133   entropy         13           400           0.4768  Random Forest   \n",
       "\n",
       "     Train Accuracy Score  \n",
       "139                1.0000  \n",
       "134                0.9992  \n",
       "69                 0.9984  \n",
       "64                 0.9929  \n",
       "133                0.9992  "
      ]
     },
     "execution_count": 72,
     "metadata": {},
     "output_type": "execute_result"
    }
   ],
   "source": [
    "df_models_summary_rating_rf.sort_values([\"mean_test_score\"],ascending=False).head()"
   ]
  },
  {
   "cell_type": "code",
   "execution_count": 73,
   "metadata": {},
   "outputs": [
    {
     "data": {
      "text/plain": [
       "<matplotlib.axes._subplots.AxesSubplot at 0x162e30e0cf8>"
      ]
     },
     "execution_count": 73,
     "metadata": {},
     "output_type": "execute_result"
    },
    {
     "data": {
      "image/png": "[encoded data removed]",
      "text/plain": [
       "<Figure size 432x288 with 1 Axes>"
      ]
     },
     "metadata": {
      "needs_background": "light"
     },
     "output_type": "display_data"
    }
   ],
   "source": [
    "df_models_summary_rating_rf.plot(y=[\"mean_test_score\",\"Train Accuracy Score\"],x=\"max_depth\")"
   ]
  },
  {
   "cell_type": "markdown",
   "metadata": {},
   "source": [
    "Our analysis shows its the nature of the data that requiers lagre number of max depth for improvment and we are not overfitting as we the accurcy of the train and test are increasing together as the number of max depth are growing."
   ]
  },
  {
   "cell_type": "markdown",
   "metadata": {},
   "source": [
    "### SVM\n",
    "Target Vaiable: Rating"
   ]
  },
  {
   "cell_type": "code",
   "execution_count": 74,
   "metadata": {},
   "outputs": [],
   "source": [
    "del y_pred_train , y_pred_test"
   ]
  },
  {
   "cell_type": "code",
   "execution_count": 75,
   "metadata": {},
   "outputs": [],
   "source": [
    "### RBF SVM\n",
    "svm_classification=svm.SVC(gamma='auto')"
   ]
  },
  {
   "cell_type": "code",
   "execution_count": 76,
   "metadata": {
    "scrolled": true
   },
   "outputs": [
    {
     "name": "stdout",
     "output_type": "stream",
     "text": [
      "Best SVM Model is SVC(C=9, cache_size=200, class_weight=None, coef0=0.0,\n",
      "    decision_function_shape='ovr', degree=3, gamma='auto', kernel='rbf',\n",
      "    max_iter=-1, probability=False, random_state=None, shrinking=True,\n",
      "    tol=0.001, verbose=False)\n"
     ]
    }
   ],
   "source": [
    "### RBF Parameters\n",
    "prameters_for_SVM={'C':range(1,10),\n",
    "          'kernel':['rbf','linear']}\n",
    "### Fit the model \n",
    "svm_classification_gridcv=GridSearchCV(estimator=svm_classification,param_grid=prameters_for_SVM,\n",
    "                                                cv=2,\n",
    "                                               scoring='accuracy')\n",
    "svm_classification_gridcv.fit(X_train,y_train)\n",
    "print(\"Best SVM Model is\",svm_classification_gridcv.best_estimator_)"
   ]
  },
  {
   "cell_type": "code",
   "execution_count": 77,
   "metadata": {},
   "outputs": [],
   "source": [
    "df_models_summary_rating=pd.concat([df_models_summary_rating,pd.DataFrame({\"Model\":\"SVM\",\n",
    "              \"Train Accuracy Score\":[svm_classification_gridcv.score(X_train,y_train)],\n",
    "             \"Test Accuracy Score\":[svm_classification_gridcv.score(X_test,y_test)]})])"
   ]
  },
  {
   "cell_type": "code",
   "execution_count": 78,
   "metadata": {},
   "outputs": [
    {
     "data": {
      "text/html": [
       "<div>\n",
       "<style scoped>\n",
       "    .dataframe tbody tr th:only-of-type {\n",
       "        vertical-align: middle;\n",
       "    }\n",
       "\n",
       "    .dataframe tbody tr th {\n",
       "        vertical-align: top;\n",
       "    }\n",
       "\n",
       "    .dataframe thead th {\n",
       "        text-align: right;\n",
       "    }\n",
       "</style>\n",
       "<table border=\"1\" class=\"dataframe\">\n",
       "  <thead>\n",
       "    <tr style=\"text-align: right;\">\n",
       "      <th></th>\n",
       "      <th>Model</th>\n",
       "      <th>Train Accuracy Score</th>\n",
       "      <th>Test Accuracy Score</th>\n",
       "    </tr>\n",
       "  </thead>\n",
       "  <tbody>\n",
       "    <tr>\n",
       "      <th>0</th>\n",
       "      <td>Logistic Regression</td>\n",
       "      <td>0.2627</td>\n",
       "      <td>0.2627</td>\n",
       "    </tr>\n",
       "    <tr>\n",
       "      <th>0</th>\n",
       "      <td>Random Forest</td>\n",
       "      <td>1.0000</td>\n",
       "      <td>0.6447</td>\n",
       "    </tr>\n",
       "    <tr>\n",
       "      <th>0</th>\n",
       "      <td>SVM</td>\n",
       "      <td>0.4235</td>\n",
       "      <td>0.2800</td>\n",
       "    </tr>\n",
       "  </tbody>\n",
       "</table>\n",
       "</div>"
      ],
      "text/plain": [
       "                 Model  Train Accuracy Score  Test Accuracy Score\n",
       "0  Logistic Regression                0.2627               0.2627\n",
       "0        Random Forest                1.0000               0.6447\n",
       "0                  SVM                0.4235               0.2800"
      ]
     },
     "execution_count": 78,
     "metadata": {},
     "output_type": "execute_result"
    }
   ],
   "source": [
    "df_models_summary_rating"
   ]
  },
  {
   "cell_type": "markdown",
   "metadata": {},
   "source": [
    "### Ensumbling for Rating\n",
    "##### 3 Models were fitted for Rating as  Target Variable"
   ]
  },
  {
   "cell_type": "code",
   "execution_count": 79,
   "metadata": {},
   "outputs": [],
   "source": [
    "### Define a list called Classifier that contains the tuples of Instantiatd models\n",
    "logReg_model=LogisticRegression(solver='newton-cg',multi_class ='multinomial')\n",
    "classifiers=[(\"Logistic Regression\", logReg_model),\n",
    "            (\"SVM Classification\",svm_classification_gridcv.best_estimator_),\n",
    "            (\"Decision Tree Classifier\",random_forest_classsifier_model_gridcv.best_estimator_)]"
   ]
  },
  {
   "cell_type": "code",
   "execution_count": 80,
   "metadata": {},
   "outputs": [
    {
     "name": "stdout",
     "output_type": "stream",
     "text": [
      "('Logistic Regression', 0.2023529411764706)\n",
      "('SVM Classification', 0.28)\n",
      "('Decision Tree Classifier', 0.6447058823529411)\n"
     ]
    }
   ],
   "source": [
    "### Iterate over the difined list of tuple containing the classifiers\n",
    "for clf_nam, clf in classifiers:\n",
    "    ### Fit clt to the traning set\n",
    "    clf.fit(X_train,y_train)\n",
    "    ### Predict test\n",
    "    y_pred_test=clf.predict(X_test)\n",
    "    ### Evaluate the accuracy of the clf on the test set\n",
    "    print((clf_nam,accuracy_score(y_test,y_pred_test)))"
   ]
  },
  {
   "cell_type": "code",
   "execution_count": 81,
   "metadata": {},
   "outputs": [
    {
     "name": "stdout",
     "output_type": "stream",
     "text": [
      "Accuracy of Voting Classifier Ensumbled Rating Train 0.6603921568627451\n",
      "Accuracy of Voting Classifier Ensumbled Rating Test 0.4211764705882353\n"
     ]
    }
   ],
   "source": [
    "### Instatitate a VotingClassifier 'vc'\n",
    "vc=VotingClassifier(estimators=classifiers)\n",
    "### Fit the VotingClassifier\n",
    "vc.fit(X_train,y_train)\n",
    "y_pred_train=vc.predict(X_train)\n",
    "y_pred_test=vc.predict(X_test)\n",
    "print(\"Accuracy of Voting Classifier Ensumbled Rating Train\", vc.score(X_train,y_train))\n",
    "print(\"Accuracy of Voting Classifier Ensumbled Rating Test\", vc.score(X_test,y_test))"
   ]
  },
  {
   "cell_type": "code",
   "execution_count": 86,
   "metadata": {
    "scrolled": true
   },
   "outputs": [
    {
     "data": {
      "text/html": [
       "<div>\n",
       "<style scoped>\n",
       "    .dataframe tbody tr th:only-of-type {\n",
       "        vertical-align: middle;\n",
       "    }\n",
       "\n",
       "    .dataframe tbody tr th {\n",
       "        vertical-align: top;\n",
       "    }\n",
       "\n",
       "    .dataframe thead th {\n",
       "        text-align: right;\n",
       "    }\n",
       "</style>\n",
       "<table border=\"1\" class=\"dataframe\">\n",
       "  <thead>\n",
       "    <tr style=\"text-align: right;\">\n",
       "      <th></th>\n",
       "      <th>Model</th>\n",
       "      <th>Train Accuracy Score</th>\n",
       "      <th>Test Accuracy Score</th>\n",
       "    </tr>\n",
       "  </thead>\n",
       "  <tbody>\n",
       "    <tr>\n",
       "      <th>0</th>\n",
       "      <td>Logistic Regression</td>\n",
       "      <td>0.2627</td>\n",
       "      <td>0.2627</td>\n",
       "    </tr>\n",
       "    <tr>\n",
       "      <th>0</th>\n",
       "      <td>Random Forest</td>\n",
       "      <td>1.0000</td>\n",
       "      <td>0.6447</td>\n",
       "    </tr>\n",
       "    <tr>\n",
       "      <th>0</th>\n",
       "      <td>SVM</td>\n",
       "      <td>0.4235</td>\n",
       "      <td>0.2800</td>\n",
       "    </tr>\n",
       "    <tr>\n",
       "      <th>0</th>\n",
       "      <td>Voting Classifier Ensumbled Rating</td>\n",
       "      <td>0.6604</td>\n",
       "      <td>0.4212</td>\n",
       "    </tr>\n",
       "  </tbody>\n",
       "</table>\n",
       "</div>"
      ],
      "text/plain": [
       "                                Model  Train Accuracy Score  \\\n",
       "0                 Logistic Regression                0.2627   \n",
       "0                       Random Forest                1.0000   \n",
       "0                                 SVM                0.4235   \n",
       "0  Voting Classifier Ensumbled Rating                0.6604   \n",
       "\n",
       "   Test Accuracy Score  \n",
       "0               0.2627  \n",
       "0               0.6447  \n",
       "0               0.2800  \n",
       "0               0.4212  "
      ]
     },
     "execution_count": 86,
     "metadata": {},
     "output_type": "execute_result"
    }
   ],
   "source": [
    "df_models_summary_rating=pd.concat([df_models_summary_rating,pd.DataFrame({\"Model\":[\"Voting Classifier Ensumbled Rating\"],\n",
    "                                           \"Train Accuracy Score\":[vc.score(X_train,y_train)],\n",
    "             \"Test Accuracy Score\":[vc.score(X_test,y_test)]})],sort=False)\n",
    "df_models_summary_rating"
   ]
  },
  {
   "cell_type": "code",
   "execution_count": 87,
   "metadata": {},
   "outputs": [
    {
     "data": {
      "text/plain": [
       "<matplotlib.axes._subplots.AxesSubplot at 0x162f2db2438>"
      ]
     },
     "execution_count": 87,
     "metadata": {},
     "output_type": "execute_result"
    },
    {
     "data": {
      "image/png": "[encoded data removed]",
      "text/plain": [
       "<Figure size 648x648 with 1 Axes>"
      ]
     },
     "metadata": {
      "needs_background": "light"
     },
     "output_type": "display_data"
    }
   ],
   "source": [
    "df_models_summary_rating.plot(\"Model\",kind='barh',title=\"Models Performance - Rating\",figsize=(9,9),legend='reverse')"
   ]
  },
  {
   "cell_type": "code",
   "execution_count": null,
   "metadata": {},
   "outputs": [],
   "source": []
  },
  {
   "cell_type": "code",
   "execution_count": null,
   "metadata": {},
   "outputs": [],
   "source": []
  },
  {
   "cell_type": "code",
   "execution_count": null,
   "metadata": {},
   "outputs": [],
   "source": []
  }
 ],
 "metadata": {
  "kernelspec": {
   "display_name": "Python 3",
   "language": "python",
   "name": "python3"
  },
  "language_info": {
   "codemirror_mode": {
    "name": "ipython",
    "version": 3
   },
   "file_extension": ".py",
   "mimetype": "text/x-python",
   "name": "python",
   "nbconvert_exporter": "python",
   "pygments_lexer": "ipython3",
   "version": "3.7.3"
  }
 },
 "nbformat": 4,
 "nbformat_minor": 2
}
